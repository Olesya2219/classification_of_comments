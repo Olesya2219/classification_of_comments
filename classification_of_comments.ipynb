{
 "cells": [
  {
   "cell_type": "markdown",
   "metadata": {
    "toc": true
   },
   "source": [
    "<h1>Содержание<span class=\"tocSkip\"></span></h1>\n",
    "<div class=\"toc\"><ul class=\"toc-item\"><li><span><a href=\"#Подготовка\" data-toc-modified-id=\"Подготовка-1\"><span class=\"toc-item-num\">1&nbsp;&nbsp;</span>Подготовка</a></span></li><li><span><a href=\"#Обучение\" data-toc-modified-id=\"Обучение-2\"><span class=\"toc-item-num\">2&nbsp;&nbsp;</span>Обучение</a></span><ul class=\"toc-item\"><li><span><a href=\"#SGDClassifier\" data-toc-modified-id=\"SGDClassifier-2.1\"><span class=\"toc-item-num\">2.1&nbsp;&nbsp;</span>SGDClassifier</a></span></li><li><span><a href=\"#Random-Forest\" data-toc-modified-id=\"Random-Forest-2.2\"><span class=\"toc-item-num\">2.2&nbsp;&nbsp;</span>Random Forest</a></span></li><li><span><a href=\"#CatBoost\" data-toc-modified-id=\"CatBoost-2.3\"><span class=\"toc-item-num\">2.3&nbsp;&nbsp;</span>CatBoost</a></span></li><li><span><a href=\"#Подбор-гиперпараметров\" data-toc-modified-id=\"Подбор-гиперпараметров-2.4\"><span class=\"toc-item-num\">2.4&nbsp;&nbsp;</span>Подбор гиперпараметров</a></span></li></ul></li><li><span><a href=\"#Выводы\" data-toc-modified-id=\"Выводы-3\"><span class=\"toc-item-num\">3&nbsp;&nbsp;</span>Выводы</a></span></li></ul></div>"
   ]
  },
  {
   "cell_type": "markdown",
   "metadata": {},
   "source": [
    "# Классификация комментариев"
   ]
  },
  {
   "cell_type": "markdown",
   "metadata": {},
   "source": [
    "Для классификации комментариев интернет-магазина необходимо создать модель, которая будет искать токсичные комментарии и отправлять их на модерацию.\n",
    "\n",
    "Нужно построить модель со значением метрики качества *F1* не меньше 0.75. \n",
    "\n",
    "**Описание данных**\n",
    "\n",
    "Данные находятся в файле `toxic_comments.csv`. Столбец *text* в нём содержит текст комментария, а *toxic* — целевой признак.\n",
    "\n",
    "**Цель проекта:**  построить модель для классификации комментариев на позитивные и негативные.\n",
    "\n",
    "<br>**Задачи исследования:**\n",
    "<br>1.Изучить исходные данные и выполнить их предобработку.\n",
    "<br>2.Построение модели.\n",
    "<br>3.Сделать общий вывод."
   ]
  },
  {
   "cell_type": "markdown",
   "metadata": {},
   "source": [
    "## Подготовка"
   ]
  },
  {
   "cell_type": "code",
   "execution_count": 69,
   "metadata": {},
   "outputs": [],
   "source": [
    "import pandas as pd\n",
    "from pymystem3 import Mystem\n",
    "import numpy as np\n",
    "import seaborn as sns\n",
    "import re\n",
    "from nltk.stem import WordNetLemmatizer\n",
    "from sklearn.feature_extraction.text import CountVectorizer \n",
    "from nltk.corpus import stopwords \n",
    "from sklearn.feature_extraction.text import TfidfVectorizer\n",
    "from nltk.corpus import wordnet\n",
    "import nltk\n",
    "import optuna\n",
    "from sklearn.model_selection import train_test_split\n",
    "import matplotlib.pyplot as plt\n",
    "\n",
    "from sklearn.ensemble import RandomForestClassifier\n",
    "from catboost import CatBoostClassifier\n",
    "from sklearn.linear_model import SGDClassifier\n",
    "\n",
    "from sklearn.model_selection import GridSearchCV\n",
    "from sklearn.metrics import f1_score\n",
    "from sklearn.metrics import confusion_matrix\n",
    "from sklearn.pipeline import Pipeline"
   ]
  },
  {
   "cell_type": "code",
   "execution_count": 25,
   "metadata": {},
   "outputs": [],
   "source": [
    "data = pd.read_csv('/datasets/toxic_comments.csv')"
   ]
  },
  {
   "cell_type": "code",
   "execution_count": 26,
   "metadata": {},
   "outputs": [
    {
     "data": {
      "text/plain": [
       "(159571, 2)"
      ]
     },
     "execution_count": 26,
     "metadata": {},
     "output_type": "execute_result"
    }
   ],
   "source": [
    "data.shape"
   ]
  },
  {
   "cell_type": "code",
   "execution_count": 27,
   "metadata": {},
   "outputs": [
    {
     "data": {
      "text/html": [
       "<div>\n",
       "<style scoped>\n",
       "    .dataframe tbody tr th:only-of-type {\n",
       "        vertical-align: middle;\n",
       "    }\n",
       "\n",
       "    .dataframe tbody tr th {\n",
       "        vertical-align: top;\n",
       "    }\n",
       "\n",
       "    .dataframe thead th {\n",
       "        text-align: right;\n",
       "    }\n",
       "</style>\n",
       "<table border=\"1\" class=\"dataframe\">\n",
       "  <thead>\n",
       "    <tr style=\"text-align: right;\">\n",
       "      <th></th>\n",
       "      <th>text</th>\n",
       "      <th>toxic</th>\n",
       "    </tr>\n",
       "  </thead>\n",
       "  <tbody>\n",
       "    <tr>\n",
       "      <th>0</th>\n",
       "      <td>Explanation\\nWhy the edits made under my usern...</td>\n",
       "      <td>0</td>\n",
       "    </tr>\n",
       "    <tr>\n",
       "      <th>1</th>\n",
       "      <td>D'aww! He matches this background colour I'm s...</td>\n",
       "      <td>0</td>\n",
       "    </tr>\n",
       "    <tr>\n",
       "      <th>2</th>\n",
       "      <td>Hey man, I'm really not trying to edit war. It...</td>\n",
       "      <td>0</td>\n",
       "    </tr>\n",
       "    <tr>\n",
       "      <th>3</th>\n",
       "      <td>\"\\nMore\\nI can't make any real suggestions on ...</td>\n",
       "      <td>0</td>\n",
       "    </tr>\n",
       "    <tr>\n",
       "      <th>4</th>\n",
       "      <td>You, sir, are my hero. Any chance you remember...</td>\n",
       "      <td>0</td>\n",
       "    </tr>\n",
       "    <tr>\n",
       "      <th>5</th>\n",
       "      <td>\"\\n\\nCongratulations from me as well, use the ...</td>\n",
       "      <td>0</td>\n",
       "    </tr>\n",
       "    <tr>\n",
       "      <th>6</th>\n",
       "      <td>COCKSUCKER BEFORE YOU PISS AROUND ON MY WORK</td>\n",
       "      <td>1</td>\n",
       "    </tr>\n",
       "    <tr>\n",
       "      <th>7</th>\n",
       "      <td>Your vandalism to the Matt Shirvington article...</td>\n",
       "      <td>0</td>\n",
       "    </tr>\n",
       "    <tr>\n",
       "      <th>8</th>\n",
       "      <td>Sorry if the word 'nonsense' was offensive to ...</td>\n",
       "      <td>0</td>\n",
       "    </tr>\n",
       "    <tr>\n",
       "      <th>9</th>\n",
       "      <td>alignment on this subject and which are contra...</td>\n",
       "      <td>0</td>\n",
       "    </tr>\n",
       "    <tr>\n",
       "      <th>10</th>\n",
       "      <td>\"\\nFair use rationale for Image:Wonju.jpg\\n\\nT...</td>\n",
       "      <td>0</td>\n",
       "    </tr>\n",
       "    <tr>\n",
       "      <th>11</th>\n",
       "      <td>bbq \\n\\nbe a man and lets discuss it-maybe ove...</td>\n",
       "      <td>0</td>\n",
       "    </tr>\n",
       "    <tr>\n",
       "      <th>12</th>\n",
       "      <td>Hey... what is it..\\n@ | talk .\\nWhat is it......</td>\n",
       "      <td>1</td>\n",
       "    </tr>\n",
       "    <tr>\n",
       "      <th>13</th>\n",
       "      <td>Before you start throwing accusations and warn...</td>\n",
       "      <td>0</td>\n",
       "    </tr>\n",
       "    <tr>\n",
       "      <th>14</th>\n",
       "      <td>Oh, and the girl above started her arguments w...</td>\n",
       "      <td>0</td>\n",
       "    </tr>\n",
       "  </tbody>\n",
       "</table>\n",
       "</div>"
      ],
      "text/plain": [
       "                                                 text  toxic\n",
       "0   Explanation\\nWhy the edits made under my usern...      0\n",
       "1   D'aww! He matches this background colour I'm s...      0\n",
       "2   Hey man, I'm really not trying to edit war. It...      0\n",
       "3   \"\\nMore\\nI can't make any real suggestions on ...      0\n",
       "4   You, sir, are my hero. Any chance you remember...      0\n",
       "5   \"\\n\\nCongratulations from me as well, use the ...      0\n",
       "6        COCKSUCKER BEFORE YOU PISS AROUND ON MY WORK      1\n",
       "7   Your vandalism to the Matt Shirvington article...      0\n",
       "8   Sorry if the word 'nonsense' was offensive to ...      0\n",
       "9   alignment on this subject and which are contra...      0\n",
       "10  \"\\nFair use rationale for Image:Wonju.jpg\\n\\nT...      0\n",
       "11  bbq \\n\\nbe a man and lets discuss it-maybe ove...      0\n",
       "12  Hey... what is it..\\n@ | talk .\\nWhat is it......      1\n",
       "13  Before you start throwing accusations and warn...      0\n",
       "14  Oh, and the girl above started her arguments w...      0"
      ]
     },
     "execution_count": 27,
     "metadata": {},
     "output_type": "execute_result"
    }
   ],
   "source": [
    "data.head(15)"
   ]
  },
  {
   "cell_type": "code",
   "execution_count": 28,
   "metadata": {},
   "outputs": [],
   "source": [
    "corpus = data['text'].values"
   ]
  },
  {
   "cell_type": "code",
   "execution_count": 29,
   "metadata": {},
   "outputs": [],
   "source": [
    "data['clear'] = corpus"
   ]
  },
  {
   "cell_type": "markdown",
   "metadata": {},
   "source": [
    "Выполним лемматизацию текста, чтобы упростить его."
   ]
  },
  {
   "cell_type": "code",
   "execution_count": 30,
   "metadata": {},
   "outputs": [],
   "source": [
    "lemmatizer = WordNetLemmatizer()"
   ]
  },
  {
   "cell_type": "code",
   "execution_count": 31,
   "metadata": {},
   "outputs": [],
   "source": [
    "def lemmetize(words):\n",
    "     result = []\n",
    "     tokens = nltk.word_tokenize(words)\n",
    "     for token in tokens:\n",
    "          lemmetized_word = lemmatizer.lemmatize(token, wordnet.VERB)\n",
    "          result.append(lemmetized_word)\n",
    "     result = \" \".join(result)\n",
    "     return result"
   ]
  },
  {
   "cell_type": "markdown",
   "metadata": {},
   "source": [
    "Сравним исходный тескт с лемматизированным:"
   ]
  },
  {
   "cell_type": "code",
   "execution_count": 32,
   "metadata": {},
   "outputs": [
    {
     "name": "stdout",
     "output_type": "stream",
     "text": [
      "Исходный текст\n",
      "Explanation\n",
      "Why the edits made under my username Hardcore Metallica Fan were reverted? They weren't vandalisms, just closure on some GAs after I voted at New York Dolls FAC. And please don't remove the template from the talk page since I'm retired now.89.205.38.27\n",
      "\n",
      "Лемматизированный текст\n",
      "Explanation Why the edit make under my username Hardcore Metallica Fan be revert ? They be n't vandalisms , just closure on some GAs after I vote at New York Dolls FAC . And please do n't remove the template from the talk page since I 'm retire now.89.205.38.27\n"
     ]
    }
   ],
   "source": [
    "print('Исходный текст', corpus[0], sep = '\\n')\n",
    "print()\n",
    "print('Лемматизированный текст', lemmetize(corpus[0]), sep = '\\n')"
   ]
  },
  {
   "cell_type": "markdown",
   "metadata": {},
   "source": [
    "Выполним лемматизацию для всего текста."
   ]
  },
  {
   "cell_type": "code",
   "execution_count": 33,
   "metadata": {},
   "outputs": [
    {
     "name": "stdout",
     "output_type": "stream",
     "text": [
      "CPU times: user 2min 25s, sys: 211 ms, total: 2min 25s\n",
      "Wall time: 2min 25s\n"
     ]
    }
   ],
   "source": [
    "%%time\n",
    "data.clear = data.clear.apply(lemmetize)"
   ]
  },
  {
   "cell_type": "markdown",
   "metadata": {},
   "source": [
    "Очистим текст от лишних символов с помощью регулярных выражений."
   ]
  },
  {
   "cell_type": "code",
   "execution_count": 34,
   "metadata": {},
   "outputs": [],
   "source": [
    "def clear_text(text):\n",
    "    tmp = re.sub(r'[^a-zA-Z]', ' ', text)\n",
    "    tmp = tmp.split()\n",
    "    tmp = \" \".join(tmp)\n",
    "    return tmp"
   ]
  },
  {
   "cell_type": "markdown",
   "metadata": {},
   "source": [
    "Посмотрим результат примения функции clear_text."
   ]
  },
  {
   "cell_type": "code",
   "execution_count": 35,
   "metadata": {},
   "outputs": [
    {
     "name": "stdout",
     "output_type": "stream",
     "text": [
      "Исходный текст\n",
      "Explanation Why the edit make under my username Hardcore Metallica Fan be revert ? They be n't vandalisms , just closure on some GAs after I vote at New York Dolls FAC . And please do n't remove the template from the talk page since I 'm retire now.89.205.38.27\n",
      "\n",
      "Преобразованный текст\n",
      "Explanation Why the edit make under my username Hardcore Metallica Fan be revert They be n t vandalisms just closure on some GAs after I vote at New York Dolls FAC And please do n t remove the template from the talk page since I m retire now\n"
     ]
    }
   ],
   "source": [
    "print('Исходный текст', data.clear[0], sep = '\\n')\n",
    "print()\n",
    "print('Преобразованный текст', clear_text(data.clear[0]), sep = '\\n')"
   ]
  },
  {
   "cell_type": "markdown",
   "metadata": {},
   "source": [
    "Применим функцию ко всему датасету."
   ]
  },
  {
   "cell_type": "code",
   "execution_count": 36,
   "metadata": {},
   "outputs": [],
   "source": [
    "data['clear'] = data.clear.apply(clear_text)"
   ]
  },
  {
   "cell_type": "markdown",
   "metadata": {},
   "source": [
    "Почистим текст, удалив из него стоп-слова (слова, которые не несут смысловой нагрузки). Получим признаки для обучения модели с помощью величин TF-IDF."
   ]
  },
  {
   "cell_type": "code",
   "execution_count": 37,
   "metadata": {},
   "outputs": [],
   "source": [
    "stop_words = set(stopwords.words('english')) \n",
    "count_tf_idf = TfidfVectorizer(stop_words=stop_words, max_features = 50000) "
   ]
  },
  {
   "cell_type": "markdown",
   "metadata": {},
   "source": [
    "Перемешаем строки в датасете для получения более качественной модели."
   ]
  },
  {
   "cell_type": "code",
   "execution_count": 38,
   "metadata": {},
   "outputs": [],
   "source": [
    "features = data.clear"
   ]
  },
  {
   "cell_type": "code",
   "execution_count": 39,
   "metadata": {},
   "outputs": [
    {
     "data": {
      "text/plain": [
       "(159571,)"
      ]
     },
     "execution_count": 39,
     "metadata": {},
     "output_type": "execute_result"
    }
   ],
   "source": [
    "features.shape"
   ]
  },
  {
   "cell_type": "code",
   "execution_count": 40,
   "metadata": {},
   "outputs": [],
   "source": [
    "target = data.toxic"
   ]
  },
  {
   "cell_type": "markdown",
   "metadata": {},
   "source": [
    "Построим распределение целевой переменной."
   ]
  },
  {
   "cell_type": "code",
   "execution_count": 41,
   "metadata": {},
   "outputs": [
    {
     "name": "stdout",
     "output_type": "stream",
     "text": [
      "0    90.0\n",
      "1    10.0\n",
      "Name: toxic, dtype: float64 \n",
      "\n"
     ]
    },
    {
     "data": {
      "image/png": "[encoded data removed]",
      "text/plain": [
       "<Figure size 432x288 with 1 Axes>"
      ]
     },
     "metadata": {
      "needs_background": "light"
     },
     "output_type": "display_data"
    }
   ],
   "source": [
    "print(round(data['toxic'].value_counts(normalize=True)*100), \"\\n\")\n",
    "sns.countplot(x='toxic', data=data, palette=\"viridis\");"
   ]
  },
  {
   "cell_type": "markdown",
   "metadata": {},
   "source": [
    "По распределению целевой переменной можно увидеть, что значение \"0\" встречается значительно чаще, чем значение \"1\"."
   ]
  },
  {
   "cell_type": "markdown",
   "metadata": {},
   "source": [
    "Разделим датасет на тренировочную, валидационную и обучающую выборки."
   ]
  },
  {
   "cell_type": "code",
   "execution_count": 42,
   "metadata": {},
   "outputs": [],
   "source": [
    "data_train, data_test, target_train, target_test = train_test_split(features, target,\n",
    "                                                                            test_size=0.2)"
   ]
  },
  {
   "cell_type": "markdown",
   "metadata": {},
   "source": [
    "Чтобы посчитать TF-IDF для корпуса текстов, вызовем функцию fit_transform():"
   ]
  },
  {
   "cell_type": "code",
   "execution_count": 43,
   "metadata": {},
   "outputs": [],
   "source": [
    "features_train = count_tf_idf.fit_transform(data_train)"
   ]
  },
  {
   "cell_type": "code",
   "execution_count": 44,
   "metadata": {},
   "outputs": [],
   "source": [
    "features_test = count_tf_idf.transform(data_test)"
   ]
  },
  {
   "cell_type": "markdown",
   "metadata": {},
   "source": [
    "Данные подготовлены, перейдем к построению моделей."
   ]
  },
  {
   "cell_type": "markdown",
   "metadata": {},
   "source": [
    "## Обучение"
   ]
  },
  {
   "cell_type": "markdown",
   "metadata": {},
   "source": [
    "### SGDClassifier"
   ]
  },
  {
   "cell_type": "markdown",
   "metadata": {},
   "source": [
    "Построим модель с помощью стохастического градиентного спуска."
   ]
  },
  {
   "cell_type": "code",
   "execution_count": 229,
   "metadata": {},
   "outputs": [],
   "source": [
    "sgd_model = SGDClassifier()"
   ]
  },
  {
   "cell_type": "code",
   "execution_count": 230,
   "metadata": {},
   "outputs": [
    {
     "name": "stdout",
     "output_type": "stream",
     "text": [
      "CPU times: user 353 ms, sys: 92.5 ms, total: 445 ms\n",
      "Wall time: 454 ms\n"
     ]
    },
    {
     "data": {
      "text/plain": [
       "SGDClassifier()"
      ]
     },
     "execution_count": 230,
     "metadata": {},
     "output_type": "execute_result"
    }
   ],
   "source": [
    "%%time\n",
    "sgd_model.fit(features_train, target_train)"
   ]
  },
  {
   "cell_type": "code",
   "execution_count": 231,
   "metadata": {},
   "outputs": [],
   "source": [
    "sgd_result = sgd_model.predict(features_test)"
   ]
  },
  {
   "cell_type": "code",
   "execution_count": 232,
   "metadata": {},
   "outputs": [
    {
     "name": "stdout",
     "output_type": "stream",
     "text": [
      "F1 на тестовой выборке 0.625\n"
     ]
    }
   ],
   "source": [
    "f1_sgd = f1_score(target_test, sgd_result)\n",
    "print('F1 на тестовой выборке {:.3f}'.format(f1_sgd))"
   ]
  },
  {
   "cell_type": "code",
   "execution_count": 244,
   "metadata": {
    "scrolled": true
   },
   "outputs": [
    {
     "name": "stdout",
     "output_type": "stream",
     "text": [
      "[[28640    46]\n",
      " [ 1739  1490]]\n"
     ]
    },
    {
     "data": {
      "image/png": "[encoded data removed]",
      "text/plain": [
       "<Figure size 432x288 with 2 Axes>"
      ]
     },
     "metadata": {
      "needs_background": "light"
     },
     "output_type": "display_data"
    }
   ],
   "source": [
    "cf_matrix = confusion_matrix(target_test, sgd_result)\n",
    "\n",
    "ax = sns.heatmap(cf_matrix, annot=True, cmap='Blues')\n",
    "\n",
    "ax.set_title('Seaborn Confusion Matrix with labels\\n\\n');\n",
    "ax.set_xlabel('\\nPredicted Values')\n",
    "ax.set_ylabel('Actual Values ');\n",
    "print(cf_matrix)\n",
    "\n",
    "ax.xaxis.set_ticklabels(['False','True'])\n",
    "ax.yaxis.set_ticklabels(['False','True'])\n",
    "\n",
    "plt.show()"
   ]
  },
  {
   "cell_type": "markdown",
   "metadata": {},
   "source": [
    "### Random Forest"
   ]
  },
  {
   "cell_type": "code",
   "execution_count": 235,
   "metadata": {},
   "outputs": [],
   "source": [
    "rand_for = RandomForestClassifier(max_depth=2, random_state=0, class_weight='balanced')"
   ]
  },
  {
   "cell_type": "code",
   "execution_count": 236,
   "metadata": {},
   "outputs": [
    {
     "data": {
      "text/plain": [
       "RandomForestClassifier(class_weight='balanced', max_depth=2, random_state=0)"
      ]
     },
     "execution_count": 236,
     "metadata": {},
     "output_type": "execute_result"
    }
   ],
   "source": [
    "rand_for.fit(features_train, target_train)"
   ]
  },
  {
   "cell_type": "code",
   "execution_count": 237,
   "metadata": {},
   "outputs": [
    {
     "name": "stdout",
     "output_type": "stream",
     "text": [
      "F1 на тестовой выборке 0.184\n"
     ]
    }
   ],
   "source": [
    "rand_for_result = clf.predict(features_test)\n",
    "f1 = f1_score(target_test, rand_for_result)\n",
    "print('F1 на тестовой выборке {:.3f}'.format(f1))"
   ]
  },
  {
   "cell_type": "code",
   "execution_count": 245,
   "metadata": {},
   "outputs": [
    {
     "name": "stdout",
     "output_type": "stream",
     "text": [
      "[[   51 28635]\n",
      " [    6  3223]]\n"
     ]
    },
    {
     "data": {
      "image/png": "[encoded data removed]",
      "text/plain": [
       "<Figure size 432x288 with 2 Axes>"
      ]
     },
     "metadata": {
      "needs_background": "light"
     },
     "output_type": "display_data"
    }
   ],
   "source": [
    "cf_matrix = confusion_matrix(target_test, rand_for_result)\n",
    "\n",
    "ax = sns.heatmap(cf_matrix, annot=True, cmap='Blues')\n",
    "\n",
    "ax.set_title('Seaborn Confusion Matrix with labels\\n\\n');\n",
    "ax.set_xlabel('\\nPredicted Values')\n",
    "ax.set_ylabel('Actual Values ');\n",
    "print(cf_matrix)\n",
    "\n",
    "ax.xaxis.set_ticklabels(['False','True'])\n",
    "ax.yaxis.set_ticklabels(['False','True'])\n",
    "\n",
    "plt.show()"
   ]
  },
  {
   "cell_type": "markdown",
   "metadata": {},
   "source": [
    "### CatBoost"
   ]
  },
  {
   "cell_type": "code",
   "execution_count": 246,
   "metadata": {},
   "outputs": [],
   "source": [
    "model_cat = CatBoostClassifier()"
   ]
  },
  {
   "cell_type": "code",
   "execution_count": 253,
   "metadata": {},
   "outputs": [
    {
     "name": "stderr",
     "output_type": "stream",
     "text": [
      "Custom logger is already specified. Specify more than one logger at same time is not thread safe."
     ]
    },
    {
     "name": "stdout",
     "output_type": "stream",
     "text": [
      "Learning rate set to 0.081698\n",
      "0:\tlearn: 0.6099196\ttotal: 2.41s\tremaining: 40m 11s\n",
      "1:\tlearn: 0.5398483\ttotal: 4.33s\tremaining: 35m 58s\n",
      "2:\tlearn: 0.4839670\ttotal: 6.15s\tremaining: 34m 5s\n",
      "3:\tlearn: 0.4401225\ttotal: 8.03s\tremaining: 33m 20s\n",
      "4:\tlearn: 0.4021657\ttotal: 9.98s\tremaining: 33m 5s\n",
      "5:\tlearn: 0.3713207\ttotal: 11.9s\tremaining: 32m 45s\n",
      "6:\tlearn: 0.3470433\ttotal: 13.8s\tremaining: 32m 31s\n",
      "7:\tlearn: 0.3265991\ttotal: 15.6s\tremaining: 32m 20s\n",
      "8:\tlearn: 0.3097151\ttotal: 17.6s\tremaining: 32m 22s\n",
      "9:\tlearn: 0.2959587\ttotal: 19.6s\tremaining: 32m 15s\n",
      "10:\tlearn: 0.2832324\ttotal: 21.5s\tremaining: 32m 13s\n",
      "11:\tlearn: 0.2739045\ttotal: 23.4s\tremaining: 32m 6s\n",
      "12:\tlearn: 0.2663480\ttotal: 25.3s\tremaining: 31m 57s\n",
      "13:\tlearn: 0.2593894\ttotal: 27.2s\tremaining: 31m 52s\n",
      "14:\tlearn: 0.2535985\ttotal: 29s\tremaining: 31m 44s\n",
      "15:\tlearn: 0.2487299\ttotal: 30.9s\tremaining: 31m 41s\n",
      "16:\tlearn: 0.2445319\ttotal: 32.9s\tremaining: 31m 40s\n",
      "17:\tlearn: 0.2400694\ttotal: 34.7s\tremaining: 31m 35s\n",
      "18:\tlearn: 0.2367563\ttotal: 36.8s\tremaining: 31m 41s\n",
      "19:\tlearn: 0.2338080\ttotal: 38.7s\tremaining: 31m 35s\n",
      "20:\tlearn: 0.2312809\ttotal: 40.5s\tremaining: 31m 29s\n",
      "21:\tlearn: 0.2288510\ttotal: 42.4s\tremaining: 31m 23s\n",
      "22:\tlearn: 0.2267008\ttotal: 44.2s\tremaining: 31m 18s\n",
      "23:\tlearn: 0.2249259\ttotal: 46s\tremaining: 31m 10s\n",
      "24:\tlearn: 0.2231057\ttotal: 47.9s\tremaining: 31m 7s\n",
      "25:\tlearn: 0.2215528\ttotal: 49.7s\tremaining: 31m 2s\n",
      "26:\tlearn: 0.2195227\ttotal: 51.6s\tremaining: 30m 59s\n",
      "27:\tlearn: 0.2178869\ttotal: 53.5s\tremaining: 30m 58s\n",
      "28:\tlearn: 0.2166215\ttotal: 55.4s\tremaining: 30m 54s\n",
      "29:\tlearn: 0.2151634\ttotal: 57.3s\tremaining: 30m 51s\n",
      "30:\tlearn: 0.2140063\ttotal: 59.1s\tremaining: 30m 48s\n",
      "31:\tlearn: 0.2127407\ttotal: 1m 1s\tremaining: 30m 45s\n",
      "32:\tlearn: 0.2116397\ttotal: 1m 2s\tremaining: 30m 40s\n",
      "33:\tlearn: 0.2106956\ttotal: 1m 4s\tremaining: 30m 33s\n",
      "34:\tlearn: 0.2097777\ttotal: 1m 6s\tremaining: 30m 31s\n",
      "35:\tlearn: 0.2087223\ttotal: 1m 8s\tremaining: 30m 27s\n",
      "36:\tlearn: 0.2075184\ttotal: 1m 10s\tremaining: 30m 23s\n",
      "37:\tlearn: 0.2065524\ttotal: 1m 12s\tremaining: 30m 23s\n",
      "38:\tlearn: 0.2056033\ttotal: 1m 13s\tremaining: 30m 21s\n",
      "39:\tlearn: 0.2049200\ttotal: 1m 15s\tremaining: 30m 18s\n",
      "40:\tlearn: 0.2040045\ttotal: 1m 17s\tremaining: 30m 15s\n",
      "41:\tlearn: 0.2032103\ttotal: 1m 19s\tremaining: 30m 12s\n",
      "42:\tlearn: 0.2021072\ttotal: 1m 21s\tremaining: 30m 8s\n",
      "43:\tlearn: 0.2014168\ttotal: 1m 23s\tremaining: 30m 5s\n",
      "44:\tlearn: 0.2003721\ttotal: 1m 24s\tremaining: 30m 2s\n",
      "45:\tlearn: 0.1997193\ttotal: 1m 26s\tremaining: 29m 58s\n",
      "46:\tlearn: 0.1991626\ttotal: 1m 28s\tremaining: 29m 55s\n",
      "47:\tlearn: 0.1983370\ttotal: 1m 30s\tremaining: 29m 51s\n",
      "48:\tlearn: 0.1977137\ttotal: 1m 32s\tremaining: 29m 48s\n",
      "49:\tlearn: 0.1970762\ttotal: 1m 33s\tremaining: 29m 45s\n",
      "50:\tlearn: 0.1962880\ttotal: 1m 35s\tremaining: 29m 42s\n",
      "51:\tlearn: 0.1956909\ttotal: 1m 37s\tremaining: 29m 40s\n",
      "52:\tlearn: 0.1951085\ttotal: 1m 39s\tremaining: 29m 36s\n",
      "53:\tlearn: 0.1941824\ttotal: 1m 41s\tremaining: 29m 33s\n",
      "54:\tlearn: 0.1937374\ttotal: 1m 43s\tremaining: 29m 29s\n",
      "55:\tlearn: 0.1931314\ttotal: 1m 44s\tremaining: 29m 26s\n",
      "56:\tlearn: 0.1926603\ttotal: 1m 46s\tremaining: 29m 23s\n",
      "57:\tlearn: 0.1919572\ttotal: 1m 48s\tremaining: 29m 23s\n",
      "58:\tlearn: 0.1911344\ttotal: 1m 50s\tremaining: 29m 20s\n",
      "59:\tlearn: 0.1904626\ttotal: 1m 52s\tremaining: 29m 19s\n",
      "60:\tlearn: 0.1898677\ttotal: 1m 54s\tremaining: 29m 17s\n",
      "61:\tlearn: 0.1894422\ttotal: 1m 56s\tremaining: 29m 15s\n",
      "62:\tlearn: 0.1889312\ttotal: 1m 57s\tremaining: 29m 13s\n",
      "63:\tlearn: 0.1885552\ttotal: 1m 59s\tremaining: 29m 9s\n",
      "64:\tlearn: 0.1881535\ttotal: 2m 1s\tremaining: 29m 6s\n",
      "65:\tlearn: 0.1876945\ttotal: 2m 3s\tremaining: 29m 4s\n",
      "66:\tlearn: 0.1873063\ttotal: 2m 5s\tremaining: 29m 1s\n",
      "67:\tlearn: 0.1866890\ttotal: 2m 6s\tremaining: 28m 59s\n",
      "68:\tlearn: 0.1863631\ttotal: 2m 8s\tremaining: 28m 56s\n",
      "69:\tlearn: 0.1859901\ttotal: 2m 10s\tremaining: 28m 52s\n",
      "70:\tlearn: 0.1854695\ttotal: 2m 12s\tremaining: 28m 49s\n",
      "71:\tlearn: 0.1850379\ttotal: 2m 13s\tremaining: 28m 46s\n",
      "72:\tlearn: 0.1845598\ttotal: 2m 15s\tremaining: 28m 43s\n",
      "73:\tlearn: 0.1839278\ttotal: 2m 17s\tremaining: 28m 41s\n",
      "74:\tlearn: 0.1834643\ttotal: 2m 19s\tremaining: 28m 39s\n",
      "75:\tlearn: 0.1830724\ttotal: 2m 21s\tremaining: 28m 36s\n",
      "76:\tlearn: 0.1827573\ttotal: 2m 22s\tremaining: 28m 33s\n",
      "77:\tlearn: 0.1823286\ttotal: 2m 24s\tremaining: 28m 29s\n",
      "78:\tlearn: 0.1819166\ttotal: 2m 26s\tremaining: 28m 26s\n",
      "79:\tlearn: 0.1815421\ttotal: 2m 28s\tremaining: 28m 24s\n",
      "80:\tlearn: 0.1812094\ttotal: 2m 29s\tremaining: 28m 21s\n",
      "81:\tlearn: 0.1809321\ttotal: 2m 31s\tremaining: 28m 20s\n",
      "82:\tlearn: 0.1805185\ttotal: 2m 33s\tremaining: 28m 17s\n",
      "83:\tlearn: 0.1801616\ttotal: 2m 35s\tremaining: 28m 14s\n",
      "84:\tlearn: 0.1796188\ttotal: 2m 37s\tremaining: 28m 13s\n",
      "85:\tlearn: 0.1792731\ttotal: 2m 38s\tremaining: 28m 9s\n",
      "86:\tlearn: 0.1790010\ttotal: 2m 40s\tremaining: 28m 6s\n",
      "87:\tlearn: 0.1785595\ttotal: 2m 42s\tremaining: 28m 4s\n",
      "88:\tlearn: 0.1781016\ttotal: 2m 44s\tremaining: 28m 4s\n",
      "89:\tlearn: 0.1778277\ttotal: 2m 46s\tremaining: 28m 2s\n",
      "90:\tlearn: 0.1774757\ttotal: 2m 48s\tremaining: 28m\n",
      "91:\tlearn: 0.1771498\ttotal: 2m 49s\tremaining: 27m 57s\n",
      "92:\tlearn: 0.1766927\ttotal: 2m 51s\tremaining: 27m 55s\n",
      "93:\tlearn: 0.1764009\ttotal: 2m 53s\tremaining: 27m 52s\n",
      "94:\tlearn: 0.1760597\ttotal: 2m 55s\tremaining: 27m 49s\n",
      "95:\tlearn: 0.1757215\ttotal: 2m 57s\tremaining: 27m 47s\n",
      "96:\tlearn: 0.1754237\ttotal: 2m 58s\tremaining: 27m 44s\n",
      "97:\tlearn: 0.1751296\ttotal: 3m\tremaining: 27m 41s\n",
      "98:\tlearn: 0.1748884\ttotal: 3m 2s\tremaining: 27m 38s\n",
      "99:\tlearn: 0.1746828\ttotal: 3m 3s\tremaining: 27m 35s\n",
      "100:\tlearn: 0.1742156\ttotal: 3m 5s\tremaining: 27m 33s\n",
      "101:\tlearn: 0.1739388\ttotal: 3m 7s\tremaining: 27m 30s\n",
      "102:\tlearn: 0.1736520\ttotal: 3m 9s\tremaining: 27m 28s\n",
      "103:\tlearn: 0.1733447\ttotal: 3m 11s\tremaining: 27m 25s\n",
      "104:\tlearn: 0.1729009\ttotal: 3m 12s\tremaining: 27m 23s\n",
      "105:\tlearn: 0.1724785\ttotal: 3m 14s\tremaining: 27m 20s\n",
      "106:\tlearn: 0.1722193\ttotal: 3m 16s\tremaining: 27m 18s\n",
      "107:\tlearn: 0.1720073\ttotal: 3m 18s\tremaining: 27m 16s\n",
      "108:\tlearn: 0.1715672\ttotal: 3m 19s\tremaining: 27m 13s\n",
      "109:\tlearn: 0.1712177\ttotal: 3m 21s\tremaining: 27m 10s\n",
      "110:\tlearn: 0.1709460\ttotal: 3m 23s\tremaining: 27m 7s\n",
      "111:\tlearn: 0.1706558\ttotal: 3m 25s\tremaining: 27m 6s\n",
      "112:\tlearn: 0.1704250\ttotal: 3m 27s\tremaining: 27m 4s\n",
      "113:\tlearn: 0.1701371\ttotal: 3m 29s\tremaining: 27m 4s\n",
      "114:\tlearn: 0.1698261\ttotal: 3m 31s\tremaining: 27m 3s\n",
      "115:\tlearn: 0.1696071\ttotal: 3m 32s\tremaining: 27m 1s\n",
      "116:\tlearn: 0.1692358\ttotal: 3m 34s\tremaining: 27m\n",
      "117:\tlearn: 0.1689863\ttotal: 3m 36s\tremaining: 26m 58s\n",
      "118:\tlearn: 0.1687968\ttotal: 3m 38s\tremaining: 26m 55s\n",
      "119:\tlearn: 0.1684701\ttotal: 3m 39s\tremaining: 26m 53s\n",
      "120:\tlearn: 0.1682195\ttotal: 3m 41s\tremaining: 26m 50s\n",
      "121:\tlearn: 0.1679704\ttotal: 3m 43s\tremaining: 26m 48s\n",
      "122:\tlearn: 0.1676188\ttotal: 3m 45s\tremaining: 26m 46s\n",
      "123:\tlearn: 0.1673833\ttotal: 3m 47s\tremaining: 26m 43s\n",
      "124:\tlearn: 0.1671699\ttotal: 3m 48s\tremaining: 26m 41s\n",
      "125:\tlearn: 0.1669428\ttotal: 3m 50s\tremaining: 26m 39s\n",
      "126:\tlearn: 0.1667700\ttotal: 3m 52s\tremaining: 26m 36s\n",
      "127:\tlearn: 0.1665301\ttotal: 3m 54s\tremaining: 26m 35s\n",
      "128:\tlearn: 0.1662524\ttotal: 3m 55s\tremaining: 26m 32s\n",
      "129:\tlearn: 0.1660355\ttotal: 3m 57s\tremaining: 26m 30s\n",
      "130:\tlearn: 0.1658539\ttotal: 3m 59s\tremaining: 26m 27s\n",
      "131:\tlearn: 0.1655615\ttotal: 4m 1s\tremaining: 26m 25s\n",
      "132:\tlearn: 0.1652147\ttotal: 4m 2s\tremaining: 26m 23s\n",
      "133:\tlearn: 0.1650354\ttotal: 4m 4s\tremaining: 26m 21s\n",
      "134:\tlearn: 0.1646781\ttotal: 4m 6s\tremaining: 26m 19s\n",
      "135:\tlearn: 0.1644972\ttotal: 4m 8s\tremaining: 26m 17s\n",
      "136:\tlearn: 0.1642646\ttotal: 4m 10s\tremaining: 26m 15s\n",
      "137:\tlearn: 0.1639576\ttotal: 4m 11s\tremaining: 26m 12s\n",
      "138:\tlearn: 0.1637281\ttotal: 4m 13s\tremaining: 26m 10s\n",
      "139:\tlearn: 0.1634980\ttotal: 4m 15s\tremaining: 26m 8s\n",
      "140:\tlearn: 0.1632390\ttotal: 4m 17s\tremaining: 26m 6s\n",
      "141:\tlearn: 0.1630266\ttotal: 4m 18s\tremaining: 26m 3s\n",
      "142:\tlearn: 0.1628401\ttotal: 4m 20s\tremaining: 26m\n",
      "143:\tlearn: 0.1626717\ttotal: 4m 22s\tremaining: 25m 58s\n",
      "144:\tlearn: 0.1624604\ttotal: 4m 23s\tremaining: 25m 56s\n",
      "145:\tlearn: 0.1622553\ttotal: 4m 25s\tremaining: 25m 54s\n",
      "146:\tlearn: 0.1620795\ttotal: 4m 27s\tremaining: 25m 51s\n",
      "147:\tlearn: 0.1619219\ttotal: 4m 29s\tremaining: 25m 49s\n",
      "148:\tlearn: 0.1617312\ttotal: 4m 30s\tremaining: 25m 46s\n",
      "149:\tlearn: 0.1614708\ttotal: 4m 32s\tremaining: 25m 44s\n",
      "150:\tlearn: 0.1612895\ttotal: 4m 34s\tremaining: 25m 42s\n",
      "151:\tlearn: 0.1611156\ttotal: 4m 36s\tremaining: 25m 40s\n",
      "152:\tlearn: 0.1608480\ttotal: 4m 37s\tremaining: 25m 38s\n",
      "153:\tlearn: 0.1606605\ttotal: 4m 39s\tremaining: 25m 36s\n",
      "154:\tlearn: 0.1604978\ttotal: 4m 41s\tremaining: 25m 33s\n",
      "155:\tlearn: 0.1603117\ttotal: 4m 42s\tremaining: 25m 31s\n",
      "156:\tlearn: 0.1601407\ttotal: 4m 44s\tremaining: 25m 28s\n",
      "157:\tlearn: 0.1599894\ttotal: 4m 46s\tremaining: 25m 26s\n",
      "158:\tlearn: 0.1598220\ttotal: 4m 48s\tremaining: 25m 23s\n",
      "159:\tlearn: 0.1595702\ttotal: 4m 49s\tremaining: 25m 21s\n",
      "160:\tlearn: 0.1594009\ttotal: 4m 51s\tremaining: 25m 19s\n",
      "161:\tlearn: 0.1592209\ttotal: 4m 53s\tremaining: 25m 17s\n",
      "162:\tlearn: 0.1590595\ttotal: 4m 55s\tremaining: 25m 15s\n",
      "163:\tlearn: 0.1588558\ttotal: 4m 56s\tremaining: 25m 12s\n",
      "164:\tlearn: 0.1586872\ttotal: 4m 58s\tremaining: 25m 10s\n",
      "165:\tlearn: 0.1585478\ttotal: 5m\tremaining: 25m 7s\n",
      "166:\tlearn: 0.1583888\ttotal: 5m 1s\tremaining: 25m 5s\n",
      "167:\tlearn: 0.1582057\ttotal: 5m 3s\tremaining: 25m 3s\n",
      "168:\tlearn: 0.1580165\ttotal: 5m 5s\tremaining: 25m 1s\n",
      "169:\tlearn: 0.1577982\ttotal: 5m 7s\tremaining: 24m 59s\n",
      "170:\tlearn: 0.1575504\ttotal: 5m 8s\tremaining: 24m 56s\n",
      "171:\tlearn: 0.1573976\ttotal: 5m 10s\tremaining: 24m 54s\n",
      "172:\tlearn: 0.1572323\ttotal: 5m 12s\tremaining: 24m 51s\n",
      "173:\tlearn: 0.1570792\ttotal: 5m 13s\tremaining: 24m 49s\n",
      "174:\tlearn: 0.1568562\ttotal: 5m 15s\tremaining: 24m 47s\n",
      "175:\tlearn: 0.1567105\ttotal: 5m 17s\tremaining: 24m 45s\n",
      "176:\tlearn: 0.1565589\ttotal: 5m 18s\tremaining: 24m 43s\n",
      "177:\tlearn: 0.1563860\ttotal: 5m 20s\tremaining: 24m 40s\n",
      "178:\tlearn: 0.1562084\ttotal: 5m 22s\tremaining: 24m 38s\n",
      "179:\tlearn: 0.1560786\ttotal: 5m 24s\tremaining: 24m 36s\n",
      "180:\tlearn: 0.1557810\ttotal: 5m 25s\tremaining: 24m 34s\n",
      "181:\tlearn: 0.1556251\ttotal: 5m 27s\tremaining: 24m 32s\n",
      "182:\tlearn: 0.1553770\ttotal: 5m 29s\tremaining: 24m 30s\n",
      "183:\tlearn: 0.1552246\ttotal: 5m 31s\tremaining: 24m 28s\n",
      "184:\tlearn: 0.1550423\ttotal: 5m 32s\tremaining: 24m 26s\n",
      "185:\tlearn: 0.1548987\ttotal: 5m 34s\tremaining: 24m 24s\n",
      "186:\tlearn: 0.1547826\ttotal: 5m 36s\tremaining: 24m 22s\n",
      "187:\tlearn: 0.1546112\ttotal: 5m 38s\tremaining: 24m 20s\n",
      "188:\tlearn: 0.1544366\ttotal: 5m 39s\tremaining: 24m 18s\n",
      "189:\tlearn: 0.1541275\ttotal: 5m 41s\tremaining: 24m 16s\n",
      "190:\tlearn: 0.1539812\ttotal: 5m 43s\tremaining: 24m 14s\n",
      "191:\tlearn: 0.1538327\ttotal: 5m 45s\tremaining: 24m 12s\n",
      "192:\tlearn: 0.1536824\ttotal: 5m 46s\tremaining: 24m 10s\n",
      "193:\tlearn: 0.1535492\ttotal: 5m 48s\tremaining: 24m 8s\n",
      "194:\tlearn: 0.1533411\ttotal: 5m 50s\tremaining: 24m 6s\n",
      "195:\tlearn: 0.1531302\ttotal: 5m 52s\tremaining: 24m 4s\n",
      "196:\tlearn: 0.1530130\ttotal: 5m 53s\tremaining: 24m 1s\n",
      "197:\tlearn: 0.1529082\ttotal: 5m 55s\tremaining: 23m 59s\n",
      "198:\tlearn: 0.1527410\ttotal: 5m 57s\tremaining: 23m 57s\n",
      "199:\tlearn: 0.1526207\ttotal: 5m 58s\tremaining: 23m 55s\n",
      "200:\tlearn: 0.1523719\ttotal: 6m\tremaining: 23m 53s\n",
      "201:\tlearn: 0.1522294\ttotal: 6m 2s\tremaining: 23m 51s\n",
      "202:\tlearn: 0.1520716\ttotal: 6m 4s\tremaining: 23m 49s\n",
      "203:\tlearn: 0.1519495\ttotal: 6m 5s\tremaining: 23m 47s\n",
      "204:\tlearn: 0.1517523\ttotal: 6m 7s\tremaining: 23m 45s\n",
      "205:\tlearn: 0.1515046\ttotal: 6m 9s\tremaining: 23m 43s\n",
      "206:\tlearn: 0.1513738\ttotal: 6m 10s\tremaining: 23m 41s\n",
      "207:\tlearn: 0.1512401\ttotal: 6m 12s\tremaining: 23m 39s\n",
      "208:\tlearn: 0.1510030\ttotal: 6m 14s\tremaining: 23m 37s\n",
      "209:\tlearn: 0.1507335\ttotal: 6m 16s\tremaining: 23m 35s\n",
      "210:\tlearn: 0.1505913\ttotal: 6m 18s\tremaining: 23m 33s\n",
      "211:\tlearn: 0.1504801\ttotal: 6m 19s\tremaining: 23m 31s\n",
      "212:\tlearn: 0.1501509\ttotal: 6m 21s\tremaining: 23m 29s\n",
      "213:\tlearn: 0.1500385\ttotal: 6m 23s\tremaining: 23m 27s\n",
      "214:\tlearn: 0.1499038\ttotal: 6m 24s\tremaining: 23m 25s\n",
      "215:\tlearn: 0.1497521\ttotal: 6m 26s\tremaining: 23m 23s\n",
      "216:\tlearn: 0.1495826\ttotal: 6m 28s\tremaining: 23m 20s\n",
      "217:\tlearn: 0.1494100\ttotal: 6m 30s\tremaining: 23m 19s\n",
      "218:\tlearn: 0.1492880\ttotal: 6m 31s\tremaining: 23m 16s\n",
      "219:\tlearn: 0.1491312\ttotal: 6m 33s\tremaining: 23m 15s\n",
      "220:\tlearn: 0.1489416\ttotal: 6m 35s\tremaining: 23m 13s\n",
      "221:\tlearn: 0.1488370\ttotal: 6m 36s\tremaining: 23m 10s\n",
      "222:\tlearn: 0.1486970\ttotal: 6m 38s\tremaining: 23m 8s\n",
      "223:\tlearn: 0.1485222\ttotal: 6m 40s\tremaining: 23m 6s\n",
      "224:\tlearn: 0.1484258\ttotal: 6m 41s\tremaining: 23m 4s\n",
      "225:\tlearn: 0.1483074\ttotal: 6m 43s\tremaining: 23m 2s\n",
      "226:\tlearn: 0.1481883\ttotal: 6m 45s\tremaining: 23m\n",
      "227:\tlearn: 0.1479744\ttotal: 6m 47s\tremaining: 22m 58s\n",
      "228:\tlearn: 0.1478480\ttotal: 6m 48s\tremaining: 22m 56s\n",
      "229:\tlearn: 0.1476775\ttotal: 6m 50s\tremaining: 22m 55s\n",
      "230:\tlearn: 0.1475580\ttotal: 6m 52s\tremaining: 22m 53s\n",
      "231:\tlearn: 0.1473880\ttotal: 6m 54s\tremaining: 22m 51s\n",
      "232:\tlearn: 0.1472535\ttotal: 6m 56s\tremaining: 22m 49s\n",
      "233:\tlearn: 0.1470995\ttotal: 6m 57s\tremaining: 22m 47s\n",
      "234:\tlearn: 0.1470115\ttotal: 6m 59s\tremaining: 22m 45s\n",
      "235:\tlearn: 0.1468669\ttotal: 7m 1s\tremaining: 22m 43s\n",
      "236:\tlearn: 0.1467636\ttotal: 7m 2s\tremaining: 22m 41s\n",
      "237:\tlearn: 0.1466529\ttotal: 7m 4s\tremaining: 22m 39s\n",
      "238:\tlearn: 0.1464888\ttotal: 7m 6s\tremaining: 22m 37s\n",
      "239:\tlearn: 0.1462511\ttotal: 7m 8s\tremaining: 22m 35s\n",
      "240:\tlearn: 0.1461477\ttotal: 7m 9s\tremaining: 22m 33s\n",
      "241:\tlearn: 0.1460107\ttotal: 7m 11s\tremaining: 22m 31s\n",
      "242:\tlearn: 0.1459110\ttotal: 7m 13s\tremaining: 22m 29s\n",
      "243:\tlearn: 0.1457975\ttotal: 7m 14s\tremaining: 22m 27s\n",
      "244:\tlearn: 0.1457052\ttotal: 7m 16s\tremaining: 22m 25s\n",
      "245:\tlearn: 0.1455731\ttotal: 7m 18s\tremaining: 22m 23s\n",
      "246:\tlearn: 0.1454719\ttotal: 7m 20s\tremaining: 22m 21s\n",
      "247:\tlearn: 0.1453711\ttotal: 7m 21s\tremaining: 22m 19s\n",
      "248:\tlearn: 0.1452334\ttotal: 7m 23s\tremaining: 22m 17s\n",
      "249:\tlearn: 0.1451104\ttotal: 7m 25s\tremaining: 22m 15s\n",
      "250:\tlearn: 0.1450309\ttotal: 7m 26s\tremaining: 22m 13s\n",
      "251:\tlearn: 0.1448777\ttotal: 7m 28s\tremaining: 22m 11s\n",
      "252:\tlearn: 0.1447600\ttotal: 7m 30s\tremaining: 22m 10s\n",
      "253:\tlearn: 0.1446525\ttotal: 7m 32s\tremaining: 22m 8s\n",
      "254:\tlearn: 0.1445397\ttotal: 7m 34s\tremaining: 22m 6s\n",
      "255:\tlearn: 0.1444204\ttotal: 7m 35s\tremaining: 22m 5s\n",
      "256:\tlearn: 0.1443238\ttotal: 7m 37s\tremaining: 22m 3s\n",
      "257:\tlearn: 0.1441294\ttotal: 7m 39s\tremaining: 22m 1s\n",
      "258:\tlearn: 0.1440093\ttotal: 7m 41s\tremaining: 22m\n",
      "259:\tlearn: 0.1439297\ttotal: 7m 43s\tremaining: 21m 58s\n",
      "260:\tlearn: 0.1438266\ttotal: 7m 45s\tremaining: 21m 56s\n",
      "261:\tlearn: 0.1437212\ttotal: 7m 47s\tremaining: 21m 55s\n",
      "262:\tlearn: 0.1436208\ttotal: 7m 48s\tremaining: 21m 54s\n",
      "263:\tlearn: 0.1434850\ttotal: 7m 50s\tremaining: 21m 52s\n",
      "264:\tlearn: 0.1433933\ttotal: 7m 52s\tremaining: 21m 50s\n",
      "265:\tlearn: 0.1432930\ttotal: 7m 54s\tremaining: 21m 49s\n",
      "266:\tlearn: 0.1431959\ttotal: 7m 56s\tremaining: 21m 48s\n",
      "267:\tlearn: 0.1430404\ttotal: 7m 58s\tremaining: 21m 46s\n",
      "268:\tlearn: 0.1429288\ttotal: 8m\tremaining: 21m 45s\n",
      "269:\tlearn: 0.1428556\ttotal: 8m 2s\tremaining: 21m 43s\n",
      "270:\tlearn: 0.1427356\ttotal: 8m 3s\tremaining: 21m 41s\n",
      "271:\tlearn: 0.1425427\ttotal: 8m 5s\tremaining: 21m 40s\n",
      "272:\tlearn: 0.1424738\ttotal: 8m 7s\tremaining: 21m 38s\n",
      "273:\tlearn: 0.1423790\ttotal: 8m 9s\tremaining: 21m 36s\n",
      "274:\tlearn: 0.1422278\ttotal: 8m 11s\tremaining: 21m 35s\n",
      "275:\tlearn: 0.1420510\ttotal: 8m 13s\tremaining: 21m 33s\n",
      "276:\tlearn: 0.1419410\ttotal: 8m 14s\tremaining: 21m 31s\n",
      "277:\tlearn: 0.1418747\ttotal: 8m 16s\tremaining: 21m 29s\n",
      "278:\tlearn: 0.1418032\ttotal: 8m 18s\tremaining: 21m 27s\n",
      "279:\tlearn: 0.1416871\ttotal: 8m 20s\tremaining: 21m 26s\n",
      "280:\tlearn: 0.1415661\ttotal: 8m 22s\tremaining: 21m 24s\n",
      "281:\tlearn: 0.1414814\ttotal: 8m 23s\tremaining: 21m 23s\n",
      "282:\tlearn: 0.1413362\ttotal: 8m 26s\tremaining: 21m 22s\n",
      "283:\tlearn: 0.1412746\ttotal: 8m 27s\tremaining: 21m 20s\n",
      "284:\tlearn: 0.1411293\ttotal: 8m 29s\tremaining: 21m 19s\n",
      "285:\tlearn: 0.1409685\ttotal: 8m 31s\tremaining: 21m 17s\n",
      "286:\tlearn: 0.1408754\ttotal: 8m 33s\tremaining: 21m 15s\n",
      "287:\tlearn: 0.1407439\ttotal: 8m 35s\tremaining: 21m 13s\n",
      "288:\tlearn: 0.1406311\ttotal: 8m 36s\tremaining: 21m 11s\n",
      "289:\tlearn: 0.1405213\ttotal: 8m 38s\tremaining: 21m 9s\n",
      "290:\tlearn: 0.1403921\ttotal: 8m 40s\tremaining: 21m 7s\n",
      "291:\tlearn: 0.1402577\ttotal: 8m 42s\tremaining: 21m 5s\n",
      "292:\tlearn: 0.1401912\ttotal: 8m 43s\tremaining: 21m 3s\n",
      "293:\tlearn: 0.1401086\ttotal: 8m 45s\tremaining: 21m 1s\n",
      "294:\tlearn: 0.1399984\ttotal: 8m 47s\tremaining: 21m\n",
      "295:\tlearn: 0.1399133\ttotal: 8m 49s\tremaining: 20m 58s\n",
      "296:\tlearn: 0.1398575\ttotal: 8m 50s\tremaining: 20m 56s\n",
      "297:\tlearn: 0.1397950\ttotal: 8m 52s\tremaining: 20m 54s\n",
      "298:\tlearn: 0.1396501\ttotal: 8m 54s\tremaining: 20m 53s\n",
      "299:\tlearn: 0.1395382\ttotal: 8m 56s\tremaining: 20m 51s\n",
      "300:\tlearn: 0.1394402\ttotal: 8m 58s\tremaining: 20m 49s\n",
      "301:\tlearn: 0.1393191\ttotal: 9m\tremaining: 20m 48s\n",
      "302:\tlearn: 0.1391796\ttotal: 9m 2s\tremaining: 20m 46s\n",
      "303:\tlearn: 0.1390892\ttotal: 9m 3s\tremaining: 20m 45s\n",
      "304:\tlearn: 0.1390029\ttotal: 9m 5s\tremaining: 20m 43s\n",
      "305:\tlearn: 0.1389044\ttotal: 9m 7s\tremaining: 20m 41s\n",
      "306:\tlearn: 0.1388131\ttotal: 9m 9s\tremaining: 20m 40s\n",
      "307:\tlearn: 0.1386971\ttotal: 9m 11s\tremaining: 20m 38s\n",
      "308:\tlearn: 0.1386348\ttotal: 9m 12s\tremaining: 20m 36s\n",
      "309:\tlearn: 0.1385737\ttotal: 9m 14s\tremaining: 20m 34s\n",
      "310:\tlearn: 0.1385104\ttotal: 9m 16s\tremaining: 20m 32s\n",
      "311:\tlearn: 0.1384073\ttotal: 9m 18s\tremaining: 20m 30s\n",
      "312:\tlearn: 0.1382891\ttotal: 9m 20s\tremaining: 20m 29s\n",
      "313:\tlearn: 0.1382109\ttotal: 9m 21s\tremaining: 20m 27s\n",
      "314:\tlearn: 0.1381484\ttotal: 9m 23s\tremaining: 20m 25s\n",
      "315:\tlearn: 0.1380658\ttotal: 9m 25s\tremaining: 20m 23s\n",
      "316:\tlearn: 0.1379698\ttotal: 9m 27s\tremaining: 20m 21s\n",
      "317:\tlearn: 0.1378642\ttotal: 9m 29s\tremaining: 20m 20s\n",
      "318:\tlearn: 0.1377514\ttotal: 9m 30s\tremaining: 20m 18s\n",
      "319:\tlearn: 0.1376172\ttotal: 9m 32s\tremaining: 20m 17s\n",
      "320:\tlearn: 0.1374950\ttotal: 9m 34s\tremaining: 20m 15s\n",
      "321:\tlearn: 0.1374218\ttotal: 9m 36s\tremaining: 20m 13s\n",
      "322:\tlearn: 0.1373164\ttotal: 9m 38s\tremaining: 20m 11s\n",
      "323:\tlearn: 0.1372669\ttotal: 9m 39s\tremaining: 20m 9s\n",
      "324:\tlearn: 0.1371244\ttotal: 9m 41s\tremaining: 20m 8s\n",
      "325:\tlearn: 0.1370195\ttotal: 9m 43s\tremaining: 20m 6s\n",
      "326:\tlearn: 0.1368694\ttotal: 9m 45s\tremaining: 20m 4s\n",
      "327:\tlearn: 0.1368048\ttotal: 9m 46s\tremaining: 20m 2s\n",
      "328:\tlearn: 0.1366876\ttotal: 9m 48s\tremaining: 20m\n",
      "329:\tlearn: 0.1365953\ttotal: 9m 50s\tremaining: 19m 58s\n",
      "330:\tlearn: 0.1365401\ttotal: 9m 52s\tremaining: 19m 56s\n",
      "331:\tlearn: 0.1364890\ttotal: 9m 53s\tremaining: 19m 54s\n",
      "332:\tlearn: 0.1364203\ttotal: 9m 55s\tremaining: 19m 52s\n",
      "333:\tlearn: 0.1363030\ttotal: 9m 57s\tremaining: 19m 51s\n",
      "334:\tlearn: 0.1362003\ttotal: 9m 59s\tremaining: 19m 49s\n",
      "335:\tlearn: 0.1360984\ttotal: 10m\tremaining: 19m 47s\n",
      "336:\tlearn: 0.1359978\ttotal: 10m 2s\tremaining: 19m 45s\n",
      "337:\tlearn: 0.1359094\ttotal: 10m 4s\tremaining: 19m 43s\n",
      "338:\tlearn: 0.1357611\ttotal: 10m 6s\tremaining: 19m 41s\n",
      "339:\tlearn: 0.1356571\ttotal: 10m 8s\tremaining: 19m 40s\n",
      "340:\tlearn: 0.1355644\ttotal: 10m 10s\tremaining: 19m 39s\n",
      "341:\tlearn: 0.1354734\ttotal: 10m 12s\tremaining: 19m 37s\n",
      "342:\tlearn: 0.1353862\ttotal: 10m 13s\tremaining: 19m 35s\n",
      "343:\tlearn: 0.1353089\ttotal: 10m 15s\tremaining: 19m 33s\n",
      "344:\tlearn: 0.1352279\ttotal: 10m 17s\tremaining: 19m 32s\n",
      "345:\tlearn: 0.1351339\ttotal: 10m 19s\tremaining: 19m 30s\n",
      "346:\tlearn: 0.1350797\ttotal: 10m 20s\tremaining: 19m 28s\n",
      "347:\tlearn: 0.1350310\ttotal: 10m 22s\tremaining: 19m 26s\n",
      "348:\tlearn: 0.1349523\ttotal: 10m 24s\tremaining: 19m 24s\n",
      "349:\tlearn: 0.1348777\ttotal: 10m 25s\tremaining: 19m 22s\n",
      "350:\tlearn: 0.1347285\ttotal: 10m 27s\tremaining: 19m 20s\n",
      "351:\tlearn: 0.1346203\ttotal: 10m 29s\tremaining: 19m 18s\n",
      "352:\tlearn: 0.1345104\ttotal: 10m 31s\tremaining: 19m 16s\n",
      "353:\tlearn: 0.1343911\ttotal: 10m 32s\tremaining: 19m 15s\n",
      "354:\tlearn: 0.1342787\ttotal: 10m 34s\tremaining: 19m 13s\n",
      "355:\tlearn: 0.1341663\ttotal: 10m 36s\tremaining: 19m 11s\n",
      "356:\tlearn: 0.1340423\ttotal: 10m 38s\tremaining: 19m 9s\n",
      "357:\tlearn: 0.1339875\ttotal: 10m 39s\tremaining: 19m 7s\n",
      "358:\tlearn: 0.1338560\ttotal: 10m 41s\tremaining: 19m 5s\n",
      "359:\tlearn: 0.1337297\ttotal: 10m 43s\tremaining: 19m 4s\n",
      "360:\tlearn: 0.1336838\ttotal: 10m 45s\tremaining: 19m 2s\n",
      "361:\tlearn: 0.1335685\ttotal: 10m 46s\tremaining: 19m\n",
      "362:\tlearn: 0.1334650\ttotal: 10m 48s\tremaining: 18m 58s\n",
      "363:\tlearn: 0.1333857\ttotal: 10m 50s\tremaining: 18m 56s\n",
      "364:\tlearn: 0.1333375\ttotal: 10m 52s\tremaining: 18m 54s\n",
      "365:\tlearn: 0.1332370\ttotal: 10m 53s\tremaining: 18m 52s\n",
      "366:\tlearn: 0.1331830\ttotal: 10m 55s\tremaining: 18m 50s\n",
      "367:\tlearn: 0.1331106\ttotal: 10m 57s\tremaining: 18m 48s\n",
      "368:\tlearn: 0.1330124\ttotal: 10m 59s\tremaining: 18m 47s\n",
      "369:\tlearn: 0.1329682\ttotal: 11m\tremaining: 18m 45s\n",
      "370:\tlearn: 0.1329270\ttotal: 11m 2s\tremaining: 18m 43s\n",
      "371:\tlearn: 0.1328572\ttotal: 11m 4s\tremaining: 18m 41s\n",
      "372:\tlearn: 0.1327819\ttotal: 11m 5s\tremaining: 18m 39s\n",
      "373:\tlearn: 0.1327183\ttotal: 11m 7s\tremaining: 18m 37s\n",
      "374:\tlearn: 0.1326742\ttotal: 11m 9s\tremaining: 18m 35s\n",
      "375:\tlearn: 0.1325783\ttotal: 11m 10s\tremaining: 18m 33s\n",
      "376:\tlearn: 0.1325251\ttotal: 11m 12s\tremaining: 18m 31s\n",
      "377:\tlearn: 0.1324226\ttotal: 11m 14s\tremaining: 18m 29s\n",
      "378:\tlearn: 0.1322939\ttotal: 11m 15s\tremaining: 18m 27s\n",
      "379:\tlearn: 0.1322183\ttotal: 11m 17s\tremaining: 18m 25s\n",
      "380:\tlearn: 0.1321771\ttotal: 11m 19s\tremaining: 18m 23s\n",
      "381:\tlearn: 0.1321353\ttotal: 11m 20s\tremaining: 18m 21s\n",
      "382:\tlearn: 0.1320831\ttotal: 11m 22s\tremaining: 18m 19s\n",
      "383:\tlearn: 0.1319599\ttotal: 11m 24s\tremaining: 18m 18s\n",
      "384:\tlearn: 0.1319144\ttotal: 11m 27s\tremaining: 18m 17s\n",
      "385:\tlearn: 0.1318552\ttotal: 11m 28s\tremaining: 18m 15s\n",
      "386:\tlearn: 0.1318070\ttotal: 11m 30s\tremaining: 18m 13s\n",
      "387:\tlearn: 0.1317246\ttotal: 11m 32s\tremaining: 18m 11s\n",
      "388:\tlearn: 0.1316830\ttotal: 11m 33s\tremaining: 18m 9s\n",
      "389:\tlearn: 0.1316354\ttotal: 11m 35s\tremaining: 18m 7s\n",
      "390:\tlearn: 0.1315031\ttotal: 11m 37s\tremaining: 18m 5s\n",
      "391:\tlearn: 0.1313625\ttotal: 11m 38s\tremaining: 18m 3s\n",
      "392:\tlearn: 0.1312914\ttotal: 11m 40s\tremaining: 18m 2s\n",
      "393:\tlearn: 0.1312254\ttotal: 11m 42s\tremaining: 18m\n",
      "394:\tlearn: 0.1311481\ttotal: 11m 43s\tremaining: 17m 58s\n",
      "395:\tlearn: 0.1310966\ttotal: 11m 45s\tremaining: 17m 56s\n",
      "396:\tlearn: 0.1310137\ttotal: 11m 47s\tremaining: 17m 54s\n",
      "397:\tlearn: 0.1309748\ttotal: 11m 48s\tremaining: 17m 52s\n",
      "398:\tlearn: 0.1309348\ttotal: 11m 50s\tremaining: 17m 50s\n",
      "399:\tlearn: 0.1308642\ttotal: 11m 52s\tremaining: 17m 48s\n",
      "400:\tlearn: 0.1308012\ttotal: 11m 53s\tremaining: 17m 46s\n",
      "401:\tlearn: 0.1307407\ttotal: 11m 55s\tremaining: 17m 44s\n",
      "402:\tlearn: 0.1306822\ttotal: 11m 57s\tremaining: 17m 42s\n",
      "403:\tlearn: 0.1305693\ttotal: 11m 58s\tremaining: 17m 40s\n",
      "404:\tlearn: 0.1305042\ttotal: 12m\tremaining: 17m 38s\n",
      "405:\tlearn: 0.1304348\ttotal: 12m 2s\tremaining: 17m 36s\n",
      "406:\tlearn: 0.1303965\ttotal: 12m 3s\tremaining: 17m 34s\n",
      "407:\tlearn: 0.1303177\ttotal: 12m 5s\tremaining: 17m 33s\n",
      "408:\tlearn: 0.1302798\ttotal: 12m 7s\tremaining: 17m 31s\n",
      "409:\tlearn: 0.1301714\ttotal: 12m 9s\tremaining: 17m 29s\n",
      "410:\tlearn: 0.1301375\ttotal: 12m 11s\tremaining: 17m 27s\n",
      "411:\tlearn: 0.1300730\ttotal: 12m 12s\tremaining: 17m 25s\n",
      "412:\tlearn: 0.1299686\ttotal: 12m 14s\tremaining: 17m 23s\n",
      "413:\tlearn: 0.1298741\ttotal: 12m 16s\tremaining: 17m 22s\n",
      "414:\tlearn: 0.1298328\ttotal: 12m 17s\tremaining: 17m 20s\n",
      "415:\tlearn: 0.1297966\ttotal: 12m 19s\tremaining: 17m 18s\n",
      "416:\tlearn: 0.1297509\ttotal: 12m 21s\tremaining: 17m 16s\n",
      "417:\tlearn: 0.1296331\ttotal: 12m 22s\tremaining: 17m 14s\n",
      "418:\tlearn: 0.1295506\ttotal: 12m 24s\tremaining: 17m 12s\n",
      "419:\tlearn: 0.1294762\ttotal: 12m 26s\tremaining: 17m 10s\n",
      "420:\tlearn: 0.1294033\ttotal: 12m 27s\tremaining: 17m 8s\n",
      "421:\tlearn: 0.1293254\ttotal: 12m 29s\tremaining: 17m 6s\n",
      "422:\tlearn: 0.1292266\ttotal: 12m 31s\tremaining: 17m 4s\n",
      "423:\tlearn: 0.1291596\ttotal: 12m 33s\tremaining: 17m 3s\n",
      "424:\tlearn: 0.1290816\ttotal: 12m 34s\tremaining: 17m 1s\n",
      "425:\tlearn: 0.1290115\ttotal: 12m 36s\tremaining: 16m 59s\n",
      "426:\tlearn: 0.1289762\ttotal: 12m 38s\tremaining: 16m 57s\n",
      "427:\tlearn: 0.1289254\ttotal: 12m 39s\tremaining: 16m 55s\n",
      "428:\tlearn: 0.1288614\ttotal: 12m 41s\tremaining: 16m 53s\n",
      "429:\tlearn: 0.1287554\ttotal: 12m 43s\tremaining: 16m 51s\n",
      "430:\tlearn: 0.1286933\ttotal: 12m 44s\tremaining: 16m 49s\n",
      "431:\tlearn: 0.1286204\ttotal: 12m 46s\tremaining: 16m 48s\n",
      "432:\tlearn: 0.1285837\ttotal: 12m 48s\tremaining: 16m 46s\n",
      "433:\tlearn: 0.1284712\ttotal: 12m 50s\tremaining: 16m 44s\n",
      "434:\tlearn: 0.1284351\ttotal: 12m 51s\tremaining: 16m 42s\n",
      "435:\tlearn: 0.1283378\ttotal: 12m 53s\tremaining: 16m 40s\n",
      "436:\tlearn: 0.1282720\ttotal: 12m 55s\tremaining: 16m 39s\n",
      "437:\tlearn: 0.1281866\ttotal: 12m 57s\tremaining: 16m 38s\n",
      "438:\tlearn: 0.1281413\ttotal: 12m 59s\tremaining: 16m 36s\n",
      "439:\tlearn: 0.1280545\ttotal: 13m 1s\tremaining: 16m 35s\n",
      "440:\tlearn: 0.1279746\ttotal: 13m 4s\tremaining: 16m 33s\n",
      "441:\tlearn: 0.1278933\ttotal: 13m 5s\tremaining: 16m 32s\n",
      "442:\tlearn: 0.1278184\ttotal: 13m 7s\tremaining: 16m 30s\n",
      "443:\tlearn: 0.1277510\ttotal: 13m 9s\tremaining: 16m 28s\n",
      "444:\tlearn: 0.1277147\ttotal: 13m 10s\tremaining: 16m 26s\n",
      "445:\tlearn: 0.1276580\ttotal: 13m 12s\tremaining: 16m 24s\n",
      "446:\tlearn: 0.1275602\ttotal: 13m 14s\tremaining: 16m 22s\n",
      "447:\tlearn: 0.1274993\ttotal: 13m 15s\tremaining: 16m 20s\n",
      "448:\tlearn: 0.1274528\ttotal: 13m 17s\tremaining: 16m 18s\n",
      "449:\tlearn: 0.1274189\ttotal: 13m 19s\tremaining: 16m 16s\n",
      "450:\tlearn: 0.1273803\ttotal: 13m 20s\tremaining: 16m 14s\n",
      "451:\tlearn: 0.1273462\ttotal: 13m 22s\tremaining: 16m 12s\n",
      "452:\tlearn: 0.1272109\ttotal: 13m 24s\tremaining: 16m 11s\n",
      "453:\tlearn: 0.1271574\ttotal: 13m 25s\tremaining: 16m 9s\n",
      "454:\tlearn: 0.1271242\ttotal: 13m 27s\tremaining: 16m 7s\n",
      "455:\tlearn: 0.1270592\ttotal: 13m 29s\tremaining: 16m 5s\n",
      "456:\tlearn: 0.1270172\ttotal: 13m 30s\tremaining: 16m 3s\n",
      "457:\tlearn: 0.1269203\ttotal: 13m 32s\tremaining: 16m 1s\n",
      "458:\tlearn: 0.1268879\ttotal: 13m 34s\tremaining: 15m 59s\n",
      "459:\tlearn: 0.1267968\ttotal: 13m 36s\tremaining: 15m 58s\n",
      "460:\tlearn: 0.1267651\ttotal: 13m 37s\tremaining: 15m 56s\n",
      "461:\tlearn: 0.1266875\ttotal: 13m 39s\tremaining: 15m 54s\n",
      "462:\tlearn: 0.1266018\ttotal: 13m 41s\tremaining: 15m 52s\n",
      "463:\tlearn: 0.1265493\ttotal: 13m 42s\tremaining: 15m 50s\n",
      "464:\tlearn: 0.1265130\ttotal: 13m 44s\tremaining: 15m 48s\n",
      "465:\tlearn: 0.1264573\ttotal: 13m 46s\tremaining: 15m 46s\n",
      "466:\tlearn: 0.1263438\ttotal: 13m 47s\tremaining: 15m 44s\n",
      "467:\tlearn: 0.1263103\ttotal: 13m 49s\tremaining: 15m 42s\n",
      "468:\tlearn: 0.1262626\ttotal: 13m 51s\tremaining: 15m 40s\n",
      "469:\tlearn: 0.1262259\ttotal: 13m 52s\tremaining: 15m 38s\n",
      "470:\tlearn: 0.1261342\ttotal: 13m 54s\tremaining: 15m 37s\n",
      "471:\tlearn: 0.1261035\ttotal: 13m 56s\tremaining: 15m 35s\n",
      "472:\tlearn: 0.1260718\ttotal: 13m 57s\tremaining: 15m 33s\n",
      "473:\tlearn: 0.1259951\ttotal: 13m 59s\tremaining: 15m 31s\n",
      "474:\tlearn: 0.1259254\ttotal: 14m 1s\tremaining: 15m 29s\n",
      "475:\tlearn: 0.1258500\ttotal: 14m 3s\tremaining: 15m 28s\n",
      "476:\tlearn: 0.1258060\ttotal: 14m 4s\tremaining: 15m 26s\n",
      "477:\tlearn: 0.1257311\ttotal: 14m 6s\tremaining: 15m 24s\n",
      "478:\tlearn: 0.1256373\ttotal: 14m 8s\tremaining: 15m 22s\n",
      "479:\tlearn: 0.1255528\ttotal: 14m 9s\tremaining: 15m 20s\n",
      "480:\tlearn: 0.1255131\ttotal: 14m 11s\tremaining: 15m 18s\n",
      "481:\tlearn: 0.1254491\ttotal: 14m 13s\tremaining: 15m 16s\n",
      "482:\tlearn: 0.1253681\ttotal: 14m 14s\tremaining: 15m 15s\n",
      "483:\tlearn: 0.1253343\ttotal: 14m 16s\tremaining: 15m 13s\n",
      "484:\tlearn: 0.1252644\ttotal: 14m 18s\tremaining: 15m 11s\n",
      "485:\tlearn: 0.1252297\ttotal: 14m 19s\tremaining: 15m 9s\n",
      "486:\tlearn: 0.1251992\ttotal: 14m 21s\tremaining: 15m 7s\n",
      "487:\tlearn: 0.1251327\ttotal: 14m 23s\tremaining: 15m 5s\n",
      "488:\tlearn: 0.1250741\ttotal: 14m 24s\tremaining: 15m 3s\n",
      "489:\tlearn: 0.1249466\ttotal: 14m 26s\tremaining: 15m 2s\n",
      "490:\tlearn: 0.1248868\ttotal: 14m 28s\tremaining: 15m\n",
      "491:\tlearn: 0.1247951\ttotal: 14m 30s\tremaining: 14m 58s\n",
      "492:\tlearn: 0.1247494\ttotal: 14m 31s\tremaining: 14m 56s\n",
      "493:\tlearn: 0.1247060\ttotal: 14m 33s\tremaining: 14m 54s\n",
      "494:\tlearn: 0.1246474\ttotal: 14m 34s\tremaining: 14m 52s\n",
      "495:\tlearn: 0.1246109\ttotal: 14m 36s\tremaining: 14m 50s\n",
      "496:\tlearn: 0.1245755\ttotal: 14m 38s\tremaining: 14m 48s\n",
      "497:\tlearn: 0.1245399\ttotal: 14m 39s\tremaining: 14m 46s\n",
      "498:\tlearn: 0.1244420\ttotal: 14m 41s\tremaining: 14m 45s\n",
      "499:\tlearn: 0.1243531\ttotal: 14m 43s\tremaining: 14m 43s\n",
      "500:\tlearn: 0.1243101\ttotal: 14m 44s\tremaining: 14m 41s\n",
      "501:\tlearn: 0.1242430\ttotal: 14m 46s\tremaining: 14m 39s\n",
      "502:\tlearn: 0.1241924\ttotal: 14m 48s\tremaining: 14m 37s\n",
      "503:\tlearn: 0.1241452\ttotal: 14m 50s\tremaining: 14m 35s\n",
      "504:\tlearn: 0.1241122\ttotal: 14m 51s\tremaining: 14m 34s\n",
      "505:\tlearn: 0.1240407\ttotal: 14m 53s\tremaining: 14m 32s\n",
      "506:\tlearn: 0.1239884\ttotal: 14m 55s\tremaining: 14m 30s\n",
      "507:\tlearn: 0.1238898\ttotal: 14m 57s\tremaining: 14m 29s\n",
      "508:\tlearn: 0.1237949\ttotal: 14m 59s\tremaining: 14m 27s\n",
      "509:\tlearn: 0.1237657\ttotal: 15m 1s\tremaining: 14m 25s\n",
      "510:\tlearn: 0.1236535\ttotal: 15m 3s\tremaining: 14m 24s\n",
      "511:\tlearn: 0.1236246\ttotal: 15m 5s\tremaining: 14m 23s\n",
      "512:\tlearn: 0.1235390\ttotal: 15m 7s\tremaining: 14m 21s\n",
      "513:\tlearn: 0.1234916\ttotal: 15m 9s\tremaining: 14m 20s\n",
      "514:\tlearn: 0.1234030\ttotal: 15m 11s\tremaining: 14m 18s\n",
      "515:\tlearn: 0.1232948\ttotal: 15m 13s\tremaining: 14m 16s\n",
      "516:\tlearn: 0.1232475\ttotal: 15m 14s\tremaining: 14m 14s\n",
      "517:\tlearn: 0.1231853\ttotal: 15m 16s\tremaining: 14m 12s\n",
      "518:\tlearn: 0.1231467\ttotal: 15m 18s\tremaining: 14m 11s\n",
      "519:\tlearn: 0.1231176\ttotal: 15m 19s\tremaining: 14m 9s\n",
      "520:\tlearn: 0.1230895\ttotal: 15m 21s\tremaining: 14m 7s\n",
      "521:\tlearn: 0.1230271\ttotal: 15m 23s\tremaining: 14m 6s\n",
      "522:\tlearn: 0.1229203\ttotal: 15m 25s\tremaining: 14m 4s\n",
      "523:\tlearn: 0.1228891\ttotal: 15m 27s\tremaining: 14m 2s\n",
      "524:\tlearn: 0.1228415\ttotal: 15m 28s\tremaining: 14m\n",
      "525:\tlearn: 0.1227740\ttotal: 15m 30s\tremaining: 13m 58s\n",
      "526:\tlearn: 0.1227450\ttotal: 15m 32s\tremaining: 13m 56s\n",
      "527:\tlearn: 0.1227083\ttotal: 15m 33s\tremaining: 13m 54s\n",
      "528:\tlearn: 0.1226428\ttotal: 15m 35s\tremaining: 13m 53s\n",
      "529:\tlearn: 0.1225667\ttotal: 15m 37s\tremaining: 13m 51s\n",
      "530:\tlearn: 0.1225151\ttotal: 15m 39s\tremaining: 13m 49s\n",
      "531:\tlearn: 0.1224850\ttotal: 15m 40s\tremaining: 13m 47s\n",
      "532:\tlearn: 0.1224406\ttotal: 15m 42s\tremaining: 13m 45s\n",
      "533:\tlearn: 0.1223934\ttotal: 15m 43s\tremaining: 13m 43s\n",
      "534:\tlearn: 0.1223345\ttotal: 15m 45s\tremaining: 13m 41s\n",
      "535:\tlearn: 0.1222686\ttotal: 15m 47s\tremaining: 13m 40s\n",
      "536:\tlearn: 0.1222388\ttotal: 15m 49s\tremaining: 13m 38s\n",
      "537:\tlearn: 0.1222100\ttotal: 15m 50s\tremaining: 13m 36s\n",
      "538:\tlearn: 0.1221208\ttotal: 15m 52s\tremaining: 13m 34s\n",
      "539:\tlearn: 0.1220863\ttotal: 15m 54s\tremaining: 13m 32s\n",
      "540:\tlearn: 0.1220099\ttotal: 15m 56s\tremaining: 13m 31s\n",
      "541:\tlearn: 0.1219333\ttotal: 15m 57s\tremaining: 13m 29s\n",
      "542:\tlearn: 0.1218662\ttotal: 15m 59s\tremaining: 13m 27s\n",
      "543:\tlearn: 0.1217704\ttotal: 16m 1s\tremaining: 13m 25s\n",
      "544:\tlearn: 0.1217074\ttotal: 16m 3s\tremaining: 13m 24s\n",
      "545:\tlearn: 0.1216277\ttotal: 16m 4s\tremaining: 13m 22s\n",
      "546:\tlearn: 0.1215985\ttotal: 16m 6s\tremaining: 13m 20s\n",
      "547:\tlearn: 0.1215685\ttotal: 16m 8s\tremaining: 13m 18s\n",
      "548:\tlearn: 0.1214873\ttotal: 16m 9s\tremaining: 13m 16s\n",
      "549:\tlearn: 0.1214030\ttotal: 16m 11s\tremaining: 13m 15s\n",
      "550:\tlearn: 0.1213348\ttotal: 16m 13s\tremaining: 13m 13s\n",
      "551:\tlearn: 0.1213075\ttotal: 16m 15s\tremaining: 13m 11s\n",
      "552:\tlearn: 0.1212762\ttotal: 16m 17s\tremaining: 13m 9s\n",
      "553:\tlearn: 0.1211933\ttotal: 16m 18s\tremaining: 13m 7s\n",
      "554:\tlearn: 0.1211285\ttotal: 16m 20s\tremaining: 13m 6s\n",
      "555:\tlearn: 0.1210785\ttotal: 16m 22s\tremaining: 13m 4s\n",
      "556:\tlearn: 0.1210508\ttotal: 16m 23s\tremaining: 13m 2s\n",
      "557:\tlearn: 0.1210086\ttotal: 16m 25s\tremaining: 13m\n",
      "558:\tlearn: 0.1209811\ttotal: 16m 27s\tremaining: 12m 58s\n",
      "559:\tlearn: 0.1209313\ttotal: 16m 28s\tremaining: 12m 56s\n",
      "560:\tlearn: 0.1208441\ttotal: 16m 30s\tremaining: 12m 55s\n",
      "561:\tlearn: 0.1208165\ttotal: 16m 32s\tremaining: 12m 53s\n",
      "562:\tlearn: 0.1207534\ttotal: 16m 33s\tremaining: 12m 51s\n",
      "563:\tlearn: 0.1207222\ttotal: 16m 35s\tremaining: 12m 49s\n",
      "564:\tlearn: 0.1206427\ttotal: 16m 37s\tremaining: 12m 47s\n",
      "565:\tlearn: 0.1205624\ttotal: 16m 39s\tremaining: 12m 46s\n",
      "566:\tlearn: 0.1205061\ttotal: 16m 40s\tremaining: 12m 44s\n",
      "567:\tlearn: 0.1204809\ttotal: 16m 42s\tremaining: 12m 42s\n",
      "568:\tlearn: 0.1204553\ttotal: 16m 44s\tremaining: 12m 40s\n",
      "569:\tlearn: 0.1203840\ttotal: 16m 45s\tremaining: 12m 38s\n",
      "570:\tlearn: 0.1203453\ttotal: 16m 47s\tremaining: 12m 36s\n",
      "571:\tlearn: 0.1202877\ttotal: 16m 49s\tremaining: 12m 35s\n",
      "572:\tlearn: 0.1202362\ttotal: 16m 51s\tremaining: 12m 33s\n",
      "573:\tlearn: 0.1201553\ttotal: 16m 52s\tremaining: 12m 31s\n",
      "574:\tlearn: 0.1201290\ttotal: 16m 54s\tremaining: 12m 29s\n",
      "575:\tlearn: 0.1200877\ttotal: 16m 56s\tremaining: 12m 28s\n",
      "576:\tlearn: 0.1200250\ttotal: 16m 57s\tremaining: 12m 26s\n",
      "577:\tlearn: 0.1200006\ttotal: 16m 59s\tremaining: 12m 24s\n",
      "578:\tlearn: 0.1199746\ttotal: 17m 1s\tremaining: 12m 22s\n",
      "579:\tlearn: 0.1199479\ttotal: 17m 2s\tremaining: 12m 20s\n",
      "580:\tlearn: 0.1198939\ttotal: 17m 4s\tremaining: 12m 18s\n",
      "581:\tlearn: 0.1198319\ttotal: 17m 6s\tremaining: 12m 17s\n",
      "582:\tlearn: 0.1198067\ttotal: 17m 7s\tremaining: 12m 15s\n",
      "583:\tlearn: 0.1197061\ttotal: 17m 9s\tremaining: 12m 13s\n",
      "584:\tlearn: 0.1196383\ttotal: 17m 11s\tremaining: 12m 11s\n",
      "585:\tlearn: 0.1196058\ttotal: 17m 12s\tremaining: 12m 9s\n",
      "586:\tlearn: 0.1195593\ttotal: 17m 14s\tremaining: 12m 7s\n",
      "587:\tlearn: 0.1195150\ttotal: 17m 16s\tremaining: 12m 6s\n",
      "588:\tlearn: 0.1194591\ttotal: 17m 17s\tremaining: 12m 4s\n",
      "589:\tlearn: 0.1194347\ttotal: 17m 19s\tremaining: 12m 2s\n",
      "590:\tlearn: 0.1193793\ttotal: 17m 21s\tremaining: 12m\n",
      "591:\tlearn: 0.1193548\ttotal: 17m 22s\tremaining: 11m 58s\n",
      "592:\tlearn: 0.1193302\ttotal: 17m 24s\tremaining: 11m 56s\n",
      "593:\tlearn: 0.1192625\ttotal: 17m 26s\tremaining: 11m 55s\n",
      "594:\tlearn: 0.1192379\ttotal: 17m 27s\tremaining: 11m 53s\n",
      "595:\tlearn: 0.1191935\ttotal: 17m 29s\tremaining: 11m 51s\n",
      "596:\tlearn: 0.1191461\ttotal: 17m 31s\tremaining: 11m 49s\n",
      "597:\tlearn: 0.1191161\ttotal: 17m 32s\tremaining: 11m 47s\n",
      "598:\tlearn: 0.1190376\ttotal: 17m 34s\tremaining: 11m 46s\n",
      "599:\tlearn: 0.1189694\ttotal: 17m 36s\tremaining: 11m 44s\n",
      "600:\tlearn: 0.1189450\ttotal: 17m 38s\tremaining: 11m 42s\n",
      "601:\tlearn: 0.1189191\ttotal: 17m 39s\tremaining: 11m 40s\n",
      "602:\tlearn: 0.1188836\ttotal: 17m 41s\tremaining: 11m 38s\n",
      "603:\tlearn: 0.1188606\ttotal: 17m 42s\tremaining: 11m 36s\n",
      "604:\tlearn: 0.1188274\ttotal: 17m 44s\tremaining: 11m 35s\n",
      "605:\tlearn: 0.1188043\ttotal: 17m 46s\tremaining: 11m 33s\n",
      "606:\tlearn: 0.1187811\ttotal: 17m 47s\tremaining: 11m 31s\n",
      "607:\tlearn: 0.1187375\ttotal: 17m 49s\tremaining: 11m 29s\n",
      "608:\tlearn: 0.1186882\ttotal: 17m 51s\tremaining: 11m 27s\n",
      "609:\tlearn: 0.1186572\ttotal: 17m 53s\tremaining: 11m 26s\n",
      "610:\tlearn: 0.1186337\ttotal: 17m 54s\tremaining: 11m 24s\n",
      "611:\tlearn: 0.1186109\ttotal: 17m 56s\tremaining: 11m 22s\n",
      "612:\tlearn: 0.1185689\ttotal: 17m 58s\tremaining: 11m 20s\n",
      "613:\tlearn: 0.1184887\ttotal: 18m\tremaining: 11m 19s\n",
      "614:\tlearn: 0.1184576\ttotal: 18m 1s\tremaining: 11m 17s\n",
      "615:\tlearn: 0.1184237\ttotal: 18m 3s\tremaining: 11m 15s\n",
      "616:\tlearn: 0.1184010\ttotal: 18m 4s\tremaining: 11m 13s\n",
      "617:\tlearn: 0.1183454\ttotal: 18m 6s\tremaining: 11m 11s\n",
      "618:\tlearn: 0.1182936\ttotal: 18m 8s\tremaining: 11m 9s\n",
      "619:\tlearn: 0.1182558\ttotal: 18m 10s\tremaining: 11m 8s\n",
      "620:\tlearn: 0.1182176\ttotal: 18m 11s\tremaining: 11m 6s\n",
      "621:\tlearn: 0.1181928\ttotal: 18m 13s\tremaining: 11m 4s\n",
      "622:\tlearn: 0.1181702\ttotal: 18m 14s\tremaining: 11m 2s\n",
      "623:\tlearn: 0.1180939\ttotal: 18m 16s\tremaining: 11m\n",
      "624:\tlearn: 0.1180495\ttotal: 18m 18s\tremaining: 10m 59s\n",
      "625:\tlearn: 0.1180250\ttotal: 18m 20s\tremaining: 10m 57s\n",
      "626:\tlearn: 0.1179748\ttotal: 18m 21s\tremaining: 10m 55s\n",
      "627:\tlearn: 0.1179408\ttotal: 18m 23s\tremaining: 10m 53s\n",
      "628:\tlearn: 0.1179175\ttotal: 18m 24s\tremaining: 10m 51s\n",
      "629:\tlearn: 0.1178945\ttotal: 18m 26s\tremaining: 10m 49s\n",
      "630:\tlearn: 0.1178636\ttotal: 18m 28s\tremaining: 10m 48s\n",
      "631:\tlearn: 0.1177921\ttotal: 18m 29s\tremaining: 10m 46s\n",
      "632:\tlearn: 0.1177706\ttotal: 18m 31s\tremaining: 10m 44s\n",
      "633:\tlearn: 0.1177214\ttotal: 18m 33s\tremaining: 10m 42s\n",
      "634:\tlearn: 0.1176692\ttotal: 18m 35s\tremaining: 10m 40s\n",
      "635:\tlearn: 0.1176470\ttotal: 18m 36s\tremaining: 10m 39s\n",
      "636:\tlearn: 0.1176188\ttotal: 18m 38s\tremaining: 10m 37s\n",
      "637:\tlearn: 0.1175955\ttotal: 18m 39s\tremaining: 10m 35s\n",
      "638:\tlearn: 0.1175415\ttotal: 18m 41s\tremaining: 10m 33s\n",
      "639:\tlearn: 0.1175044\ttotal: 18m 43s\tremaining: 10m 31s\n",
      "640:\tlearn: 0.1174816\ttotal: 18m 44s\tremaining: 10m 29s\n",
      "641:\tlearn: 0.1174596\ttotal: 18m 46s\tremaining: 10m 28s\n",
      "642:\tlearn: 0.1174288\ttotal: 18m 48s\tremaining: 10m 26s\n",
      "643:\tlearn: 0.1173237\ttotal: 18m 49s\tremaining: 10m 24s\n",
      "644:\tlearn: 0.1173028\ttotal: 18m 51s\tremaining: 10m 22s\n",
      "645:\tlearn: 0.1172350\ttotal: 18m 53s\tremaining: 10m 21s\n",
      "646:\tlearn: 0.1172141\ttotal: 18m 54s\tremaining: 10m 19s\n",
      "647:\tlearn: 0.1171740\ttotal: 18m 56s\tremaining: 10m 17s\n",
      "648:\tlearn: 0.1170495\ttotal: 18m 58s\tremaining: 10m 15s\n",
      "649:\tlearn: 0.1170029\ttotal: 19m\tremaining: 10m 13s\n",
      "650:\tlearn: 0.1169531\ttotal: 19m 1s\tremaining: 10m 12s\n",
      "651:\tlearn: 0.1169069\ttotal: 19m 3s\tremaining: 10m 10s\n",
      "652:\tlearn: 0.1168756\ttotal: 19m 5s\tremaining: 10m 8s\n",
      "653:\tlearn: 0.1168386\ttotal: 19m 6s\tremaining: 10m 6s\n",
      "654:\tlearn: 0.1168164\ttotal: 19m 8s\tremaining: 10m 4s\n",
      "655:\tlearn: 0.1167947\ttotal: 19m 9s\tremaining: 10m 3s\n",
      "656:\tlearn: 0.1167739\ttotal: 19m 11s\tremaining: 10m 1s\n",
      "657:\tlearn: 0.1167303\ttotal: 19m 13s\tremaining: 9m 59s\n",
      "658:\tlearn: 0.1167093\ttotal: 19m 14s\tremaining: 9m 57s\n",
      "659:\tlearn: 0.1166643\ttotal: 19m 16s\tremaining: 9m 55s\n",
      "660:\tlearn: 0.1166388\ttotal: 19m 18s\tremaining: 9m 53s\n",
      "661:\tlearn: 0.1165880\ttotal: 19m 19s\tremaining: 9m 52s\n",
      "662:\tlearn: 0.1165146\ttotal: 19m 21s\tremaining: 9m 50s\n",
      "663:\tlearn: 0.1164868\ttotal: 19m 23s\tremaining: 9m 48s\n",
      "664:\tlearn: 0.1164428\ttotal: 19m 24s\tremaining: 9m 46s\n",
      "665:\tlearn: 0.1163857\ttotal: 19m 26s\tremaining: 9m 45s\n",
      "666:\tlearn: 0.1163330\ttotal: 19m 28s\tremaining: 9m 43s\n",
      "667:\tlearn: 0.1162681\ttotal: 19m 30s\tremaining: 9m 41s\n",
      "668:\tlearn: 0.1162465\ttotal: 19m 31s\tremaining: 9m 39s\n",
      "669:\tlearn: 0.1161901\ttotal: 19m 33s\tremaining: 9m 38s\n",
      "670:\tlearn: 0.1161611\ttotal: 19m 35s\tremaining: 9m 36s\n",
      "671:\tlearn: 0.1161407\ttotal: 19m 36s\tremaining: 9m 34s\n",
      "672:\tlearn: 0.1160897\ttotal: 19m 38s\tremaining: 9m 32s\n",
      "673:\tlearn: 0.1160418\ttotal: 19m 40s\tremaining: 9m 30s\n",
      "674:\tlearn: 0.1160147\ttotal: 19m 41s\tremaining: 9m 29s\n",
      "675:\tlearn: 0.1159520\ttotal: 19m 43s\tremaining: 9m 27s\n",
      "676:\tlearn: 0.1159313\ttotal: 19m 45s\tremaining: 9m 25s\n",
      "677:\tlearn: 0.1159112\ttotal: 19m 46s\tremaining: 9m 23s\n",
      "678:\tlearn: 0.1158620\ttotal: 19m 48s\tremaining: 9m 21s\n",
      "679:\tlearn: 0.1158097\ttotal: 19m 50s\tremaining: 9m 20s\n",
      "680:\tlearn: 0.1157278\ttotal: 19m 52s\tremaining: 9m 18s\n",
      "681:\tlearn: 0.1157077\ttotal: 19m 53s\tremaining: 9m 16s\n",
      "682:\tlearn: 0.1156785\ttotal: 19m 55s\tremaining: 9m 14s\n",
      "683:\tlearn: 0.1156502\ttotal: 19m 57s\tremaining: 9m 13s\n",
      "684:\tlearn: 0.1155712\ttotal: 19m 58s\tremaining: 9m 11s\n",
      "685:\tlearn: 0.1155174\ttotal: 20m\tremaining: 9m 9s\n",
      "686:\tlearn: 0.1154684\ttotal: 20m 2s\tremaining: 9m 7s\n",
      "687:\tlearn: 0.1154475\ttotal: 20m 3s\tremaining: 9m 5s\n",
      "688:\tlearn: 0.1154280\ttotal: 20m 5s\tremaining: 9m 4s\n",
      "689:\tlearn: 0.1154080\ttotal: 20m 7s\tremaining: 9m 2s\n",
      "690:\tlearn: 0.1153604\ttotal: 20m 9s\tremaining: 9m\n",
      "691:\tlearn: 0.1153346\ttotal: 20m 10s\tremaining: 8m 58s\n",
      "692:\tlearn: 0.1152988\ttotal: 20m 12s\tremaining: 8m 57s\n",
      "693:\tlearn: 0.1152621\ttotal: 20m 13s\tremaining: 8m 55s\n",
      "694:\tlearn: 0.1152386\ttotal: 20m 15s\tremaining: 8m 53s\n",
      "695:\tlearn: 0.1152186\ttotal: 20m 17s\tremaining: 8m 51s\n",
      "696:\tlearn: 0.1151913\ttotal: 20m 18s\tremaining: 8m 49s\n",
      "697:\tlearn: 0.1151711\ttotal: 20m 20s\tremaining: 8m 48s\n",
      "698:\tlearn: 0.1151517\ttotal: 20m 22s\tremaining: 8m 46s\n",
      "699:\tlearn: 0.1151245\ttotal: 20m 24s\tremaining: 8m 44s\n",
      "700:\tlearn: 0.1151023\ttotal: 20m 26s\tremaining: 8m 43s\n",
      "701:\tlearn: 0.1150780\ttotal: 20m 27s\tremaining: 8m 41s\n",
      "702:\tlearn: 0.1150574\ttotal: 20m 29s\tremaining: 8m 39s\n",
      "703:\tlearn: 0.1149820\ttotal: 20m 31s\tremaining: 8m 37s\n",
      "704:\tlearn: 0.1149631\ttotal: 20m 32s\tremaining: 8m 35s\n",
      "705:\tlearn: 0.1149124\ttotal: 20m 34s\tremaining: 8m 34s\n",
      "706:\tlearn: 0.1148642\ttotal: 20m 36s\tremaining: 8m 32s\n",
      "707:\tlearn: 0.1148444\ttotal: 20m 38s\tremaining: 8m 30s\n",
      "708:\tlearn: 0.1148247\ttotal: 20m 39s\tremaining: 8m 28s\n",
      "709:\tlearn: 0.1148046\ttotal: 20m 41s\tremaining: 8m 26s\n",
      "710:\tlearn: 0.1147202\ttotal: 20m 43s\tremaining: 8m 25s\n",
      "711:\tlearn: 0.1147018\ttotal: 20m 44s\tremaining: 8m 23s\n",
      "712:\tlearn: 0.1146813\ttotal: 20m 46s\tremaining: 8m 21s\n",
      "713:\tlearn: 0.1146371\ttotal: 20m 47s\tremaining: 8m 19s\n",
      "714:\tlearn: 0.1145591\ttotal: 20m 49s\tremaining: 8m 18s\n",
      "715:\tlearn: 0.1145215\ttotal: 20m 51s\tremaining: 8m 16s\n",
      "716:\tlearn: 0.1144360\ttotal: 20m 53s\tremaining: 8m 14s\n",
      "717:\tlearn: 0.1143800\ttotal: 20m 55s\tremaining: 8m 12s\n",
      "718:\tlearn: 0.1143606\ttotal: 20m 56s\tremaining: 8m 11s\n",
      "719:\tlearn: 0.1143111\ttotal: 20m 58s\tremaining: 8m 9s\n",
      "720:\tlearn: 0.1142460\ttotal: 21m\tremaining: 8m 7s\n",
      "721:\tlearn: 0.1141992\ttotal: 21m 1s\tremaining: 8m 5s\n",
      "722:\tlearn: 0.1141657\ttotal: 21m 3s\tremaining: 8m 4s\n",
      "723:\tlearn: 0.1141188\ttotal: 21m 5s\tremaining: 8m 2s\n",
      "724:\tlearn: 0.1140879\ttotal: 21m 6s\tremaining: 8m\n",
      "725:\tlearn: 0.1140667\ttotal: 21m 8s\tremaining: 7m 58s\n",
      "726:\tlearn: 0.1140481\ttotal: 21m 10s\tremaining: 7m 56s\n",
      "727:\tlearn: 0.1140083\ttotal: 21m 11s\tremaining: 7m 55s\n",
      "728:\tlearn: 0.1139548\ttotal: 21m 13s\tremaining: 7m 53s\n",
      "729:\tlearn: 0.1138979\ttotal: 21m 15s\tremaining: 7m 51s\n",
      "730:\tlearn: 0.1138731\ttotal: 21m 16s\tremaining: 7m 49s\n",
      "731:\tlearn: 0.1138093\ttotal: 21m 18s\tremaining: 7m 48s\n",
      "732:\tlearn: 0.1137585\ttotal: 21m 20s\tremaining: 7m 46s\n",
      "733:\tlearn: 0.1137400\ttotal: 21m 21s\tremaining: 7m 44s\n",
      "734:\tlearn: 0.1137043\ttotal: 21m 23s\tremaining: 7m 42s\n",
      "735:\tlearn: 0.1136861\ttotal: 21m 25s\tremaining: 7m 40s\n",
      "736:\tlearn: 0.1136679\ttotal: 21m 26s\tremaining: 7m 39s\n",
      "737:\tlearn: 0.1136497\ttotal: 21m 28s\tremaining: 7m 37s\n",
      "738:\tlearn: 0.1135949\ttotal: 21m 30s\tremaining: 7m 35s\n",
      "739:\tlearn: 0.1135269\ttotal: 21m 31s\tremaining: 7m 33s\n",
      "740:\tlearn: 0.1135063\ttotal: 21m 33s\tremaining: 7m 32s\n",
      "741:\tlearn: 0.1134403\ttotal: 21m 35s\tremaining: 7m 30s\n",
      "742:\tlearn: 0.1134169\ttotal: 21m 36s\tremaining: 7m 28s\n",
      "743:\tlearn: 0.1133597\ttotal: 21m 38s\tremaining: 7m 26s\n",
      "744:\tlearn: 0.1133012\ttotal: 21m 40s\tremaining: 7m 25s\n",
      "745:\tlearn: 0.1132449\ttotal: 21m 41s\tremaining: 7m 23s\n",
      "746:\tlearn: 0.1131888\ttotal: 21m 43s\tremaining: 7m 21s\n",
      "747:\tlearn: 0.1131430\ttotal: 21m 45s\tremaining: 7m 19s\n",
      "748:\tlearn: 0.1131199\ttotal: 21m 47s\tremaining: 7m 18s\n",
      "749:\tlearn: 0.1130699\ttotal: 21m 48s\tremaining: 7m 16s\n",
      "750:\tlearn: 0.1130058\ttotal: 21m 50s\tremaining: 7m 14s\n",
      "751:\tlearn: 0.1129799\ttotal: 21m 52s\tremaining: 7m 12s\n",
      "752:\tlearn: 0.1129324\ttotal: 21m 53s\tremaining: 7m 11s\n",
      "753:\tlearn: 0.1128412\ttotal: 21m 55s\tremaining: 7m 9s\n",
      "754:\tlearn: 0.1128231\ttotal: 21m 57s\tremaining: 7m 7s\n",
      "755:\tlearn: 0.1128045\ttotal: 21m 58s\tremaining: 7m 5s\n",
      "756:\tlearn: 0.1127644\ttotal: 22m\tremaining: 7m 3s\n",
      "757:\tlearn: 0.1127408\ttotal: 22m 2s\tremaining: 7m 2s\n",
      "758:\tlearn: 0.1126862\ttotal: 22m 3s\tremaining: 7m\n",
      "759:\tlearn: 0.1126678\ttotal: 22m 5s\tremaining: 6m 58s\n",
      "760:\tlearn: 0.1126454\ttotal: 22m 7s\tremaining: 6m 56s\n",
      "761:\tlearn: 0.1126270\ttotal: 22m 8s\tremaining: 6m 55s\n",
      "762:\tlearn: 0.1126044\ttotal: 22m 10s\tremaining: 6m 53s\n",
      "763:\tlearn: 0.1125608\ttotal: 22m 12s\tremaining: 6m 51s\n",
      "764:\tlearn: 0.1125426\ttotal: 22m 13s\tremaining: 6m 49s\n",
      "765:\tlearn: 0.1124930\ttotal: 22m 15s\tremaining: 6m 48s\n",
      "766:\tlearn: 0.1124675\ttotal: 22m 17s\tremaining: 6m 46s\n",
      "767:\tlearn: 0.1124207\ttotal: 22m 18s\tremaining: 6m 44s\n",
      "768:\tlearn: 0.1123877\ttotal: 22m 20s\tremaining: 6m 42s\n",
      "769:\tlearn: 0.1123386\ttotal: 22m 22s\tremaining: 6m 40s\n",
      "770:\tlearn: 0.1122848\ttotal: 22m 23s\tremaining: 6m 39s\n",
      "771:\tlearn: 0.1122582\ttotal: 22m 25s\tremaining: 6m 37s\n",
      "772:\tlearn: 0.1122057\ttotal: 22m 27s\tremaining: 6m 35s\n",
      "773:\tlearn: 0.1121891\ttotal: 22m 28s\tremaining: 6m 33s\n",
      "774:\tlearn: 0.1121314\ttotal: 22m 30s\tremaining: 6m 32s\n",
      "775:\tlearn: 0.1120976\ttotal: 22m 32s\tremaining: 6m 30s\n",
      "776:\tlearn: 0.1120686\ttotal: 22m 33s\tremaining: 6m 28s\n",
      "777:\tlearn: 0.1120355\ttotal: 22m 35s\tremaining: 6m 26s\n",
      "778:\tlearn: 0.1119959\ttotal: 22m 37s\tremaining: 6m 25s\n",
      "779:\tlearn: 0.1119774\ttotal: 22m 38s\tremaining: 6m 23s\n",
      "780:\tlearn: 0.1119509\ttotal: 22m 40s\tremaining: 6m 21s\n",
      "781:\tlearn: 0.1118686\ttotal: 22m 42s\tremaining: 6m 19s\n",
      "782:\tlearn: 0.1118486\ttotal: 22m 43s\tremaining: 6m 18s\n",
      "783:\tlearn: 0.1118286\ttotal: 22m 45s\tremaining: 6m 16s\n",
      "784:\tlearn: 0.1118112\ttotal: 22m 47s\tremaining: 6m 14s\n",
      "785:\tlearn: 0.1117914\ttotal: 22m 48s\tremaining: 6m 12s\n",
      "786:\tlearn: 0.1117728\ttotal: 22m 50s\tremaining: 6m 10s\n",
      "787:\tlearn: 0.1117227\ttotal: 22m 52s\tremaining: 6m 9s\n",
      "788:\tlearn: 0.1117037\ttotal: 22m 53s\tremaining: 6m 7s\n",
      "789:\tlearn: 0.1116502\ttotal: 22m 55s\tremaining: 6m 5s\n",
      "790:\tlearn: 0.1116323\ttotal: 22m 57s\tremaining: 6m 3s\n",
      "791:\tlearn: 0.1115695\ttotal: 22m 59s\tremaining: 6m 2s\n",
      "792:\tlearn: 0.1115449\ttotal: 23m\tremaining: 6m\n",
      "793:\tlearn: 0.1114961\ttotal: 23m 2s\tremaining: 5m 58s\n",
      "794:\tlearn: 0.1114560\ttotal: 23m 4s\tremaining: 5m 56s\n",
      "795:\tlearn: 0.1114353\ttotal: 23m 5s\tremaining: 5m 55s\n",
      "796:\tlearn: 0.1114173\ttotal: 23m 7s\tremaining: 5m 53s\n",
      "797:\tlearn: 0.1113910\ttotal: 23m 9s\tremaining: 5m 51s\n",
      "798:\tlearn: 0.1113374\ttotal: 23m 10s\tremaining: 5m 49s\n",
      "799:\tlearn: 0.1112921\ttotal: 23m 12s\tremaining: 5m 48s\n",
      "800:\tlearn: 0.1112444\ttotal: 23m 14s\tremaining: 5m 46s\n",
      "801:\tlearn: 0.1111973\ttotal: 23m 16s\tremaining: 5m 44s\n",
      "802:\tlearn: 0.1111621\ttotal: 23m 17s\tremaining: 5m 42s\n",
      "803:\tlearn: 0.1111341\ttotal: 23m 19s\tremaining: 5m 41s\n",
      "804:\tlearn: 0.1111128\ttotal: 23m 21s\tremaining: 5m 39s\n",
      "805:\tlearn: 0.1110707\ttotal: 23m 23s\tremaining: 5m 37s\n",
      "806:\tlearn: 0.1110499\ttotal: 23m 25s\tremaining: 5m 36s\n",
      "807:\tlearn: 0.1110197\ttotal: 23m 27s\tremaining: 5m 34s\n",
      "808:\tlearn: 0.1110017\ttotal: 23m 28s\tremaining: 5m 32s\n",
      "809:\tlearn: 0.1109511\ttotal: 23m 30s\tremaining: 5m 30s\n",
      "810:\tlearn: 0.1109239\ttotal: 23m 32s\tremaining: 5m 29s\n",
      "811:\tlearn: 0.1108967\ttotal: 23m 33s\tremaining: 5m 27s\n",
      "812:\tlearn: 0.1108615\ttotal: 23m 35s\tremaining: 5m 25s\n",
      "813:\tlearn: 0.1107910\ttotal: 23m 37s\tremaining: 5m 23s\n",
      "814:\tlearn: 0.1107352\ttotal: 23m 39s\tremaining: 5m 22s\n",
      "815:\tlearn: 0.1107153\ttotal: 23m 40s\tremaining: 5m 20s\n",
      "816:\tlearn: 0.1106728\ttotal: 23m 42s\tremaining: 5m 18s\n",
      "817:\tlearn: 0.1106563\ttotal: 23m 44s\tremaining: 5m 16s\n",
      "818:\tlearn: 0.1106049\ttotal: 23m 45s\tremaining: 5m 15s\n",
      "819:\tlearn: 0.1105880\ttotal: 23m 47s\tremaining: 5m 13s\n",
      "820:\tlearn: 0.1105405\ttotal: 23m 49s\tremaining: 5m 11s\n",
      "821:\tlearn: 0.1105241\ttotal: 23m 50s\tremaining: 5m 9s\n",
      "822:\tlearn: 0.1104546\ttotal: 23m 52s\tremaining: 5m 8s\n",
      "823:\tlearn: 0.1104315\ttotal: 23m 54s\tremaining: 5m 6s\n",
      "824:\tlearn: 0.1103786\ttotal: 23m 56s\tremaining: 5m 4s\n",
      "825:\tlearn: 0.1103591\ttotal: 23m 57s\tremaining: 5m 2s\n",
      "826:\tlearn: 0.1103297\ttotal: 23m 59s\tremaining: 5m 1s\n",
      "827:\tlearn: 0.1102867\ttotal: 24m 1s\tremaining: 4m 59s\n",
      "828:\tlearn: 0.1102400\ttotal: 24m 3s\tremaining: 4m 57s\n",
      "829:\tlearn: 0.1102172\ttotal: 24m 4s\tremaining: 4m 55s\n",
      "830:\tlearn: 0.1101429\ttotal: 24m 6s\tremaining: 4m 54s\n",
      "831:\tlearn: 0.1101168\ttotal: 24m 8s\tremaining: 4m 52s\n",
      "832:\tlearn: 0.1100764\ttotal: 24m 9s\tremaining: 4m 50s\n",
      "833:\tlearn: 0.1100600\ttotal: 24m 11s\tremaining: 4m 48s\n",
      "834:\tlearn: 0.1100056\ttotal: 24m 13s\tremaining: 4m 47s\n",
      "835:\tlearn: 0.1099884\ttotal: 24m 14s\tremaining: 4m 45s\n",
      "836:\tlearn: 0.1099308\ttotal: 24m 16s\tremaining: 4m 43s\n",
      "837:\tlearn: 0.1098837\ttotal: 24m 18s\tremaining: 4m 41s\n",
      "838:\tlearn: 0.1098351\ttotal: 24m 19s\tremaining: 4m 40s\n",
      "839:\tlearn: 0.1097761\ttotal: 24m 21s\tremaining: 4m 38s\n",
      "840:\tlearn: 0.1097471\ttotal: 24m 23s\tremaining: 4m 36s\n",
      "841:\tlearn: 0.1097306\ttotal: 24m 24s\tremaining: 4m 34s\n",
      "842:\tlearn: 0.1097153\ttotal: 24m 26s\tremaining: 4m 33s\n",
      "843:\tlearn: 0.1096986\ttotal: 24m 28s\tremaining: 4m 31s\n",
      "844:\tlearn: 0.1096554\ttotal: 24m 29s\tremaining: 4m 29s\n",
      "845:\tlearn: 0.1096202\ttotal: 24m 31s\tremaining: 4m 27s\n",
      "846:\tlearn: 0.1095986\ttotal: 24m 33s\tremaining: 4m 26s\n",
      "847:\tlearn: 0.1095728\ttotal: 24m 34s\tremaining: 4m 24s\n",
      "848:\tlearn: 0.1095506\ttotal: 24m 36s\tremaining: 4m 22s\n",
      "849:\tlearn: 0.1095136\ttotal: 24m 38s\tremaining: 4m 20s\n",
      "850:\tlearn: 0.1094704\ttotal: 24m 39s\tremaining: 4m 19s\n",
      "851:\tlearn: 0.1094545\ttotal: 24m 41s\tremaining: 4m 17s\n",
      "852:\tlearn: 0.1094158\ttotal: 24m 43s\tremaining: 4m 15s\n",
      "853:\tlearn: 0.1093738\ttotal: 24m 44s\tremaining: 4m 13s\n",
      "854:\tlearn: 0.1093528\ttotal: 24m 46s\tremaining: 4m 12s\n",
      "855:\tlearn: 0.1093364\ttotal: 24m 48s\tremaining: 4m 10s\n",
      "856:\tlearn: 0.1093204\ttotal: 24m 49s\tremaining: 4m 8s\n",
      "857:\tlearn: 0.1092695\ttotal: 24m 51s\tremaining: 4m 6s\n",
      "858:\tlearn: 0.1092474\ttotal: 24m 53s\tremaining: 4m 5s\n",
      "859:\tlearn: 0.1092292\ttotal: 24m 54s\tremaining: 4m 3s\n",
      "860:\tlearn: 0.1092020\ttotal: 24m 56s\tremaining: 4m 1s\n",
      "861:\tlearn: 0.1091861\ttotal: 24m 58s\tremaining: 3m 59s\n",
      "862:\tlearn: 0.1091702\ttotal: 24m 59s\tremaining: 3m 58s\n",
      "863:\tlearn: 0.1091336\ttotal: 25m 1s\tremaining: 3m 56s\n",
      "864:\tlearn: 0.1091021\ttotal: 25m 3s\tremaining: 3m 54s\n",
      "865:\tlearn: 0.1090532\ttotal: 25m 4s\tremaining: 3m 52s\n",
      "866:\tlearn: 0.1090316\ttotal: 25m 6s\tremaining: 3m 51s\n",
      "867:\tlearn: 0.1090155\ttotal: 25m 8s\tremaining: 3m 49s\n",
      "868:\tlearn: 0.1089990\ttotal: 25m 9s\tremaining: 3m 47s\n",
      "869:\tlearn: 0.1089835\ttotal: 25m 11s\tremaining: 3m 45s\n",
      "870:\tlearn: 0.1089273\ttotal: 25m 13s\tremaining: 3m 44s\n",
      "871:\tlearn: 0.1089116\ttotal: 25m 14s\tremaining: 3m 42s\n",
      "872:\tlearn: 0.1088699\ttotal: 25m 16s\tremaining: 3m 40s\n",
      "873:\tlearn: 0.1088496\ttotal: 25m 18s\tremaining: 3m 38s\n",
      "874:\tlearn: 0.1087977\ttotal: 25m 20s\tremaining: 3m 37s\n",
      "875:\tlearn: 0.1087521\ttotal: 25m 21s\tremaining: 3m 35s\n",
      "876:\tlearn: 0.1087270\ttotal: 25m 23s\tremaining: 3m 33s\n",
      "877:\tlearn: 0.1086574\ttotal: 25m 25s\tremaining: 3m 31s\n",
      "878:\tlearn: 0.1086205\ttotal: 25m 26s\tremaining: 3m 30s\n",
      "879:\tlearn: 0.1085019\ttotal: 25m 28s\tremaining: 3m 28s\n",
      "880:\tlearn: 0.1084866\ttotal: 25m 30s\tremaining: 3m 26s\n",
      "881:\tlearn: 0.1084127\ttotal: 25m 32s\tremaining: 3m 24s\n",
      "882:\tlearn: 0.1083887\ttotal: 25m 33s\tremaining: 3m 23s\n",
      "883:\tlearn: 0.1083527\ttotal: 25m 35s\tremaining: 3m 21s\n",
      "884:\tlearn: 0.1082807\ttotal: 25m 37s\tremaining: 3m 19s\n",
      "885:\tlearn: 0.1082653\ttotal: 25m 38s\tremaining: 3m 18s\n",
      "886:\tlearn: 0.1082495\ttotal: 25m 40s\tremaining: 3m 16s\n",
      "887:\tlearn: 0.1082299\ttotal: 25m 42s\tremaining: 3m 14s\n",
      "888:\tlearn: 0.1082096\ttotal: 25m 43s\tremaining: 3m 12s\n",
      "889:\tlearn: 0.1081941\ttotal: 25m 45s\tremaining: 3m 10s\n",
      "890:\tlearn: 0.1081793\ttotal: 25m 47s\tremaining: 3m 9s\n",
      "891:\tlearn: 0.1081425\ttotal: 25m 48s\tremaining: 3m 7s\n",
      "892:\tlearn: 0.1080544\ttotal: 25m 50s\tremaining: 3m 5s\n",
      "893:\tlearn: 0.1080141\ttotal: 25m 52s\tremaining: 3m 4s\n",
      "894:\tlearn: 0.1079720\ttotal: 25m 54s\tremaining: 3m 2s\n",
      "895:\tlearn: 0.1079178\ttotal: 25m 55s\tremaining: 3m\n",
      "896:\tlearn: 0.1078690\ttotal: 25m 57s\tremaining: 2m 58s\n",
      "897:\tlearn: 0.1078123\ttotal: 25m 59s\tremaining: 2m 57s\n",
      "898:\tlearn: 0.1077827\ttotal: 26m 1s\tremaining: 2m 55s\n",
      "899:\tlearn: 0.1077541\ttotal: 26m 2s\tremaining: 2m 53s\n",
      "900:\tlearn: 0.1077009\ttotal: 26m 4s\tremaining: 2m 51s\n",
      "901:\tlearn: 0.1076760\ttotal: 26m 6s\tremaining: 2m 50s\n",
      "902:\tlearn: 0.1076556\ttotal: 26m 7s\tremaining: 2m 48s\n",
      "903:\tlearn: 0.1076202\ttotal: 26m 9s\tremaining: 2m 46s\n",
      "904:\tlearn: 0.1076016\ttotal: 26m 11s\tremaining: 2m 44s\n",
      "905:\tlearn: 0.1075860\ttotal: 26m 12s\tremaining: 2m 43s\n",
      "906:\tlearn: 0.1075719\ttotal: 26m 14s\tremaining: 2m 41s\n",
      "907:\tlearn: 0.1075562\ttotal: 26m 16s\tremaining: 2m 39s\n",
      "908:\tlearn: 0.1075411\ttotal: 26m 17s\tremaining: 2m 37s\n",
      "909:\tlearn: 0.1075263\ttotal: 26m 19s\tremaining: 2m 36s\n",
      "910:\tlearn: 0.1074735\ttotal: 26m 21s\tremaining: 2m 34s\n",
      "911:\tlearn: 0.1074329\ttotal: 26m 23s\tremaining: 2m 32s\n",
      "912:\tlearn: 0.1074126\ttotal: 26m 25s\tremaining: 2m 31s\n",
      "913:\tlearn: 0.1073976\ttotal: 26m 26s\tremaining: 2m 29s\n",
      "914:\tlearn: 0.1073835\ttotal: 26m 28s\tremaining: 2m 27s\n",
      "915:\tlearn: 0.1073636\ttotal: 26m 30s\tremaining: 2m 25s\n",
      "916:\tlearn: 0.1073309\ttotal: 26m 31s\tremaining: 2m 24s\n",
      "917:\tlearn: 0.1072744\ttotal: 26m 33s\tremaining: 2m 22s\n",
      "918:\tlearn: 0.1072153\ttotal: 26m 35s\tremaining: 2m 20s\n",
      "919:\tlearn: 0.1071945\ttotal: 26m 36s\tremaining: 2m 18s\n",
      "920:\tlearn: 0.1071671\ttotal: 26m 38s\tremaining: 2m 17s\n",
      "921:\tlearn: 0.1071290\ttotal: 26m 40s\tremaining: 2m 15s\n",
      "922:\tlearn: 0.1070690\ttotal: 26m 42s\tremaining: 2m 13s\n",
      "923:\tlearn: 0.1070220\ttotal: 26m 43s\tremaining: 2m 11s\n",
      "924:\tlearn: 0.1069822\ttotal: 26m 45s\tremaining: 2m 10s\n",
      "925:\tlearn: 0.1069678\ttotal: 26m 47s\tremaining: 2m 8s\n",
      "926:\tlearn: 0.1069245\ttotal: 26m 48s\tremaining: 2m 6s\n",
      "927:\tlearn: 0.1069008\ttotal: 26m 50s\tremaining: 2m 4s\n",
      "928:\tlearn: 0.1068720\ttotal: 26m 52s\tremaining: 2m 3s\n",
      "929:\tlearn: 0.1068204\ttotal: 26m 54s\tremaining: 2m 1s\n",
      "930:\tlearn: 0.1068063\ttotal: 26m 55s\tremaining: 1m 59s\n",
      "931:\tlearn: 0.1067919\ttotal: 26m 57s\tremaining: 1m 58s\n",
      "932:\tlearn: 0.1067726\ttotal: 26m 58s\tremaining: 1m 56s\n",
      "933:\tlearn: 0.1067578\ttotal: 27m\tremaining: 1m 54s\n",
      "934:\tlearn: 0.1067431\ttotal: 27m 2s\tremaining: 1m 52s\n",
      "935:\tlearn: 0.1067185\ttotal: 27m 3s\tremaining: 1m 51s\n",
      "936:\tlearn: 0.1067043\ttotal: 27m 5s\tremaining: 1m 49s\n",
      "937:\tlearn: 0.1066656\ttotal: 27m 7s\tremaining: 1m 47s\n",
      "938:\tlearn: 0.1066252\ttotal: 27m 8s\tremaining: 1m 45s\n",
      "939:\tlearn: 0.1066101\ttotal: 27m 10s\tremaining: 1m 44s\n",
      "940:\tlearn: 0.1065770\ttotal: 27m 12s\tremaining: 1m 42s\n",
      "941:\tlearn: 0.1065391\ttotal: 27m 13s\tremaining: 1m 40s\n",
      "942:\tlearn: 0.1065132\ttotal: 27m 15s\tremaining: 1m 38s\n",
      "943:\tlearn: 0.1064546\ttotal: 27m 17s\tremaining: 1m 37s\n",
      "944:\tlearn: 0.1064396\ttotal: 27m 19s\tremaining: 1m 35s\n",
      "945:\tlearn: 0.1064124\ttotal: 27m 20s\tremaining: 1m 33s\n",
      "946:\tlearn: 0.1063488\ttotal: 27m 22s\tremaining: 1m 31s\n",
      "947:\tlearn: 0.1063272\ttotal: 27m 24s\tremaining: 1m 30s\n",
      "948:\tlearn: 0.1062846\ttotal: 27m 25s\tremaining: 1m 28s\n",
      "949:\tlearn: 0.1062697\ttotal: 27m 27s\tremaining: 1m 26s\n",
      "950:\tlearn: 0.1062552\ttotal: 27m 29s\tremaining: 1m 24s\n",
      "951:\tlearn: 0.1062031\ttotal: 27m 30s\tremaining: 1m 23s\n",
      "952:\tlearn: 0.1061839\ttotal: 27m 32s\tremaining: 1m 21s\n",
      "953:\tlearn: 0.1061594\ttotal: 27m 34s\tremaining: 1m 19s\n",
      "954:\tlearn: 0.1061200\ttotal: 27m 36s\tremaining: 1m 18s\n",
      "955:\tlearn: 0.1061041\ttotal: 27m 37s\tremaining: 1m 16s\n",
      "956:\tlearn: 0.1060543\ttotal: 27m 39s\tremaining: 1m 14s\n",
      "957:\tlearn: 0.1060259\ttotal: 27m 41s\tremaining: 1m 12s\n",
      "958:\tlearn: 0.1059937\ttotal: 27m 42s\tremaining: 1m 11s\n",
      "959:\tlearn: 0.1059779\ttotal: 27m 44s\tremaining: 1m 9s\n",
      "960:\tlearn: 0.1059395\ttotal: 27m 46s\tremaining: 1m 7s\n",
      "961:\tlearn: 0.1059197\ttotal: 27m 47s\tremaining: 1m 5s\n",
      "962:\tlearn: 0.1058781\ttotal: 27m 49s\tremaining: 1m 4s\n",
      "963:\tlearn: 0.1058298\ttotal: 27m 51s\tremaining: 1m 2s\n",
      "964:\tlearn: 0.1058106\ttotal: 27m 53s\tremaining: 1m\n",
      "965:\tlearn: 0.1057936\ttotal: 27m 54s\tremaining: 58.9s\n",
      "966:\tlearn: 0.1057499\ttotal: 27m 56s\tremaining: 57.2s\n",
      "967:\tlearn: 0.1057308\ttotal: 27m 58s\tremaining: 55.5s\n",
      "968:\tlearn: 0.1057097\ttotal: 27m 59s\tremaining: 53.7s\n",
      "969:\tlearn: 0.1056755\ttotal: 28m 1s\tremaining: 52s\n",
      "970:\tlearn: 0.1056576\ttotal: 28m 3s\tremaining: 50.3s\n",
      "971:\tlearn: 0.1056424\ttotal: 28m 4s\tremaining: 48.5s\n",
      "972:\tlearn: 0.1055955\ttotal: 28m 6s\tremaining: 46.8s\n",
      "973:\tlearn: 0.1055805\ttotal: 28m 8s\tremaining: 45.1s\n",
      "974:\tlearn: 0.1055521\ttotal: 28m 9s\tremaining: 43.3s\n",
      "975:\tlearn: 0.1054966\ttotal: 28m 11s\tremaining: 41.6s\n",
      "976:\tlearn: 0.1054777\ttotal: 28m 13s\tremaining: 39.9s\n",
      "977:\tlearn: 0.1054358\ttotal: 28m 15s\tremaining: 38.1s\n",
      "978:\tlearn: 0.1054028\ttotal: 28m 16s\tremaining: 36.4s\n",
      "979:\tlearn: 0.1053561\ttotal: 28m 18s\tremaining: 34.7s\n",
      "980:\tlearn: 0.1053420\ttotal: 28m 20s\tremaining: 32.9s\n",
      "981:\tlearn: 0.1052789\ttotal: 28m 21s\tremaining: 31.2s\n",
      "982:\tlearn: 0.1052644\ttotal: 28m 23s\tremaining: 29.5s\n",
      "983:\tlearn: 0.1052192\ttotal: 28m 25s\tremaining: 27.7s\n",
      "984:\tlearn: 0.1051723\ttotal: 28m 27s\tremaining: 26s\n",
      "985:\tlearn: 0.1051572\ttotal: 28m 28s\tremaining: 24.3s\n",
      "986:\tlearn: 0.1051251\ttotal: 28m 30s\tremaining: 22.5s\n",
      "987:\tlearn: 0.1050558\ttotal: 28m 32s\tremaining: 20.8s\n",
      "988:\tlearn: 0.1050424\ttotal: 28m 33s\tremaining: 19.1s\n",
      "989:\tlearn: 0.1050274\ttotal: 28m 35s\tremaining: 17.3s\n",
      "990:\tlearn: 0.1050133\ttotal: 28m 36s\tremaining: 15.6s\n",
      "991:\tlearn: 0.1049993\ttotal: 28m 38s\tremaining: 13.9s\n",
      "992:\tlearn: 0.1049773\ttotal: 28m 40s\tremaining: 12.1s\n",
      "993:\tlearn: 0.1049374\ttotal: 28m 41s\tremaining: 10.4s\n",
      "994:\tlearn: 0.1049223\ttotal: 28m 43s\tremaining: 8.66s\n",
      "995:\tlearn: 0.1049069\ttotal: 28m 45s\tremaining: 6.93s\n",
      "996:\tlearn: 0.1048929\ttotal: 28m 46s\tremaining: 5.2s\n",
      "997:\tlearn: 0.1048600\ttotal: 28m 48s\tremaining: 3.46s\n",
      "998:\tlearn: 0.1048206\ttotal: 28m 50s\tremaining: 1.73s\n",
      "999:\tlearn: 0.1047771\ttotal: 28m 51s\tremaining: 0us\n",
      "CPU times: user 28min 54s, sys: 6.69 s, total: 29min\n",
      "Wall time: 29min 7s\n"
     ]
    },
    {
     "data": {
      "text/plain": [
       "<catboost.core.CatBoostClassifier at 0x7fef121c1f10>"
      ]
     },
     "execution_count": 253,
     "metadata": {},
     "output_type": "execute_result"
    }
   ],
   "source": [
    "%%time\n",
    "model_cat.fit(features_train, target_train);"
   ]
  },
  {
   "cell_type": "code",
   "execution_count": 254,
   "metadata": {},
   "outputs": [
    {
     "name": "stdout",
     "output_type": "stream",
     "text": [
      "F1 на тестовой выборке 0.744\n"
     ]
    }
   ],
   "source": [
    "cat_result = model_cat.predict(features_test)\n",
    "f1_test = f1_score(target_test, cat_result)\n",
    "print('F1 на тестовой выборке {:.3f}'.format(f1_test))"
   ]
  },
  {
   "cell_type": "code",
   "execution_count": 255,
   "metadata": {},
   "outputs": [
    {
     "name": "stdout",
     "output_type": "stream",
     "text": [
      "[[28472   214]\n",
      " [ 1188  2041]]\n"
     ]
    },
    {
     "data": {
      "image/png": "[encoded data removed]",
      "text/plain": [
       "<Figure size 432x288 with 2 Axes>"
      ]
     },
     "metadata": {
      "needs_background": "light"
     },
     "output_type": "display_data"
    }
   ],
   "source": [
    "cf_matrix = confusion_matrix(target_test, cat_result)\n",
    "\n",
    "ax = sns.heatmap(cf_matrix, annot=True, cmap='Blues')\n",
    "\n",
    "ax.set_title('Seaborn Confusion Matrix with labels\\n\\n');\n",
    "ax.set_xlabel('\\nPredicted Values')\n",
    "ax.set_ylabel('Actual Values ');\n",
    "print(cf_matrix)\n",
    "\n",
    "ax.xaxis.set_ticklabels(['False','True'])\n",
    "ax.yaxis.set_ticklabels(['False','True'])\n",
    "\n",
    "plt.show()"
   ]
  },
  {
   "cell_type": "markdown",
   "metadata": {},
   "source": [
    "Наибольшее значение f1 было получено при использовании модели CatBoost, но обучение длилось достаточно долго - около 29 минут. Модель, полученная с помощью SGDClassifier оказалась быстрее, чем CatBoost - обучение заняло менее 1 секунды. При этом SGDClassifier оказался точнее, чем RandomForest.<br>\n",
    "Подберем оптимальные гиперпараметры SGDClassifier для получения f1 выше 0.75."
   ]
  },
  {
   "cell_type": "markdown",
   "metadata": {},
   "source": [
    "### Подбор гиперпараметров"
   ]
  },
  {
   "cell_type": "code",
   "execution_count": 56,
   "metadata": {},
   "outputs": [],
   "source": [
    "pipeline = Pipeline(\n",
    "    [\n",
    "        (\"tfidf\", count_tf_idf),\n",
    "        (\"clf\", SGDClassifier())\n",
    "    ]\n",
    ")"
   ]
  },
  {
   "cell_type": "code",
   "execution_count": 60,
   "metadata": {},
   "outputs": [],
   "source": [
    "params = [ {'clf__loss' : ['hinge', 'log', 'modified_huber', 'squared_hinge', 'perceptron',\n",
    "             'huber', 'epsilon_insensitive', 'squared_epsilon_insensitive'], \n",
    "            'clf__random_state' : [12345],\n",
    "            'clf__alpha' : list(np.arange(1.1, 1.6, 0.1))}]"
   ]
  },
  {
   "cell_type": "code",
   "execution_count": 61,
   "metadata": {},
   "outputs": [],
   "source": [
    "model = GridSearchCV(pipeline, param_grid = params, cv = 4, verbose=True,\n",
    "                            n_jobs=-1)"
   ]
  },
  {
   "cell_type": "code",
   "execution_count": 63,
   "metadata": {},
   "outputs": [
    {
     "name": "stdout",
     "output_type": "stream",
     "text": [
      "Fitting 4 folds for each of 40 candidates, totalling 160 fits\n",
      "CPU times: user 17min 24s, sys: 13.8 s, total: 17min 38s\n",
      "Wall time: 17min 39s\n"
     ]
    }
   ],
   "source": [
    "%%time\n",
    "model = model.fit(data_train, target_train)"
   ]
  },
  {
   "cell_type": "code",
   "execution_count": 64,
   "metadata": {},
   "outputs": [
    {
     "data": {
      "text/plain": [
       "Pipeline(steps=[('tfidf',\n",
       "                 TfidfVectorizer(max_features=50000,\n",
       "                                 stop_words={'a', 'about', 'above', 'after',\n",
       "                                             'again', 'against', 'ain', 'all',\n",
       "                                             'am', 'an', 'and', 'any', 'are',\n",
       "                                             'aren', \"aren't\", 'as', 'at', 'be',\n",
       "                                             'because', 'been', 'before',\n",
       "                                             'being', 'below', 'between',\n",
       "                                             'both', 'but', 'by', 'can',\n",
       "                                             'couldn', \"couldn't\", ...})),\n",
       "                ('clf',\n",
       "                 SGDClassifier(alpha=1.1, loss='perceptron',\n",
       "                               random_state=12345))])"
      ]
     },
     "execution_count": 64,
     "metadata": {},
     "output_type": "execute_result"
    }
   ],
   "source": [
    "model.best_estimator_"
   ]
  },
  {
   "cell_type": "code",
   "execution_count": 67,
   "metadata": {},
   "outputs": [
    {
     "name": "stdout",
     "output_type": "stream",
     "text": [
      "F1 на тестовой выборке 0.767\n"
     ]
    }
   ],
   "source": [
    "model_result = model.predict(data_test)\n",
    "f1_model = f1_score(target_test, model_result)\n",
    "print('F1 на тестовой выборке {:.3f}'.format(f1_model))"
   ]
  },
  {
   "cell_type": "code",
   "execution_count": 68,
   "metadata": {},
   "outputs": [
    {
     "name": "stdout",
     "output_type": "stream",
     "text": [
      "[[27967   674]\n",
      " [  820  2454]]\n"
     ]
    },
    {
     "data": {
      "image/png": "[encoded data removed]",
      "text/plain": [
       "<Figure size 432x288 with 2 Axes>"
      ]
     },
     "metadata": {
      "needs_background": "light"
     },
     "output_type": "display_data"
    }
   ],
   "source": [
    "cf_matrix = confusion_matrix(target_test, model_result)\n",
    "\n",
    "ax = sns.heatmap(cf_matrix, annot=True, cmap='Blues')\n",
    "\n",
    "ax.set_title('Seaborn Confusion Matrix with labels\\n\\n');\n",
    "ax.set_xlabel('\\nPredicted Values')\n",
    "ax.set_ylabel('Actual Values ');\n",
    "print(cf_matrix)\n",
    "\n",
    "ax.xaxis.set_ticklabels(['False','True'])\n",
    "ax.yaxis.set_ticklabels(['False','True'])\n",
    "\n",
    "plt.show()"
   ]
  },
  {
   "cell_type": "markdown",
   "metadata": {},
   "source": [
    "## Выводы"
   ]
  },
  {
   "cell_type": "markdown",
   "metadata": {},
   "source": [
    "В результате работы была выполнена предобработка данных: лемматизация, очистка от символов и стоп-слов, а также генерация признаков.<br>\n",
    "На полученном датасете были построены модели SGDClassifier, RandomForest, CatBoost. Обучение CatBoost занимает много времени, а RandomForest недостаточно точен, поэтому был выбран SGDClassifier.<br> В итоге была получена модель для определения токсичных комментариев с помощью метода SGDClassifier, f1 полученной модели  - 0,767."
   ]
  }
 ],
 "metadata": {
  "ExecuteTimeLog": [
   {
    "duration": 49,
    "start_time": "2022-05-10T09:44:17.497Z"
   },
   {
    "duration": 381,
    "start_time": "2022-05-10T09:44:34.281Z"
   },
   {
    "duration": 868,
    "start_time": "2022-05-10T09:44:38.121Z"
   },
   {
    "duration": 8,
    "start_time": "2022-05-10T09:44:51.993Z"
   },
   {
    "duration": 43,
    "start_time": "2022-05-10T13:43:51.323Z"
   },
   {
    "duration": 360,
    "start_time": "2022-05-10T13:43:59.423Z"
   },
   {
    "duration": 810,
    "start_time": "2022-05-10T13:43:59.785Z"
   },
   {
    "duration": 9,
    "start_time": "2022-05-10T13:44:00.597Z"
   },
   {
    "duration": 11,
    "start_time": "2022-05-10T13:44:01.554Z"
   },
   {
    "duration": 4,
    "start_time": "2022-05-10T13:55:16.237Z"
   },
   {
    "duration": 3,
    "start_time": "2022-05-10T14:46:34.667Z"
   },
   {
    "duration": 2222,
    "start_time": "2022-05-10T14:47:05.099Z"
   },
   {
    "duration": 5,
    "start_time": "2022-05-10T14:47:12.514Z"
   },
   {
    "duration": 904,
    "start_time": "2022-05-10T14:48:34.810Z"
   },
   {
    "duration": 4,
    "start_time": "2022-05-10T14:49:08.038Z"
   },
   {
    "duration": 3,
    "start_time": "2022-05-10T14:49:16.494Z"
   },
   {
    "duration": 10,
    "start_time": "2022-05-10T15:16:51.359Z"
   },
   {
    "duration": 146,
    "start_time": "2022-05-10T15:32:32.082Z"
   },
   {
    "duration": 375,
    "start_time": "2022-05-10T15:32:50.511Z"
   },
   {
    "duration": 106057,
    "start_time": "2022-05-10T15:40:28.793Z"
   },
   {
    "duration": 79337,
    "start_time": "2022-05-10T15:42:16.889Z"
   },
   {
    "duration": 76873,
    "start_time": "2022-05-10T15:43:39.377Z"
   },
   {
    "duration": 15,
    "start_time": "2022-05-10T15:45:02.101Z"
   },
   {
    "duration": 1761,
    "start_time": "2022-05-11T14:22:41.165Z"
   },
   {
    "duration": 301,
    "start_time": "2022-05-11T14:22:52.428Z"
   },
   {
    "duration": 3556,
    "start_time": "2022-05-11T14:22:52.732Z"
   },
   {
    "duration": 8,
    "start_time": "2022-05-11T14:22:56.290Z"
   },
   {
    "duration": 12,
    "start_time": "2022-05-11T14:22:56.300Z"
   },
   {
    "duration": 1846,
    "start_time": "2022-05-11T14:22:56.313Z"
   },
   {
    "duration": 19,
    "start_time": "2022-05-11T14:22:58.161Z"
   },
   {
    "duration": 1011,
    "start_time": "2022-05-11T14:22:58.183Z"
   },
   {
    "duration": 86,
    "start_time": "2022-05-11T14:22:59.196Z"
   },
   {
    "duration": 2,
    "start_time": "2022-05-11T14:22:59.284Z"
   },
   {
    "duration": 2,
    "start_time": "2022-05-11T14:23:24.659Z"
   },
   {
    "duration": 3,
    "start_time": "2022-05-11T14:24:01.471Z"
   },
   {
    "duration": 133,
    "start_time": "2022-05-11T14:24:14.143Z"
   },
   {
    "duration": 3,
    "start_time": "2022-05-11T14:24:46.879Z"
   },
   {
    "duration": 1560,
    "start_time": "2022-05-11T14:24:49.740Z"
   },
   {
    "duration": 14,
    "start_time": "2022-05-11T14:25:31.347Z"
   },
   {
    "duration": 64,
    "start_time": "2022-05-11T14:26:03.567Z"
   },
   {
    "duration": 6,
    "start_time": "2022-05-11T14:30:08.523Z"
   },
   {
    "duration": 10,
    "start_time": "2022-05-11T14:30:24.351Z"
   },
   {
    "duration": 7,
    "start_time": "2022-05-11T14:30:38.184Z"
   },
   {
    "duration": 6,
    "start_time": "2022-05-11T14:30:44.590Z"
   },
   {
    "duration": 412,
    "start_time": "2022-05-11T14:30:56.951Z"
   },
   {
    "duration": 3619,
    "start_time": "2022-05-11T14:30:57.365Z"
   },
   {
    "duration": 13,
    "start_time": "2022-05-11T14:31:00.986Z"
   },
   {
    "duration": 20,
    "start_time": "2022-05-11T14:31:01.001Z"
   },
   {
    "duration": 1775,
    "start_time": "2022-05-11T14:31:01.023Z"
   },
   {
    "duration": 6,
    "start_time": "2022-05-11T14:31:02.799Z"
   },
   {
    "duration": 1286,
    "start_time": "2022-05-11T14:31:02.806Z"
   },
   {
    "duration": 1614,
    "start_time": "2022-05-11T14:31:04.094Z"
   },
   {
    "duration": 3,
    "start_time": "2022-05-11T14:31:05.710Z"
   },
   {
    "duration": 6,
    "start_time": "2022-05-11T14:31:05.715Z"
   },
   {
    "duration": 1862,
    "start_time": "2022-05-11T14:31:05.723Z"
   },
   {
    "duration": 46,
    "start_time": "2022-05-11T14:31:34.841Z"
   },
   {
    "duration": 8,
    "start_time": "2022-05-11T14:31:59.854Z"
   },
   {
    "duration": 525,
    "start_time": "2022-05-11T14:32:11.452Z"
   },
   {
    "duration": 3473,
    "start_time": "2022-05-11T14:32:11.980Z"
   },
   {
    "duration": 13,
    "start_time": "2022-05-11T14:32:15.455Z"
   },
   {
    "duration": 20,
    "start_time": "2022-05-11T14:32:15.472Z"
   },
   {
    "duration": 2067,
    "start_time": "2022-05-11T14:32:15.494Z"
   },
   {
    "duration": 7,
    "start_time": "2022-05-11T14:32:17.563Z"
   },
   {
    "duration": 1134,
    "start_time": "2022-05-11T14:32:17.572Z"
   },
   {
    "duration": 1808,
    "start_time": "2022-05-11T14:32:18.708Z"
   },
   {
    "duration": 3,
    "start_time": "2022-05-11T14:32:20.519Z"
   },
   {
    "duration": 13,
    "start_time": "2022-05-11T14:32:20.524Z"
   },
   {
    "duration": 10,
    "start_time": "2022-05-11T14:32:20.539Z"
   },
   {
    "duration": 1251,
    "start_time": "2022-05-11T14:32:25.597Z"
   },
   {
    "duration": 4,
    "start_time": "2022-05-11T14:33:07.237Z"
   },
   {
    "duration": 3,
    "start_time": "2022-05-11T14:33:39.618Z"
   },
   {
    "duration": 701,
    "start_time": "2022-05-11T14:33:39.632Z"
   },
   {
    "duration": 3,
    "start_time": "2022-05-11T14:33:40.335Z"
   },
   {
    "duration": 10,
    "start_time": "2022-05-11T14:33:40.348Z"
   },
   {
    "duration": 471,
    "start_time": "2022-05-11T14:33:55.266Z"
   },
   {
    "duration": 3509,
    "start_time": "2022-05-11T14:33:55.739Z"
   },
   {
    "duration": 10,
    "start_time": "2022-05-11T14:33:59.250Z"
   },
   {
    "duration": 17,
    "start_time": "2022-05-11T14:33:59.262Z"
   },
   {
    "duration": 1819,
    "start_time": "2022-05-11T14:33:59.280Z"
   },
   {
    "duration": 7,
    "start_time": "2022-05-11T14:34:01.100Z"
   },
   {
    "duration": 73,
    "start_time": "2022-05-11T14:34:01.108Z"
   },
   {
    "duration": 0,
    "start_time": "2022-05-11T14:34:01.183Z"
   },
   {
    "duration": 0,
    "start_time": "2022-05-11T14:34:01.184Z"
   },
   {
    "duration": 0,
    "start_time": "2022-05-11T14:34:01.185Z"
   },
   {
    "duration": 0,
    "start_time": "2022-05-11T14:34:01.186Z"
   },
   {
    "duration": 0,
    "start_time": "2022-05-11T14:34:01.188Z"
   },
   {
    "duration": 2,
    "start_time": "2022-05-11T14:34:56.217Z"
   },
   {
    "duration": 702,
    "start_time": "2022-05-11T14:34:56.232Z"
   },
   {
    "duration": 4,
    "start_time": "2022-05-11T14:34:56.935Z"
   },
   {
    "duration": 7,
    "start_time": "2022-05-11T14:34:56.948Z"
   },
   {
    "duration": 51,
    "start_time": "2022-05-11T14:35:14.651Z"
   },
   {
    "duration": 440,
    "start_time": "2022-05-11T14:35:22.477Z"
   },
   {
    "duration": 3480,
    "start_time": "2022-05-11T14:35:22.919Z"
   },
   {
    "duration": 7,
    "start_time": "2022-05-11T14:35:26.401Z"
   },
   {
    "duration": 9,
    "start_time": "2022-05-11T14:35:26.411Z"
   },
   {
    "duration": 7,
    "start_time": "2022-05-11T14:35:26.421Z"
   },
   {
    "duration": 11,
    "start_time": "2022-05-11T14:35:26.430Z"
   },
   {
    "duration": 22,
    "start_time": "2022-05-11T14:35:26.442Z"
   },
   {
    "duration": 1576,
    "start_time": "2022-05-11T14:35:26.466Z"
   },
   {
    "duration": 6,
    "start_time": "2022-05-11T14:35:28.044Z"
   },
   {
    "duration": 12,
    "start_time": "2022-05-11T14:35:28.053Z"
   },
   {
    "duration": 2200,
    "start_time": "2022-05-11T14:35:28.066Z"
   },
   {
    "duration": 67,
    "start_time": "2022-05-11T14:35:40.829Z"
   },
   {
    "duration": 3,
    "start_time": "2022-05-11T14:36:11.765Z"
   },
   {
    "duration": 3,
    "start_time": "2022-05-11T14:36:29.813Z"
   },
   {
    "duration": 4,
    "start_time": "2022-05-11T14:36:49.408Z"
   },
   {
    "duration": 2,
    "start_time": "2022-05-11T14:42:51.288Z"
   },
   {
    "duration": 3,
    "start_time": "2022-05-11T14:45:29.104Z"
   },
   {
    "duration": 102,
    "start_time": "2022-05-11T14:45:48.489Z"
   },
   {
    "duration": 12,
    "start_time": "2022-05-11T14:45:53.281Z"
   },
   {
    "duration": 47,
    "start_time": "2022-05-11T14:46:13.440Z"
   },
   {
    "duration": 25,
    "start_time": "2022-05-11T14:48:03.500Z"
   },
   {
    "duration": 13,
    "start_time": "2022-05-11T14:49:35.958Z"
   },
   {
    "duration": 6,
    "start_time": "2022-05-11T14:49:59.395Z"
   },
   {
    "duration": 5,
    "start_time": "2022-05-11T14:52:36.460Z"
   },
   {
    "duration": 6,
    "start_time": "2022-05-11T14:53:06.683Z"
   },
   {
    "duration": 13,
    "start_time": "2022-05-11T14:54:03.576Z"
   },
   {
    "duration": 5,
    "start_time": "2022-05-11T14:56:25.370Z"
   },
   {
    "duration": 5,
    "start_time": "2022-05-11T14:56:29.208Z"
   },
   {
    "duration": 5,
    "start_time": "2022-05-11T14:56:48.176Z"
   },
   {
    "duration": 5,
    "start_time": "2022-05-11T14:56:53.948Z"
   },
   {
    "duration": 18,
    "start_time": "2022-05-11T14:57:57.171Z"
   },
   {
    "duration": 5,
    "start_time": "2022-05-11T14:58:03.783Z"
   },
   {
    "duration": 8,
    "start_time": "2022-05-11T14:58:20.120Z"
   },
   {
    "duration": 5,
    "start_time": "2022-05-11T14:58:45.456Z"
   },
   {
    "duration": 3,
    "start_time": "2022-05-11T15:00:24.882Z"
   },
   {
    "duration": 3,
    "start_time": "2022-05-11T15:01:41.828Z"
   },
   {
    "duration": 9,
    "start_time": "2022-05-11T15:02:11.946Z"
   },
   {
    "duration": 4,
    "start_time": "2022-05-11T15:02:20.870Z"
   },
   {
    "duration": 9,
    "start_time": "2022-05-11T15:02:42.869Z"
   },
   {
    "duration": 9,
    "start_time": "2022-05-11T15:05:04.558Z"
   },
   {
    "duration": 141,
    "start_time": "2022-05-11T15:06:37.583Z"
   },
   {
    "duration": 12,
    "start_time": "2022-05-11T15:07:31.296Z"
   },
   {
    "duration": 11,
    "start_time": "2022-05-11T15:07:38.020Z"
   },
   {
    "duration": 6,
    "start_time": "2022-05-11T15:07:53.648Z"
   },
   {
    "duration": 18,
    "start_time": "2022-05-11T15:09:06.157Z"
   },
   {
    "duration": 16,
    "start_time": "2022-05-11T15:09:30.387Z"
   },
   {
    "duration": 3,
    "start_time": "2022-05-11T15:09:48.416Z"
   },
   {
    "duration": 6,
    "start_time": "2022-05-11T15:09:54.751Z"
   },
   {
    "duration": 3,
    "start_time": "2022-05-11T15:10:00.189Z"
   },
   {
    "duration": 22,
    "start_time": "2022-05-11T15:10:08.038Z"
   },
   {
    "duration": 3,
    "start_time": "2022-05-11T15:10:44.404Z"
   },
   {
    "duration": 16,
    "start_time": "2022-05-11T15:10:48.064Z"
   },
   {
    "duration": 17,
    "start_time": "2022-05-11T15:11:03.668Z"
   },
   {
    "duration": 16,
    "start_time": "2022-05-11T15:12:01.220Z"
   },
   {
    "duration": 17,
    "start_time": "2022-05-11T15:12:04.908Z"
   },
   {
    "duration": 4,
    "start_time": "2022-05-11T15:12:49.728Z"
   },
   {
    "duration": 5,
    "start_time": "2022-05-11T15:14:41.278Z"
   },
   {
    "duration": 977,
    "start_time": "2022-05-11T15:14:41.285Z"
   },
   {
    "duration": 5,
    "start_time": "2022-05-11T15:14:42.265Z"
   },
   {
    "duration": 13,
    "start_time": "2022-05-11T15:14:42.272Z"
   },
   {
    "duration": 6,
    "start_time": "2022-05-11T15:14:42.287Z"
   },
   {
    "duration": 6,
    "start_time": "2022-05-11T15:14:42.295Z"
   },
   {
    "duration": 6,
    "start_time": "2022-05-11T15:14:42.303Z"
   },
   {
    "duration": 7,
    "start_time": "2022-05-11T15:14:42.310Z"
   },
   {
    "duration": 7,
    "start_time": "2022-05-11T15:14:42.319Z"
   },
   {
    "duration": 6,
    "start_time": "2022-05-11T15:14:42.328Z"
   },
   {
    "duration": 483,
    "start_time": "2022-05-11T15:14:42.337Z"
   },
   {
    "duration": 4,
    "start_time": "2022-05-11T15:14:42.822Z"
   },
   {
    "duration": 11,
    "start_time": "2022-05-11T15:14:42.828Z"
   },
   {
    "duration": 12,
    "start_time": "2022-05-11T15:14:42.840Z"
   },
   {
    "duration": 24,
    "start_time": "2022-05-11T15:14:42.855Z"
   },
   {
    "duration": 8,
    "start_time": "2022-05-11T15:14:42.881Z"
   },
   {
    "duration": 11,
    "start_time": "2022-05-11T15:14:42.891Z"
   },
   {
    "duration": 18,
    "start_time": "2022-05-11T15:14:42.904Z"
   },
   {
    "duration": 43,
    "start_time": "2022-05-11T15:14:59.767Z"
   },
   {
    "duration": 3,
    "start_time": "2022-05-11T15:15:11.638Z"
   },
   {
    "duration": 5,
    "start_time": "2022-05-11T15:15:14.708Z"
   },
   {
    "duration": 4,
    "start_time": "2022-05-11T15:15:34.740Z"
   },
   {
    "duration": 6,
    "start_time": "2022-05-11T15:17:00.433Z"
   },
   {
    "duration": 4,
    "start_time": "2022-05-11T15:17:20.322Z"
   },
   {
    "duration": 11,
    "start_time": "2022-05-11T15:17:42.797Z"
   },
   {
    "duration": 17,
    "start_time": "2022-05-11T15:17:58.814Z"
   },
   {
    "duration": 4,
    "start_time": "2022-05-11T15:18:29.182Z"
   },
   {
    "duration": 6,
    "start_time": "2022-05-11T15:18:44.954Z"
   },
   {
    "duration": 5,
    "start_time": "2022-05-11T15:19:25.442Z"
   },
   {
    "duration": 11,
    "start_time": "2022-05-11T15:19:45.641Z"
   },
   {
    "duration": 4,
    "start_time": "2022-05-11T15:19:53.634Z"
   },
   {
    "duration": 10,
    "start_time": "2022-05-11T15:20:14.914Z"
   },
   {
    "duration": 5,
    "start_time": "2022-05-11T15:20:22.314Z"
   },
   {
    "duration": 3,
    "start_time": "2022-05-11T15:21:45.749Z"
   },
   {
    "duration": 2,
    "start_time": "2022-05-11T15:22:49.502Z"
   },
   {
    "duration": 890,
    "start_time": "2022-05-11T15:22:49.509Z"
   },
   {
    "duration": 5,
    "start_time": "2022-05-11T15:22:50.401Z"
   },
   {
    "duration": 13,
    "start_time": "2022-05-11T15:22:50.408Z"
   },
   {
    "duration": 5,
    "start_time": "2022-05-11T15:22:50.423Z"
   },
   {
    "duration": 9,
    "start_time": "2022-05-11T15:22:50.430Z"
   },
   {
    "duration": 5,
    "start_time": "2022-05-11T15:22:50.442Z"
   },
   {
    "duration": 25,
    "start_time": "2022-05-11T15:22:50.448Z"
   },
   {
    "duration": 12,
    "start_time": "2022-05-11T15:22:50.474Z"
   },
   {
    "duration": 3,
    "start_time": "2022-05-11T15:22:50.488Z"
   },
   {
    "duration": 5,
    "start_time": "2022-05-11T15:22:50.494Z"
   },
   {
    "duration": 5,
    "start_time": "2022-05-11T15:22:50.501Z"
   },
   {
    "duration": 5,
    "start_time": "2022-05-11T15:22:50.508Z"
   },
   {
    "duration": 18,
    "start_time": "2022-05-11T15:22:50.515Z"
   },
   {
    "duration": 141,
    "start_time": "2022-05-11T15:23:47.538Z"
   },
   {
    "duration": 3,
    "start_time": "2022-05-11T15:24:00.786Z"
   },
   {
    "duration": 15,
    "start_time": "2022-05-11T15:24:04.062Z"
   },
   {
    "duration": 4,
    "start_time": "2022-05-11T15:24:30.034Z"
   },
   {
    "duration": 7,
    "start_time": "2022-05-11T15:24:33.183Z"
   },
   {
    "duration": 5,
    "start_time": "2022-05-11T15:25:15.022Z"
   },
   {
    "duration": 6,
    "start_time": "2022-05-11T15:25:28.853Z"
   },
   {
    "duration": 5,
    "start_time": "2022-05-11T15:25:32.590Z"
   },
   {
    "duration": 7,
    "start_time": "2022-05-11T15:25:36.314Z"
   },
   {
    "duration": 6,
    "start_time": "2022-05-11T15:25:42.202Z"
   },
   {
    "duration": 5,
    "start_time": "2022-05-11T15:25:49.697Z"
   },
   {
    "duration": 5,
    "start_time": "2022-05-11T15:25:58.618Z"
   },
   {
    "duration": 20,
    "start_time": "2022-05-11T15:27:36.958Z"
   },
   {
    "duration": 4,
    "start_time": "2022-05-11T15:27:56.126Z"
   },
   {
    "duration": 36,
    "start_time": "2022-05-11T15:29:36.258Z"
   },
   {
    "duration": 10,
    "start_time": "2022-05-11T15:31:39.445Z"
   },
   {
    "duration": 8,
    "start_time": "2022-05-11T15:32:37.426Z"
   },
   {
    "duration": 48399,
    "start_time": "2022-05-11T15:33:13.250Z"
   },
   {
    "duration": 3,
    "start_time": "2022-05-11T15:35:31.601Z"
   },
   {
    "duration": 67711,
    "start_time": "2022-05-11T15:35:35.617Z"
   },
   {
    "duration": 3,
    "start_time": "2022-05-11T15:36:50.476Z"
   },
   {
    "duration": 13930,
    "start_time": "2022-05-11T15:36:53.188Z"
   },
   {
    "duration": 5,
    "start_time": "2022-05-11T15:37:10.257Z"
   },
   {
    "duration": 6,
    "start_time": "2022-05-11T15:37:34.188Z"
   },
   {
    "duration": 9362,
    "start_time": "2022-05-11T15:37:41.013Z"
   },
   {
    "duration": 5,
    "start_time": "2022-05-11T15:38:11.708Z"
   },
   {
    "duration": 19227,
    "start_time": "2022-05-11T15:38:14.545Z"
   },
   {
    "duration": 6,
    "start_time": "2022-05-11T15:39:00.162Z"
   },
   {
    "duration": 5478,
    "start_time": "2022-05-11T15:39:02.998Z"
   },
   {
    "duration": 8,
    "start_time": "2022-05-11T15:39:29.661Z"
   },
   {
    "duration": 153138,
    "start_time": "2022-05-11T15:39:32.169Z"
   },
   {
    "duration": 141,
    "start_time": "2022-05-11T15:43:35.978Z"
   },
   {
    "duration": 3,
    "start_time": "2022-05-11T15:43:53.788Z"
   },
   {
    "duration": 8,
    "start_time": "2022-05-11T15:44:22.500Z"
   },
   {
    "duration": 14,
    "start_time": "2022-05-11T15:45:08.100Z"
   },
   {
    "duration": 13,
    "start_time": "2022-05-11T15:45:25.290Z"
   },
   {
    "duration": 3,
    "start_time": "2022-05-11T15:45:47.464Z"
   },
   {
    "duration": 4,
    "start_time": "2022-05-11T15:45:49.936Z"
   },
   {
    "duration": 3,
    "start_time": "2022-05-11T15:49:44.546Z"
   },
   {
    "duration": 7849,
    "start_time": "2022-05-11T15:50:30.282Z"
   },
   {
    "duration": 8116,
    "start_time": "2022-05-11T15:51:06.467Z"
   },
   {
    "duration": 12,
    "start_time": "2022-05-11T15:51:32.292Z"
   },
   {
    "duration": 4,
    "start_time": "2022-05-11T15:51:36.705Z"
   },
   {
    "duration": 4,
    "start_time": "2022-05-11T15:51:48.342Z"
   },
   {
    "duration": 10,
    "start_time": "2022-05-11T15:59:41.530Z"
   },
   {
    "duration": 3,
    "start_time": "2022-05-11T16:00:21.458Z"
   },
   {
    "duration": 15,
    "start_time": "2022-05-11T16:00:31.914Z"
   },
   {
    "duration": 3,
    "start_time": "2022-05-11T16:03:27.422Z"
   },
   {
    "duration": 23,
    "start_time": "2022-05-11T16:03:32.653Z"
   },
   {
    "duration": 4498,
    "start_time": "2022-05-11T16:04:24.659Z"
   },
   {
    "duration": 5,
    "start_time": "2022-05-11T16:04:38.560Z"
   },
   {
    "duration": 13,
    "start_time": "2022-05-11T16:04:40.890Z"
   },
   {
    "duration": 6,
    "start_time": "2022-05-11T16:06:41.742Z"
   },
   {
    "duration": 16,
    "start_time": "2022-05-11T16:06:58.889Z"
   },
   {
    "duration": 8,
    "start_time": "2022-05-11T16:07:47.103Z"
   },
   {
    "duration": 2,
    "start_time": "2022-05-11T16:08:20.319Z"
   },
   {
    "duration": 13,
    "start_time": "2022-05-11T16:08:24.030Z"
   },
   {
    "duration": 3,
    "start_time": "2022-05-11T16:10:48.930Z"
   },
   {
    "duration": 4,
    "start_time": "2022-05-11T16:11:05.241Z"
   },
   {
    "duration": 6538,
    "start_time": "2022-05-11T16:11:07.827Z"
   },
   {
    "duration": 3,
    "start_time": "2022-05-11T16:11:14.368Z"
   },
   {
    "duration": 16,
    "start_time": "2022-05-11T16:11:18.595Z"
   },
   {
    "duration": 4,
    "start_time": "2022-05-11T16:12:02.471Z"
   },
   {
    "duration": 783,
    "start_time": "2022-05-11T16:12:02.479Z"
   },
   {
    "duration": 8,
    "start_time": "2022-05-11T16:12:03.266Z"
   },
   {
    "duration": 21,
    "start_time": "2022-05-11T16:12:03.276Z"
   },
   {
    "duration": 5,
    "start_time": "2022-05-11T16:12:03.298Z"
   },
   {
    "duration": 4,
    "start_time": "2022-05-11T16:12:03.305Z"
   },
   {
    "duration": 4,
    "start_time": "2022-05-11T16:12:03.311Z"
   },
   {
    "duration": 5,
    "start_time": "2022-05-11T16:12:03.316Z"
   },
   {
    "duration": 9,
    "start_time": "2022-05-11T16:12:03.322Z"
   },
   {
    "duration": 5,
    "start_time": "2022-05-11T16:12:03.332Z"
   },
   {
    "duration": 7,
    "start_time": "2022-05-11T16:12:03.338Z"
   },
   {
    "duration": 5,
    "start_time": "2022-05-11T16:12:03.346Z"
   },
   {
    "duration": 31,
    "start_time": "2022-05-11T16:12:03.352Z"
   },
   {
    "duration": 4,
    "start_time": "2022-05-11T16:12:03.385Z"
   },
   {
    "duration": 5,
    "start_time": "2022-05-11T16:12:03.391Z"
   },
   {
    "duration": 9,
    "start_time": "2022-05-11T16:12:03.398Z"
   },
   {
    "duration": 164,
    "start_time": "2022-05-11T16:12:25.083Z"
   },
   {
    "duration": 4,
    "start_time": "2022-05-11T16:12:40.935Z"
   },
   {
    "duration": 146716,
    "start_time": "2022-05-11T16:12:54.571Z"
   },
   {
    "duration": 10,
    "start_time": "2022-05-11T16:15:23.642Z"
   },
   {
    "duration": 3,
    "start_time": "2022-05-11T16:15:37.355Z"
   },
   {
    "duration": 8,
    "start_time": "2022-05-11T16:15:39.434Z"
   },
   {
    "duration": 9,
    "start_time": "2022-05-11T16:16:19.093Z"
   },
   {
    "duration": 13,
    "start_time": "2022-05-11T16:16:34.824Z"
   },
   {
    "duration": 14,
    "start_time": "2022-05-11T16:17:36.192Z"
   },
   {
    "duration": 4,
    "start_time": "2022-05-11T16:19:45.699Z"
   },
   {
    "duration": 5036,
    "start_time": "2022-05-11T16:19:51.991Z"
   },
   {
    "duration": 4,
    "start_time": "2022-05-11T16:20:41.159Z"
   },
   {
    "duration": 14,
    "start_time": "2022-05-11T16:20:46.043Z"
   },
   {
    "duration": 9977,
    "start_time": "2022-05-11T16:22:49.119Z"
   },
   {
    "duration": 4927,
    "start_time": "2022-05-11T16:23:09.727Z"
   },
   {
    "duration": 4548,
    "start_time": "2022-05-11T16:23:34.551Z"
   },
   {
    "duration": 46,
    "start_time": "2022-05-11T16:24:05.914Z"
   },
   {
    "duration": 432,
    "start_time": "2022-05-11T16:24:16.577Z"
   },
   {
    "duration": 3980,
    "start_time": "2022-05-11T16:24:17.011Z"
   },
   {
    "duration": 7,
    "start_time": "2022-05-11T16:24:20.996Z"
   },
   {
    "duration": 16,
    "start_time": "2022-05-11T16:24:21.005Z"
   },
   {
    "duration": 4,
    "start_time": "2022-05-11T16:24:21.022Z"
   },
   {
    "duration": 5,
    "start_time": "2022-05-11T16:24:21.028Z"
   },
   {
    "duration": 5,
    "start_time": "2022-05-11T16:24:21.034Z"
   },
   {
    "duration": 1743,
    "start_time": "2022-05-11T16:24:21.040Z"
   },
   {
    "duration": 4,
    "start_time": "2022-05-11T16:24:22.784Z"
   },
   {
    "duration": 8,
    "start_time": "2022-05-11T16:24:22.791Z"
   },
   {
    "duration": 7,
    "start_time": "2022-05-11T16:24:22.801Z"
   },
   {
    "duration": 5,
    "start_time": "2022-05-11T16:24:22.810Z"
   },
   {
    "duration": 5,
    "start_time": "2022-05-11T16:24:22.817Z"
   },
   {
    "duration": 6,
    "start_time": "2022-05-11T16:24:22.824Z"
   },
   {
    "duration": 1675,
    "start_time": "2022-05-11T16:24:22.832Z"
   },
   {
    "duration": 6,
    "start_time": "2022-05-11T16:24:24.509Z"
   },
   {
    "duration": 7,
    "start_time": "2022-05-11T16:24:24.517Z"
   },
   {
    "duration": 143507,
    "start_time": "2022-05-11T16:24:24.525Z"
   },
   {
    "duration": 2,
    "start_time": "2022-05-11T16:26:48.034Z"
   },
   {
    "duration": 7,
    "start_time": "2022-05-11T16:26:48.038Z"
   },
   {
    "duration": 22,
    "start_time": "2022-05-11T16:26:48.046Z"
   },
   {
    "duration": 22,
    "start_time": "2022-05-11T16:26:48.074Z"
   },
   {
    "duration": 5,
    "start_time": "2022-05-11T16:26:48.098Z"
   },
   {
    "duration": 8,
    "start_time": "2022-05-11T16:26:48.104Z"
   },
   {
    "duration": 4490,
    "start_time": "2022-05-11T16:26:48.114Z"
   },
   {
    "duration": 3,
    "start_time": "2022-05-11T16:26:52.605Z"
   },
   {
    "duration": 15,
    "start_time": "2022-05-11T16:26:52.609Z"
   },
   {
    "duration": 8,
    "start_time": "2022-05-11T16:26:52.627Z"
   },
   {
    "duration": 5,
    "start_time": "2022-05-11T16:26:52.637Z"
   },
   {
    "duration": 7,
    "start_time": "2022-05-11T16:26:52.644Z"
   },
   {
    "duration": 2002,
    "start_time": "2022-05-11T16:26:52.652Z"
   },
   {
    "duration": 112,
    "start_time": "2022-05-11T16:27:11.485Z"
   },
   {
    "duration": 16,
    "start_time": "2022-05-11T16:27:21.116Z"
   },
   {
    "duration": 13,
    "start_time": "2022-05-11T16:28:53.391Z"
   },
   {
    "duration": 5,
    "start_time": "2022-05-11T16:29:00.882Z"
   },
   {
    "duration": 3,
    "start_time": "2022-05-11T16:30:05.920Z"
   },
   {
    "duration": 4,
    "start_time": "2022-05-11T16:30:07.818Z"
   },
   {
    "duration": 15,
    "start_time": "2022-05-11T16:30:10.950Z"
   },
   {
    "duration": 12,
    "start_time": "2022-05-11T16:30:20.822Z"
   },
   {
    "duration": 12,
    "start_time": "2022-05-11T16:30:26.748Z"
   },
   {
    "duration": 16,
    "start_time": "2022-05-11T16:31:02.322Z"
   },
   {
    "duration": 4,
    "start_time": "2022-05-11T16:31:50.557Z"
   },
   {
    "duration": 3,
    "start_time": "2022-05-11T16:31:52.802Z"
   },
   {
    "duration": 3569,
    "start_time": "2022-05-11T16:31:57.906Z"
   },
   {
    "duration": 7045,
    "start_time": "2022-05-11T16:32:30.702Z"
   },
   {
    "duration": 4,
    "start_time": "2022-05-11T16:32:58.292Z"
   },
   {
    "duration": 4,
    "start_time": "2022-05-11T16:33:10.202Z"
   },
   {
    "duration": 391,
    "start_time": "2022-05-12T16:26:20.338Z"
   },
   {
    "duration": 1692,
    "start_time": "2022-05-12T16:26:20.731Z"
   },
   {
    "duration": 3,
    "start_time": "2022-05-12T16:26:22.425Z"
   },
   {
    "duration": 7,
    "start_time": "2022-05-12T16:26:22.430Z"
   },
   {
    "duration": 4,
    "start_time": "2022-05-12T16:26:22.440Z"
   },
   {
    "duration": 6,
    "start_time": "2022-05-12T16:26:22.446Z"
   },
   {
    "duration": 6,
    "start_time": "2022-05-12T16:26:22.453Z"
   },
   {
    "duration": 2919,
    "start_time": "2022-05-12T16:26:22.460Z"
   },
   {
    "duration": 8,
    "start_time": "2022-05-12T16:26:25.381Z"
   },
   {
    "duration": 26,
    "start_time": "2022-05-12T16:26:25.392Z"
   },
   {
    "duration": 3,
    "start_time": "2022-05-12T16:26:25.419Z"
   },
   {
    "duration": 6,
    "start_time": "2022-05-12T16:26:25.424Z"
   },
   {
    "duration": 4,
    "start_time": "2022-05-12T16:26:25.431Z"
   },
   {
    "duration": 137,
    "start_time": "2022-05-12T16:26:25.437Z"
   },
   {
    "duration": 3,
    "start_time": "2022-05-12T16:26:36.282Z"
   },
   {
    "duration": 1473,
    "start_time": "2022-05-12T16:26:40.274Z"
   },
   {
    "duration": 7,
    "start_time": "2022-05-12T16:28:27.051Z"
   },
   {
    "duration": 140,
    "start_time": "2022-05-12T16:28:32.727Z"
   },
   {
    "duration": 124666,
    "start_time": "2022-05-12T16:28:42.987Z"
   },
   {
    "duration": 3,
    "start_time": "2022-05-12T16:30:47.656Z"
   },
   {
    "duration": 5,
    "start_time": "2022-05-12T16:32:39.458Z"
   },
   {
    "duration": 6,
    "start_time": "2022-05-12T16:32:57.698Z"
   },
   {
    "duration": 5,
    "start_time": "2022-05-12T16:33:09.129Z"
   },
   {
    "duration": 6,
    "start_time": "2022-05-12T16:33:26.950Z"
   },
   {
    "duration": 13,
    "start_time": "2022-05-12T16:46:50.153Z"
   },
   {
    "duration": 3,
    "start_time": "2022-05-12T16:47:02.949Z"
   },
   {
    "duration": 5,
    "start_time": "2022-05-12T16:47:05.470Z"
   },
   {
    "duration": 4,
    "start_time": "2022-05-12T16:47:12.894Z"
   },
   {
    "duration": 4,
    "start_time": "2022-05-12T16:47:32.149Z"
   },
   {
    "duration": 11,
    "start_time": "2022-05-12T16:47:55.145Z"
   },
   {
    "duration": 4202,
    "start_time": "2022-05-12T16:48:04.545Z"
   },
   {
    "duration": 11,
    "start_time": "2022-05-12T16:58:16.616Z"
   },
   {
    "duration": 6383,
    "start_time": "2022-05-12T16:59:41.968Z"
   },
   {
    "duration": 10,
    "start_time": "2022-05-12T16:59:55.468Z"
   },
   {
    "duration": 5,
    "start_time": "2022-05-12T17:00:15.265Z"
   },
   {
    "duration": 4,
    "start_time": "2022-05-12T17:02:26.816Z"
   },
   {
    "duration": 4,
    "start_time": "2022-05-12T17:02:38.873Z"
   },
   {
    "duration": 16,
    "start_time": "2022-05-12T17:04:24.120Z"
   },
   {
    "duration": 5475,
    "start_time": "2022-05-12T17:05:46.732Z"
   },
   {
    "duration": 10,
    "start_time": "2022-05-12T17:06:01.697Z"
   },
   {
    "duration": 94,
    "start_time": "2022-05-12T17:09:12.795Z"
   },
   {
    "duration": 4,
    "start_time": "2022-05-12T17:09:46.043Z"
   },
   {
    "duration": 3,
    "start_time": "2022-05-12T17:09:57.047Z"
   },
   {
    "duration": 6891,
    "start_time": "2022-05-12T17:10:07.020Z"
   },
   {
    "duration": 4,
    "start_time": "2022-05-12T17:10:13.913Z"
   },
   {
    "duration": 10,
    "start_time": "2022-05-12T17:10:19.088Z"
   },
   {
    "duration": 4,
    "start_time": "2022-05-12T17:10:29.544Z"
   },
   {
    "duration": 12,
    "start_time": "2022-05-12T17:10:52.667Z"
   },
   {
    "duration": 12,
    "start_time": "2022-05-12T17:11:39.716Z"
   },
   {
    "duration": 3,
    "start_time": "2022-05-12T17:11:43.180Z"
   },
   {
    "duration": 3,
    "start_time": "2022-05-12T17:11:45.064Z"
   },
   {
    "duration": 23,
    "start_time": "2022-05-12T17:11:47.215Z"
   },
   {
    "duration": 4142,
    "start_time": "2022-05-12T17:12:10.523Z"
   },
   {
    "duration": 27,
    "start_time": "2022-05-12T17:12:35.099Z"
   },
   {
    "duration": 1311,
    "start_time": "2022-05-12T17:12:43.539Z"
   },
   {
    "duration": 1341,
    "start_time": "2022-05-12T17:13:19.288Z"
   },
   {
    "duration": 5,
    "start_time": "2022-05-12T17:13:34.215Z"
   },
   {
    "duration": 6,
    "start_time": "2022-05-12T17:13:48.436Z"
   },
   {
    "duration": 1929,
    "start_time": "2022-05-13T14:15:11.598Z"
   },
   {
    "duration": 12,
    "start_time": "2022-05-13T14:15:33.883Z"
   },
   {
    "duration": 12,
    "start_time": "2022-05-13T14:15:33.898Z"
   },
   {
    "duration": 1920,
    "start_time": "2022-05-13T14:15:33.913Z"
   },
   {
    "duration": 14,
    "start_time": "2022-05-13T14:15:35.837Z"
   },
   {
    "duration": 43,
    "start_time": "2022-05-13T14:15:35.853Z"
   },
   {
    "duration": 4,
    "start_time": "2022-05-13T14:15:35.899Z"
   },
   {
    "duration": 12,
    "start_time": "2022-05-13T14:15:35.905Z"
   },
   {
    "duration": 7,
    "start_time": "2022-05-13T14:15:35.919Z"
   },
   {
    "duration": 5,
    "start_time": "2022-05-13T14:15:35.929Z"
   },
   {
    "duration": 219,
    "start_time": "2022-05-13T14:15:35.936Z"
   },
   {
    "duration": 0,
    "start_time": "2022-05-13T14:15:36.158Z"
   },
   {
    "duration": 0,
    "start_time": "2022-05-13T14:15:36.159Z"
   },
   {
    "duration": 0,
    "start_time": "2022-05-13T14:15:36.162Z"
   },
   {
    "duration": 0,
    "start_time": "2022-05-13T14:15:36.163Z"
   },
   {
    "duration": 0,
    "start_time": "2022-05-13T14:15:36.183Z"
   },
   {
    "duration": 0,
    "start_time": "2022-05-13T14:15:36.186Z"
   },
   {
    "duration": 0,
    "start_time": "2022-05-13T14:15:36.188Z"
   },
   {
    "duration": 0,
    "start_time": "2022-05-13T14:15:36.191Z"
   },
   {
    "duration": 0,
    "start_time": "2022-05-13T14:15:36.193Z"
   },
   {
    "duration": 0,
    "start_time": "2022-05-13T14:15:36.195Z"
   },
   {
    "duration": 0,
    "start_time": "2022-05-13T14:15:36.197Z"
   },
   {
    "duration": 0,
    "start_time": "2022-05-13T14:15:36.198Z"
   },
   {
    "duration": 0,
    "start_time": "2022-05-13T14:15:36.200Z"
   },
   {
    "duration": 0,
    "start_time": "2022-05-13T14:15:36.201Z"
   },
   {
    "duration": 0,
    "start_time": "2022-05-13T14:15:36.202Z"
   },
   {
    "duration": 5,
    "start_time": "2022-05-13T14:16:04.614Z"
   },
   {
    "duration": 3,
    "start_time": "2022-05-13T14:17:00.207Z"
   },
   {
    "duration": 8,
    "start_time": "2022-05-13T14:17:02.567Z"
   },
   {
    "duration": 22,
    "start_time": "2022-05-13T14:17:05.387Z"
   },
   {
    "duration": 6,
    "start_time": "2022-05-13T14:17:26.479Z"
   },
   {
    "duration": 36,
    "start_time": "2022-05-13T14:17:28.815Z"
   },
   {
    "duration": 4,
    "start_time": "2022-05-13T14:17:46.759Z"
   },
   {
    "duration": 2244,
    "start_time": "2022-05-13T14:18:07.003Z"
   },
   {
    "duration": 222777,
    "start_time": "2022-05-13T14:18:12.907Z"
   },
   {
    "duration": 5,
    "start_time": "2022-05-13T14:21:55.687Z"
   },
   {
    "duration": 11,
    "start_time": "2022-05-13T14:21:55.696Z"
   },
   {
    "duration": 6523,
    "start_time": "2022-05-13T14:21:55.711Z"
   },
   {
    "duration": 6,
    "start_time": "2022-05-13T14:22:02.237Z"
   },
   {
    "duration": 110,
    "start_time": "2022-05-13T14:22:02.245Z"
   },
   {
    "duration": 3,
    "start_time": "2022-05-13T14:22:02.358Z"
   },
   {
    "duration": 11,
    "start_time": "2022-05-13T14:22:02.364Z"
   },
   {
    "duration": 30,
    "start_time": "2022-05-13T14:22:02.382Z"
   },
   {
    "duration": 6579,
    "start_time": "2022-05-13T14:22:16.073Z"
   },
   {
    "duration": 2169,
    "start_time": "2022-05-13T14:22:22.655Z"
   },
   {
    "duration": 2142,
    "start_time": "2022-05-13T14:22:24.827Z"
   },
   {
    "duration": 5,
    "start_time": "2022-05-13T14:22:31.794Z"
   },
   {
    "duration": 6,
    "start_time": "2022-05-13T14:22:34.465Z"
   },
   {
    "duration": 5,
    "start_time": "2022-05-13T14:22:38.399Z"
   },
   {
    "duration": 6,
    "start_time": "2022-05-13T14:28:59.238Z"
   },
   {
    "duration": 51508,
    "start_time": "2022-05-13T14:32:52.191Z"
   },
   {
    "duration": 6,
    "start_time": "2022-05-13T14:36:39.265Z"
   },
   {
    "duration": 6,
    "start_time": "2022-05-13T14:37:05.477Z"
   },
   {
    "duration": 18,
    "start_time": "2022-05-13T14:37:19.982Z"
   },
   {
    "duration": 11,
    "start_time": "2022-05-13T14:37:34.629Z"
   },
   {
    "duration": 7,
    "start_time": "2022-05-13T14:37:37.290Z"
   },
   {
    "duration": 5,
    "start_time": "2022-05-13T14:37:54.717Z"
   },
   {
    "duration": 8,
    "start_time": "2022-05-13T14:38:57.625Z"
   },
   {
    "duration": 6,
    "start_time": "2022-05-13T14:39:10.928Z"
   },
   {
    "duration": 6914,
    "start_time": "2022-05-13T14:41:18.809Z"
   },
   {
    "duration": 18,
    "start_time": "2022-05-13T14:41:34.457Z"
   },
   {
    "duration": 16,
    "start_time": "2022-05-13T14:50:34.636Z"
   },
   {
    "duration": 69,
    "start_time": "2022-05-13T14:50:37.456Z"
   },
   {
    "duration": 5,
    "start_time": "2022-05-13T14:50:39.788Z"
   },
   {
    "duration": 6,
    "start_time": "2022-05-13T14:50:50.255Z"
   },
   {
    "duration": 5,
    "start_time": "2022-05-13T14:50:53.243Z"
   },
   {
    "duration": 25,
    "start_time": "2022-05-13T14:50:56.836Z"
   },
   {
    "duration": 6904,
    "start_time": "2022-05-13T14:50:59.951Z"
   },
   {
    "duration": 2086,
    "start_time": "2022-05-13T14:51:06.858Z"
   },
   {
    "duration": 5,
    "start_time": "2022-05-13T14:51:12.940Z"
   },
   {
    "duration": 44353,
    "start_time": "2022-05-13T14:51:15.836Z"
   },
   {
    "duration": 15,
    "start_time": "2022-05-13T14:52:16.236Z"
   },
   {
    "duration": 63,
    "start_time": "2022-05-13T14:52:21.564Z"
   },
   {
    "duration": 19,
    "start_time": "2022-05-13T14:52:24.275Z"
   },
   {
    "duration": 5,
    "start_time": "2022-05-13T14:52:26.153Z"
   },
   {
    "duration": 24,
    "start_time": "2022-05-13T14:52:29.000Z"
   },
   {
    "duration": 7033,
    "start_time": "2022-05-13T14:52:31.852Z"
   },
   {
    "duration": 36882,
    "start_time": "2022-05-13T14:52:41.016Z"
   },
   {
    "duration": 19,
    "start_time": "2022-05-13T14:53:41.171Z"
   },
   {
    "duration": 62,
    "start_time": "2022-05-13T14:53:44.064Z"
   },
   {
    "duration": 16,
    "start_time": "2022-05-13T14:53:47.092Z"
   },
   {
    "duration": 6,
    "start_time": "2022-05-13T14:53:49.219Z"
   },
   {
    "duration": 25,
    "start_time": "2022-05-13T14:53:54.028Z"
   },
   {
    "duration": 6672,
    "start_time": "2022-05-13T14:54:00.935Z"
   },
   {
    "duration": 6,
    "start_time": "2022-05-13T14:54:07.609Z"
   },
   {
    "duration": 22618,
    "start_time": "2022-05-13T14:54:13.367Z"
   },
   {
    "duration": 13,
    "start_time": "2022-05-13T14:55:30.007Z"
   },
   {
    "duration": 61,
    "start_time": "2022-05-13T14:55:32.055Z"
   },
   {
    "duration": 16,
    "start_time": "2022-05-13T14:55:34.699Z"
   },
   {
    "duration": 24,
    "start_time": "2022-05-13T14:55:40.895Z"
   },
   {
    "duration": 6572,
    "start_time": "2022-05-13T14:55:48.972Z"
   },
   {
    "duration": 2052,
    "start_time": "2022-05-13T14:55:55.547Z"
   },
   {
    "duration": 5,
    "start_time": "2022-05-13T14:55:57.601Z"
   },
   {
    "duration": 2294,
    "start_time": "2022-05-13T14:56:01.467Z"
   },
   {
    "duration": 14,
    "start_time": "2022-05-13T14:56:17.443Z"
   },
   {
    "duration": 61,
    "start_time": "2022-05-13T14:56:24.179Z"
   },
   {
    "duration": 16,
    "start_time": "2022-05-13T14:56:28.323Z"
   },
   {
    "duration": 29,
    "start_time": "2022-05-13T14:56:32.371Z"
   },
   {
    "duration": 6642,
    "start_time": "2022-05-13T14:56:37.975Z"
   },
   {
    "duration": 5,
    "start_time": "2022-05-13T14:56:44.619Z"
   },
   {
    "duration": 2688,
    "start_time": "2022-05-13T14:56:50.747Z"
   },
   {
    "duration": 13,
    "start_time": "2022-05-13T14:57:13.240Z"
   },
   {
    "duration": 60,
    "start_time": "2022-05-13T14:57:15.984Z"
   },
   {
    "duration": 18,
    "start_time": "2022-05-13T14:57:20.175Z"
   },
   {
    "duration": 30,
    "start_time": "2022-05-13T14:57:25.983Z"
   },
   {
    "duration": 6707,
    "start_time": "2022-05-13T14:57:28.671Z"
   },
   {
    "duration": 2751,
    "start_time": "2022-05-13T14:57:35.383Z"
   },
   {
    "duration": 12,
    "start_time": "2022-05-13T14:57:45.840Z"
   },
   {
    "duration": 58,
    "start_time": "2022-05-13T14:57:50.044Z"
   },
   {
    "duration": 15,
    "start_time": "2022-05-13T14:57:53.927Z"
   },
   {
    "duration": 28,
    "start_time": "2022-05-13T14:57:58.893Z"
   },
   {
    "duration": 6473,
    "start_time": "2022-05-13T14:58:02.457Z"
   },
   {
    "duration": 5,
    "start_time": "2022-05-13T14:58:09.952Z"
   },
   {
    "duration": 2474,
    "start_time": "2022-05-13T14:58:15.188Z"
   },
   {
    "duration": 12,
    "start_time": "2022-05-13T14:58:28.596Z"
   },
   {
    "duration": 53,
    "start_time": "2022-05-13T14:58:39.603Z"
   },
   {
    "duration": 15,
    "start_time": "2022-05-13T14:58:41.519Z"
   },
   {
    "duration": 25,
    "start_time": "2022-05-13T14:58:43.942Z"
   },
   {
    "duration": 6478,
    "start_time": "2022-05-13T14:58:49.815Z"
   },
   {
    "duration": 7,
    "start_time": "2022-05-13T14:58:56.297Z"
   },
   {
    "duration": 2407,
    "start_time": "2022-05-13T14:59:01.407Z"
   },
   {
    "duration": 13,
    "start_time": "2022-05-13T14:59:11.735Z"
   },
   {
    "duration": 67,
    "start_time": "2022-05-13T14:59:14.675Z"
   },
   {
    "duration": 15,
    "start_time": "2022-05-13T14:59:16.699Z"
   },
   {
    "duration": 24,
    "start_time": "2022-05-13T14:59:23.115Z"
   },
   {
    "duration": 6694,
    "start_time": "2022-05-13T14:59:25.639Z"
   },
   {
    "duration": 5,
    "start_time": "2022-05-13T14:59:32.336Z"
   },
   {
    "duration": 2284,
    "start_time": "2022-05-13T14:59:37.983Z"
   },
   {
    "duration": 10,
    "start_time": "2022-05-13T15:00:01.551Z"
   },
   {
    "duration": 5,
    "start_time": "2022-05-13T15:06:22.822Z"
   },
   {
    "duration": 28,
    "start_time": "2022-05-13T15:07:07.774Z"
   },
   {
    "duration": 2023,
    "start_time": "2022-05-13T15:07:20.543Z"
   },
   {
    "duration": 7,
    "start_time": "2022-05-13T15:07:25.174Z"
   },
   {
    "duration": 12,
    "start_time": "2022-05-13T15:07:44.755Z"
   },
   {
    "duration": 15,
    "start_time": "2022-05-13T15:07:54.251Z"
   },
   {
    "duration": 4,
    "start_time": "2022-05-13T15:08:24.258Z"
   },
   {
    "duration": 5,
    "start_time": "2022-05-13T15:08:41.996Z"
   },
   {
    "duration": 6,
    "start_time": "2022-05-13T15:08:42.004Z"
   },
   {
    "duration": 1015,
    "start_time": "2022-05-13T15:08:42.012Z"
   },
   {
    "duration": 6,
    "start_time": "2022-05-13T15:08:43.030Z"
   },
   {
    "duration": 15,
    "start_time": "2022-05-13T15:08:43.040Z"
   },
   {
    "duration": 26,
    "start_time": "2022-05-13T15:08:43.058Z"
   },
   {
    "duration": 13,
    "start_time": "2022-05-13T15:08:43.088Z"
   },
   {
    "duration": 6,
    "start_time": "2022-05-13T15:08:43.103Z"
   },
   {
    "duration": 5,
    "start_time": "2022-05-13T15:08:43.111Z"
   },
   {
    "duration": 9,
    "start_time": "2022-05-13T15:08:43.118Z"
   },
   {
    "duration": 13,
    "start_time": "2022-05-13T15:08:43.129Z"
   },
   {
    "duration": 229322,
    "start_time": "2022-05-13T15:08:43.181Z"
   },
   {
    "duration": 5,
    "start_time": "2022-05-13T15:12:32.506Z"
   },
   {
    "duration": 8,
    "start_time": "2022-05-13T15:12:32.517Z"
   },
   {
    "duration": 6609,
    "start_time": "2022-05-13T15:12:32.527Z"
   },
   {
    "duration": 13,
    "start_time": "2022-05-13T15:12:39.138Z"
   },
   {
    "duration": 103,
    "start_time": "2022-05-13T15:12:39.153Z"
   },
   {
    "duration": 24,
    "start_time": "2022-05-13T15:12:39.258Z"
   },
   {
    "duration": 10,
    "start_time": "2022-05-13T15:12:39.286Z"
   },
   {
    "duration": 13,
    "start_time": "2022-05-13T15:12:39.298Z"
   },
   {
    "duration": 27,
    "start_time": "2022-05-13T15:12:39.313Z"
   },
   {
    "duration": 6420,
    "start_time": "2022-05-13T15:12:39.343Z"
   },
   {
    "duration": 2168,
    "start_time": "2022-05-13T15:12:45.766Z"
   },
   {
    "duration": 1995,
    "start_time": "2022-05-13T15:12:47.937Z"
   },
   {
    "duration": 7,
    "start_time": "2022-05-13T15:12:49.934Z"
   },
   {
    "duration": 2439,
    "start_time": "2022-05-13T15:12:55.367Z"
   },
   {
    "duration": 6,
    "start_time": "2022-05-13T15:12:57.841Z"
   },
   {
    "duration": 2412,
    "start_time": "2022-05-13T15:13:05.958Z"
   },
   {
    "duration": 3,
    "start_time": "2022-05-13T15:17:48.430Z"
   },
   {
    "duration": 3,
    "start_time": "2022-05-13T15:17:50.418Z"
   },
   {
    "duration": 4,
    "start_time": "2022-05-13T15:17:59.034Z"
   },
   {
    "duration": 16,
    "start_time": "2022-05-13T15:18:07.914Z"
   },
   {
    "duration": 59,
    "start_time": "2022-05-13T15:18:10.950Z"
   },
   {
    "duration": 18,
    "start_time": "2022-05-13T15:18:14.470Z"
   },
   {
    "duration": 7,
    "start_time": "2022-05-13T15:18:17.678Z"
   },
   {
    "duration": 4,
    "start_time": "2022-05-13T15:18:19.925Z"
   },
   {
    "duration": 25,
    "start_time": "2022-05-13T15:18:22.591Z"
   },
   {
    "duration": 6906,
    "start_time": "2022-05-13T15:18:25.802Z"
   },
   {
    "duration": 2103,
    "start_time": "2022-05-13T15:18:32.711Z"
   },
   {
    "duration": 2129,
    "start_time": "2022-05-13T15:18:34.817Z"
   },
   {
    "duration": 6,
    "start_time": "2022-05-13T15:18:36.948Z"
   },
   {
    "duration": 4,
    "start_time": "2022-05-13T15:18:42.862Z"
   },
   {
    "duration": 495,
    "start_time": "2022-05-13T15:19:00.454Z"
   },
   {
    "duration": 4,
    "start_time": "2022-05-13T15:19:40.925Z"
   },
   {
    "duration": 420,
    "start_time": "2022-05-13T15:19:43.402Z"
   },
   {
    "duration": 457,
    "start_time": "2022-05-13T15:19:58.245Z"
   },
   {
    "duration": 4,
    "start_time": "2022-05-13T15:21:40.746Z"
   },
   {
    "duration": 450,
    "start_time": "2022-05-13T15:21:42.670Z"
   },
   {
    "duration": 5,
    "start_time": "2022-05-13T15:22:01.409Z"
   },
   {
    "duration": 381,
    "start_time": "2022-05-13T15:22:12.818Z"
   },
   {
    "duration": 16,
    "start_time": "2022-05-13T15:22:58.661Z"
   },
   {
    "duration": 18,
    "start_time": "2022-05-13T15:23:21.289Z"
   },
   {
    "duration": 58,
    "start_time": "2022-05-13T15:23:24.422Z"
   },
   {
    "duration": 23,
    "start_time": "2022-05-13T15:23:26.334Z"
   },
   {
    "duration": 6,
    "start_time": "2022-05-13T15:23:28.357Z"
   },
   {
    "duration": 5,
    "start_time": "2022-05-13T15:23:30.925Z"
   },
   {
    "duration": 25,
    "start_time": "2022-05-13T15:23:33.557Z"
   },
   {
    "duration": 6971,
    "start_time": "2022-05-13T15:23:36.469Z"
   },
   {
    "duration": 2113,
    "start_time": "2022-05-13T15:23:43.443Z"
   },
   {
    "duration": 2244,
    "start_time": "2022-05-13T15:23:45.558Z"
   },
   {
    "duration": 7,
    "start_time": "2022-05-13T15:23:47.805Z"
   },
   {
    "duration": 42983,
    "start_time": "2022-05-13T15:23:57.714Z"
   },
   {
    "duration": 0,
    "start_time": "2022-05-13T15:24:40.700Z"
   },
   {
    "duration": 0,
    "start_time": "2022-05-13T15:24:40.701Z"
   },
   {
    "duration": 4,
    "start_time": "2022-05-13T15:24:49.901Z"
   },
   {
    "duration": 4,
    "start_time": "2022-05-13T15:24:54.094Z"
   },
   {
    "duration": 455,
    "start_time": "2022-05-13T15:24:56.545Z"
   },
   {
    "duration": 16,
    "start_time": "2022-05-13T15:24:58.996Z"
   },
   {
    "duration": 30,
    "start_time": "2022-05-13T15:26:40.065Z"
   },
   {
    "duration": 27,
    "start_time": "2022-05-13T15:27:21.973Z"
   },
   {
    "duration": 24,
    "start_time": "2022-05-13T15:30:44.064Z"
   },
   {
    "duration": 4,
    "start_time": "2022-05-13T15:33:01.253Z"
   },
   {
    "duration": 593,
    "start_time": "2022-05-13T15:33:26.880Z"
   },
   {
    "duration": 12,
    "start_time": "2022-05-13T15:34:22.800Z"
   },
   {
    "duration": 16,
    "start_time": "2022-05-13T15:34:33.181Z"
   },
   {
    "duration": 9,
    "start_time": "2022-05-13T15:34:42.264Z"
   },
   {
    "duration": 13,
    "start_time": "2022-05-13T15:34:54.132Z"
   },
   {
    "duration": 25,
    "start_time": "2022-05-13T15:34:57.944Z"
   },
   {
    "duration": 7,
    "start_time": "2022-05-13T15:35:13.301Z"
   },
   {
    "duration": 20,
    "start_time": "2022-05-13T15:35:19.077Z"
   },
   {
    "duration": 4,
    "start_time": "2022-05-13T15:35:28.408Z"
   },
   {
    "duration": 553,
    "start_time": "2022-05-13T15:35:30.457Z"
   },
   {
    "duration": 8,
    "start_time": "2022-05-13T15:35:55.848Z"
   },
   {
    "duration": 21,
    "start_time": "2022-05-13T15:36:18.785Z"
   },
   {
    "duration": 4,
    "start_time": "2022-05-13T15:38:36.216Z"
   },
   {
    "duration": 435,
    "start_time": "2022-05-13T15:39:00.560Z"
   },
   {
    "duration": 10,
    "start_time": "2022-05-13T15:39:33.488Z"
   },
   {
    "duration": 17,
    "start_time": "2022-05-13T15:39:58.640Z"
   },
   {
    "duration": 7,
    "start_time": "2022-05-13T15:44:18.331Z"
   },
   {
    "duration": 24,
    "start_time": "2022-05-13T15:44:25.856Z"
   },
   {
    "duration": 16,
    "start_time": "2022-05-13T15:44:32.656Z"
   },
   {
    "duration": 29,
    "start_time": "2022-05-13T15:45:50.912Z"
   },
   {
    "duration": 5,
    "start_time": "2022-05-13T15:46:48.487Z"
   },
   {
    "duration": 517,
    "start_time": "2022-05-13T15:46:50.619Z"
   },
   {
    "duration": 8,
    "start_time": "2022-05-13T15:46:54.751Z"
   },
   {
    "duration": 16,
    "start_time": "2022-05-13T15:46:57.051Z"
   },
   {
    "duration": 23,
    "start_time": "2022-05-13T15:46:59.547Z"
   },
   {
    "duration": 4,
    "start_time": "2022-05-13T15:47:34.263Z"
   },
   {
    "duration": 565,
    "start_time": "2022-05-13T15:47:38.279Z"
   },
   {
    "duration": 7,
    "start_time": "2022-05-13T15:47:43.743Z"
   },
   {
    "duration": 15,
    "start_time": "2022-05-13T15:47:47.608Z"
   },
   {
    "duration": 21,
    "start_time": "2022-05-13T15:47:51.307Z"
   },
   {
    "duration": 4,
    "start_time": "2022-05-13T15:49:02.015Z"
   },
   {
    "duration": 439,
    "start_time": "2022-05-13T15:49:03.989Z"
   },
   {
    "duration": 9,
    "start_time": "2022-05-13T15:49:08.079Z"
   },
   {
    "duration": 16,
    "start_time": "2022-05-13T15:49:10.407Z"
   },
   {
    "duration": 21,
    "start_time": "2022-05-13T15:49:12.919Z"
   },
   {
    "duration": 3,
    "start_time": "2022-05-13T15:49:20.463Z"
   },
   {
    "duration": 381,
    "start_time": "2022-05-13T15:49:22.111Z"
   },
   {
    "duration": 8,
    "start_time": "2022-05-13T15:49:24.547Z"
   },
   {
    "duration": 15,
    "start_time": "2022-05-13T15:49:26.263Z"
   },
   {
    "duration": 22,
    "start_time": "2022-05-13T15:49:28.230Z"
   },
   {
    "duration": 47,
    "start_time": "2022-05-13T15:52:41.274Z"
   },
   {
    "duration": 5,
    "start_time": "2022-05-13T15:53:42.730Z"
   },
   {
    "duration": 352242,
    "start_time": "2022-05-13T15:53:56.583Z"
   },
   {
    "duration": 10321,
    "start_time": "2022-05-13T16:00:01.095Z"
   },
   {
    "duration": 1201,
    "start_time": "2022-05-13T16:00:17.695Z"
   },
   {
    "duration": 4048,
    "start_time": "2022-05-13T16:02:20.262Z"
   },
   {
    "duration": 6992,
    "start_time": "2022-05-13T16:02:34.846Z"
   },
   {
    "duration": 6,
    "start_time": "2022-05-13T16:02:53.382Z"
   },
   {
    "duration": 4,
    "start_time": "2022-05-13T16:04:10.110Z"
   },
   {
    "duration": 2682,
    "start_time": "2022-05-13T16:04:46.818Z"
   },
   {
    "duration": 809,
    "start_time": "2022-05-13T16:05:42.786Z"
   },
   {
    "duration": 4,
    "start_time": "2022-05-13T16:06:26.346Z"
   },
   {
    "duration": 2701,
    "start_time": "2022-05-13T16:06:34.961Z"
   },
   {
    "duration": 861,
    "start_time": "2022-05-13T16:06:40.877Z"
   },
   {
    "duration": 768,
    "start_time": "2022-05-13T16:07:16.529Z"
   },
   {
    "duration": 7114,
    "start_time": "2022-05-13T16:07:39.470Z"
   },
   {
    "duration": 6,
    "start_time": "2022-05-13T16:07:49.205Z"
   },
   {
    "duration": 4,
    "start_time": "2022-05-13T16:07:56.746Z"
   },
   {
    "duration": 3975,
    "start_time": "2022-05-13T16:07:59.397Z"
   },
   {
    "duration": 839,
    "start_time": "2022-05-13T16:08:07.701Z"
   },
   {
    "duration": 221,
    "start_time": "2022-05-13T16:10:10.201Z"
   },
   {
    "duration": 273,
    "start_time": "2022-05-13T16:10:30.133Z"
   },
   {
    "duration": 32,
    "start_time": "2022-05-13T16:11:46.145Z"
   },
   {
    "duration": 450065,
    "start_time": "2022-05-13T16:11:52.228Z"
   },
   {
    "duration": 34,
    "start_time": "2022-05-13T16:19:22.296Z"
   },
   {
    "duration": 0,
    "start_time": "2022-05-13T16:19:22.333Z"
   },
   {
    "duration": 0,
    "start_time": "2022-05-13T16:19:22.335Z"
   },
   {
    "duration": 329144,
    "start_time": "2022-05-13T16:19:36.161Z"
   },
   {
    "duration": 34,
    "start_time": "2022-05-13T16:25:05.308Z"
   },
   {
    "duration": 17,
    "start_time": "2022-05-13T16:25:11.721Z"
   },
   {
    "duration": 13,
    "start_time": "2022-05-13T16:25:25.676Z"
   },
   {
    "duration": 4,
    "start_time": "2022-05-13T16:25:38.096Z"
   },
   {
    "duration": 70,
    "start_time": "2022-05-13T16:26:45.978Z"
   },
   {
    "duration": 3777,
    "start_time": "2022-05-13T16:27:04.688Z"
   },
   {
    "duration": 2922,
    "start_time": "2022-05-13T16:27:08.468Z"
   },
   {
    "duration": 4,
    "start_time": "2022-05-13T16:27:11.392Z"
   },
   {
    "duration": 1644,
    "start_time": "2022-05-13T16:27:11.399Z"
   },
   {
    "duration": 8,
    "start_time": "2022-05-13T16:27:13.045Z"
   },
   {
    "duration": 32,
    "start_time": "2022-05-13T16:27:13.055Z"
   },
   {
    "duration": 4,
    "start_time": "2022-05-13T16:27:13.089Z"
   },
   {
    "duration": 10,
    "start_time": "2022-05-13T16:27:13.095Z"
   },
   {
    "duration": 7,
    "start_time": "2022-05-13T16:27:13.107Z"
   },
   {
    "duration": 3,
    "start_time": "2022-05-13T16:27:13.118Z"
   },
   {
    "duration": 7,
    "start_time": "2022-05-13T16:27:13.124Z"
   },
   {
    "duration": 2165,
    "start_time": "2022-05-13T16:27:13.133Z"
   },
   {
    "duration": 225506,
    "start_time": "2022-05-13T16:27:15.300Z"
   },
   {
    "duration": 4,
    "start_time": "2022-05-13T16:31:00.809Z"
   },
   {
    "duration": 22,
    "start_time": "2022-05-13T16:31:00.815Z"
   },
   {
    "duration": 6118,
    "start_time": "2022-05-13T16:31:00.839Z"
   },
   {
    "duration": 5,
    "start_time": "2022-05-13T16:31:06.959Z"
   },
   {
    "duration": 99,
    "start_time": "2022-05-13T16:31:06.967Z"
   },
   {
    "duration": 13,
    "start_time": "2022-05-13T16:31:07.069Z"
   },
   {
    "duration": 11,
    "start_time": "2022-05-13T16:31:07.084Z"
   },
   {
    "duration": 5,
    "start_time": "2022-05-13T16:31:07.097Z"
   },
   {
    "duration": 24,
    "start_time": "2022-05-13T16:31:07.105Z"
   },
   {
    "duration": 7154,
    "start_time": "2022-05-13T16:31:07.132Z"
   },
   {
    "duration": 2233,
    "start_time": "2022-05-13T16:31:14.289Z"
   },
   {
    "duration": 2194,
    "start_time": "2022-05-13T16:31:16.524Z"
   },
   {
    "duration": 5,
    "start_time": "2022-05-13T16:31:18.721Z"
   },
   {
    "duration": 4,
    "start_time": "2022-05-13T16:31:34.231Z"
   },
   {
    "duration": 2613184,
    "start_time": "2022-05-13T16:31:36.916Z"
   },
   {
    "duration": 504,
    "start_time": "2022-05-13T17:15:10.104Z"
   },
   {
    "duration": 13,
    "start_time": "2022-05-13T17:23:04.971Z"
   },
   {
    "duration": 57,
    "start_time": "2022-05-13T17:23:07.599Z"
   },
   {
    "duration": 17,
    "start_time": "2022-05-13T17:23:09.942Z"
   },
   {
    "duration": 5,
    "start_time": "2022-05-13T17:23:13.047Z"
   },
   {
    "duration": 3,
    "start_time": "2022-05-13T17:23:15.763Z"
   },
   {
    "duration": 28,
    "start_time": "2022-05-13T17:23:18.458Z"
   },
   {
    "duration": 6266,
    "start_time": "2022-05-13T17:23:21.474Z"
   },
   {
    "duration": 2011,
    "start_time": "2022-05-13T17:23:27.743Z"
   },
   {
    "duration": 2058,
    "start_time": "2022-05-13T17:23:29.756Z"
   },
   {
    "duration": 6,
    "start_time": "2022-05-13T17:23:31.816Z"
   },
   {
    "duration": 163,
    "start_time": "2022-05-13T17:23:34.734Z"
   },
   {
    "duration": 4,
    "start_time": "2022-05-13T17:23:40.170Z"
   },
   {
    "duration": 3,
    "start_time": "2022-05-13T17:23:45.355Z"
   },
   {
    "duration": 472,
    "start_time": "2022-05-13T17:23:48.538Z"
   },
   {
    "duration": 8,
    "start_time": "2022-05-13T17:23:51.921Z"
   },
   {
    "duration": 17,
    "start_time": "2022-05-13T17:23:53.793Z"
   },
   {
    "duration": 4,
    "start_time": "2022-05-13T17:24:00.438Z"
   },
   {
    "duration": 514,
    "start_time": "2022-05-13T17:24:02.585Z"
   },
   {
    "duration": 9,
    "start_time": "2022-05-13T17:24:05.294Z"
   },
   {
    "duration": 16,
    "start_time": "2022-05-13T17:24:07.790Z"
   },
   {
    "duration": 14,
    "start_time": "2022-05-13T17:24:18.269Z"
   },
   {
    "duration": 57,
    "start_time": "2022-05-13T17:24:22.885Z"
   },
   {
    "duration": 16,
    "start_time": "2022-05-13T17:24:24.709Z"
   },
   {
    "duration": 6,
    "start_time": "2022-05-13T17:24:26.861Z"
   },
   {
    "duration": 4,
    "start_time": "2022-05-13T17:24:29.877Z"
   },
   {
    "duration": 27,
    "start_time": "2022-05-13T17:24:31.873Z"
   },
   {
    "duration": 6240,
    "start_time": "2022-05-13T17:24:34.441Z"
   },
   {
    "duration": 2029,
    "start_time": "2022-05-13T17:24:40.684Z"
   },
   {
    "duration": 2004,
    "start_time": "2022-05-13T17:24:42.715Z"
   },
   {
    "duration": 5,
    "start_time": "2022-05-13T17:24:44.722Z"
   },
   {
    "duration": 4,
    "start_time": "2022-05-13T17:24:48.925Z"
   },
   {
    "duration": 408,
    "start_time": "2022-05-13T17:24:51.409Z"
   },
   {
    "duration": 7,
    "start_time": "2022-05-13T17:24:54.353Z"
   },
   {
    "duration": 17,
    "start_time": "2022-05-13T17:24:57.809Z"
   },
   {
    "duration": 4,
    "start_time": "2022-05-13T17:25:02.529Z"
   },
   {
    "duration": 508,
    "start_time": "2022-05-13T17:25:04.969Z"
   },
   {
    "duration": 7,
    "start_time": "2022-05-13T17:25:07.913Z"
   },
   {
    "duration": 16,
    "start_time": "2022-05-13T17:25:09.857Z"
   },
   {
    "duration": 4,
    "start_time": "2022-05-13T17:25:13.124Z"
   },
   {
    "duration": 427,
    "start_time": "2022-05-13T17:25:14.940Z"
   },
   {
    "duration": 7,
    "start_time": "2022-05-13T17:25:16.985Z"
   },
   {
    "duration": 17,
    "start_time": "2022-05-13T17:25:18.681Z"
   },
   {
    "duration": 22,
    "start_time": "2022-05-13T17:25:21.195Z"
   },
   {
    "duration": 15,
    "start_time": "2022-05-13T17:25:32.797Z"
   },
   {
    "duration": 59,
    "start_time": "2022-05-13T17:25:35.720Z"
   },
   {
    "duration": 16,
    "start_time": "2022-05-13T17:25:37.668Z"
   },
   {
    "duration": 6,
    "start_time": "2022-05-13T17:25:39.540Z"
   },
   {
    "duration": 4,
    "start_time": "2022-05-13T17:25:41.564Z"
   },
   {
    "duration": 27,
    "start_time": "2022-05-13T17:25:43.220Z"
   },
   {
    "duration": 6424,
    "start_time": "2022-05-13T17:25:46.432Z"
   },
   {
    "duration": 2070,
    "start_time": "2022-05-13T17:25:52.858Z"
   },
   {
    "duration": 2008,
    "start_time": "2022-05-13T17:25:54.930Z"
   },
   {
    "duration": 4,
    "start_time": "2022-05-13T17:25:56.940Z"
   },
   {
    "duration": 438,
    "start_time": "2022-05-13T17:25:57.256Z"
   },
   {
    "duration": 7,
    "start_time": "2022-05-13T17:26:00.732Z"
   },
   {
    "duration": 15,
    "start_time": "2022-05-13T17:26:02.508Z"
   },
   {
    "duration": 580,
    "start_time": "2022-05-13T17:26:15.993Z"
   },
   {
    "duration": 7,
    "start_time": "2022-05-13T17:26:18.492Z"
   },
   {
    "duration": 23,
    "start_time": "2022-05-13T17:26:22.020Z"
   },
   {
    "duration": 15,
    "start_time": "2022-05-13T17:26:30.015Z"
   },
   {
    "duration": 56,
    "start_time": "2022-05-13T17:26:34.008Z"
   },
   {
    "duration": 16,
    "start_time": "2022-05-13T17:26:35.700Z"
   },
   {
    "duration": 23,
    "start_time": "2022-05-13T17:26:39.560Z"
   },
   {
    "duration": 6256,
    "start_time": "2022-05-13T17:26:41.351Z"
   },
   {
    "duration": 1980,
    "start_time": "2022-05-13T17:26:47.610Z"
   },
   {
    "duration": 1962,
    "start_time": "2022-05-13T17:26:49.593Z"
   },
   {
    "duration": 13,
    "start_time": "2022-05-13T17:26:51.557Z"
   },
   {
    "duration": 508,
    "start_time": "2022-05-13T17:26:56.248Z"
   },
   {
    "duration": 8,
    "start_time": "2022-05-13T17:26:58.871Z"
   },
   {
    "duration": 17,
    "start_time": "2022-05-13T17:27:00.968Z"
   },
   {
    "duration": 498,
    "start_time": "2022-05-13T17:27:07.083Z"
   },
   {
    "duration": 7,
    "start_time": "2022-05-13T17:27:09.947Z"
   },
   {
    "duration": 4,
    "start_time": "2022-05-13T17:27:13.023Z"
   },
   {
    "duration": 491,
    "start_time": "2022-05-13T17:27:14.783Z"
   },
   {
    "duration": 7,
    "start_time": "2022-05-13T17:27:17.055Z"
   },
   {
    "duration": 16,
    "start_time": "2022-05-13T17:27:19.035Z"
   },
   {
    "duration": 524,
    "start_time": "2022-05-13T17:27:25.711Z"
   },
   {
    "duration": 7,
    "start_time": "2022-05-13T17:27:28.151Z"
   },
   {
    "duration": 15,
    "start_time": "2022-05-13T17:27:29.864Z"
   },
   {
    "duration": 14,
    "start_time": "2022-05-13T17:27:40.139Z"
   },
   {
    "duration": 56,
    "start_time": "2022-05-13T17:27:46.423Z"
   },
   {
    "duration": 17,
    "start_time": "2022-05-13T17:27:48.568Z"
   },
   {
    "duration": 26,
    "start_time": "2022-05-13T17:27:52.752Z"
   },
   {
    "duration": 6540,
    "start_time": "2022-05-13T17:27:56.000Z"
   },
   {
    "duration": 1994,
    "start_time": "2022-05-13T17:28:02.543Z"
   },
   {
    "duration": 2042,
    "start_time": "2022-05-13T17:28:04.539Z"
   },
   {
    "duration": 4,
    "start_time": "2022-05-13T17:28:06.585Z"
   },
   {
    "duration": 441,
    "start_time": "2022-05-13T17:28:08.627Z"
   },
   {
    "duration": 8,
    "start_time": "2022-05-13T17:28:11.687Z"
   },
   {
    "duration": 14,
    "start_time": "2022-05-13T17:28:14.543Z"
   },
   {
    "duration": 4,
    "start_time": "2022-05-13T17:28:34.255Z"
   },
   {
    "duration": 27,
    "start_time": "2022-05-13T17:28:36.259Z"
   },
   {
    "duration": 15,
    "start_time": "2022-05-13T17:28:40.939Z"
   },
   {
    "duration": 4040,
    "start_time": "2022-05-13T17:28:51.935Z"
   },
   {
    "duration": 7,
    "start_time": "2022-05-13T17:28:55.978Z"
   },
   {
    "duration": 9,
    "start_time": "2022-05-13T17:28:55.987Z"
   },
   {
    "duration": 1069,
    "start_time": "2022-05-13T17:28:55.999Z"
   },
   {
    "duration": 14,
    "start_time": "2022-05-13T17:28:57.070Z"
   },
   {
    "duration": 15,
    "start_time": "2022-05-13T17:28:57.086Z"
   },
   {
    "duration": 6,
    "start_time": "2022-05-13T17:28:57.103Z"
   },
   {
    "duration": 10,
    "start_time": "2022-05-13T17:28:57.111Z"
   },
   {
    "duration": 5,
    "start_time": "2022-05-13T17:28:57.124Z"
   },
   {
    "duration": 11,
    "start_time": "2022-05-13T17:28:57.135Z"
   },
   {
    "duration": 35,
    "start_time": "2022-05-13T17:28:57.149Z"
   },
   {
    "duration": 9,
    "start_time": "2022-05-13T17:28:57.187Z"
   },
   {
    "duration": 210226,
    "start_time": "2022-05-13T17:28:57.198Z"
   },
   {
    "duration": 5,
    "start_time": "2022-05-13T17:32:27.426Z"
   },
   {
    "duration": 9,
    "start_time": "2022-05-13T17:32:27.433Z"
   },
   {
    "duration": 6001,
    "start_time": "2022-05-13T17:32:27.444Z"
   },
   {
    "duration": 18,
    "start_time": "2022-05-13T17:32:33.448Z"
   },
   {
    "duration": 90,
    "start_time": "2022-05-13T17:32:33.469Z"
   },
   {
    "duration": 86,
    "start_time": "2022-05-13T17:32:33.561Z"
   },
   {
    "duration": 8,
    "start_time": "2022-05-13T17:32:33.650Z"
   },
   {
    "duration": 21,
    "start_time": "2022-05-13T17:32:33.660Z"
   },
   {
    "duration": 53,
    "start_time": "2022-05-13T17:32:33.683Z"
   },
   {
    "duration": 6265,
    "start_time": "2022-05-13T17:32:33.738Z"
   },
   {
    "duration": 1957,
    "start_time": "2022-05-13T17:32:40.005Z"
   },
   {
    "duration": 1941,
    "start_time": "2022-05-13T17:32:41.965Z"
   },
   {
    "duration": 5,
    "start_time": "2022-05-13T17:32:43.908Z"
   },
   {
    "duration": 6,
    "start_time": "2022-05-13T17:32:43.915Z"
   },
   {
    "duration": 20,
    "start_time": "2022-05-13T17:32:43.928Z"
   },
   {
    "duration": 0,
    "start_time": "2022-05-13T17:32:43.982Z"
   },
   {
    "duration": 0,
    "start_time": "2022-05-13T17:32:43.985Z"
   },
   {
    "duration": 0,
    "start_time": "2022-05-13T17:32:43.987Z"
   },
   {
    "duration": 0,
    "start_time": "2022-05-13T17:32:43.989Z"
   },
   {
    "duration": 0,
    "start_time": "2022-05-13T17:32:43.991Z"
   },
   {
    "duration": 0,
    "start_time": "2022-05-13T17:32:43.994Z"
   },
   {
    "duration": 0,
    "start_time": "2022-05-13T17:32:43.996Z"
   },
   {
    "duration": 0,
    "start_time": "2022-05-13T17:32:43.998Z"
   },
   {
    "duration": 0,
    "start_time": "2022-05-13T17:32:44.001Z"
   },
   {
    "duration": 0,
    "start_time": "2022-05-13T17:32:44.003Z"
   },
   {
    "duration": 0,
    "start_time": "2022-05-13T17:32:44.005Z"
   },
   {
    "duration": 0,
    "start_time": "2022-05-13T17:32:44.007Z"
   },
   {
    "duration": 1,
    "start_time": "2022-05-13T17:32:44.009Z"
   },
   {
    "duration": 1,
    "start_time": "2022-05-13T17:32:44.011Z"
   },
   {
    "duration": 0,
    "start_time": "2022-05-13T17:32:44.014Z"
   },
   {
    "duration": 0,
    "start_time": "2022-05-13T17:32:44.015Z"
   },
   {
    "duration": 4,
    "start_time": "2022-05-13T17:32:56.157Z"
   },
   {
    "duration": 438,
    "start_time": "2022-05-13T17:32:59.057Z"
   },
   {
    "duration": 6,
    "start_time": "2022-05-13T17:33:03.222Z"
   },
   {
    "duration": 15,
    "start_time": "2022-05-13T17:33:05.666Z"
   },
   {
    "duration": 3,
    "start_time": "2022-05-13T17:33:11.497Z"
   },
   {
    "duration": 479,
    "start_time": "2022-05-13T17:33:15.110Z"
   },
   {
    "duration": 7,
    "start_time": "2022-05-13T17:33:17.797Z"
   },
   {
    "duration": 19,
    "start_time": "2022-05-13T17:33:21.217Z"
   },
   {
    "duration": 3,
    "start_time": "2022-05-13T17:33:26.474Z"
   },
   {
    "duration": 386,
    "start_time": "2022-05-13T17:33:28.797Z"
   },
   {
    "duration": 9,
    "start_time": "2022-05-13T17:33:31.270Z"
   },
   {
    "duration": 17,
    "start_time": "2022-05-13T17:33:34.570Z"
   },
   {
    "duration": 21,
    "start_time": "2022-05-13T17:33:38.985Z"
   },
   {
    "duration": 6553,
    "start_time": "2022-05-14T07:57:29.783Z"
   },
   {
    "duration": 2212,
    "start_time": "2022-05-14T07:57:36.338Z"
   },
   {
    "duration": 2,
    "start_time": "2022-05-14T07:57:38.552Z"
   },
   {
    "duration": 5527,
    "start_time": "2022-05-14T07:57:38.556Z"
   },
   {
    "duration": 6,
    "start_time": "2022-05-14T07:57:44.084Z"
   },
   {
    "duration": 11,
    "start_time": "2022-05-14T07:57:44.091Z"
   },
   {
    "duration": 3,
    "start_time": "2022-05-14T07:57:44.103Z"
   },
   {
    "duration": 8,
    "start_time": "2022-05-14T07:57:44.107Z"
   },
   {
    "duration": 2,
    "start_time": "2022-05-14T07:57:44.117Z"
   },
   {
    "duration": 4,
    "start_time": "2022-05-14T07:57:44.123Z"
   },
   {
    "duration": 6,
    "start_time": "2022-05-14T07:57:44.128Z"
   },
   {
    "duration": 1290,
    "start_time": "2022-05-14T07:57:44.135Z"
   },
   {
    "duration": 112652,
    "start_time": "2022-05-14T07:57:45.427Z"
   },
   {
    "duration": 3,
    "start_time": "2022-05-14T07:59:38.082Z"
   },
   {
    "duration": 6,
    "start_time": "2022-05-14T07:59:38.087Z"
   },
   {
    "duration": 3869,
    "start_time": "2022-05-14T07:59:38.094Z"
   },
   {
    "duration": 13,
    "start_time": "2022-05-14T07:59:41.965Z"
   },
   {
    "duration": 73,
    "start_time": "2022-05-14T07:59:41.979Z"
   },
   {
    "duration": 3,
    "start_time": "2022-05-14T07:59:42.054Z"
   },
   {
    "duration": 16,
    "start_time": "2022-05-14T07:59:42.059Z"
   },
   {
    "duration": 6,
    "start_time": "2022-05-14T07:59:42.076Z"
   },
   {
    "duration": 27,
    "start_time": "2022-05-14T07:59:42.084Z"
   },
   {
    "duration": 3934,
    "start_time": "2022-05-14T07:59:42.113Z"
   },
   {
    "duration": 1163,
    "start_time": "2022-05-14T07:59:46.049Z"
   },
   {
    "duration": 1174,
    "start_time": "2022-05-14T07:59:47.214Z"
   },
   {
    "duration": 4,
    "start_time": "2022-05-14T07:59:48.389Z"
   },
   {
    "duration": 2,
    "start_time": "2022-05-14T08:00:36.631Z"
   },
   {
    "duration": 3,
    "start_time": "2022-05-14T08:00:38.694Z"
   },
   {
    "duration": 430,
    "start_time": "2022-05-14T08:00:40.783Z"
   },
   {
    "duration": 7,
    "start_time": "2022-05-14T08:00:45.330Z"
   },
   {
    "duration": 17,
    "start_time": "2022-05-14T08:00:47.402Z"
   },
   {
    "duration": 11,
    "start_time": "2022-05-14T08:01:00.862Z"
   },
   {
    "duration": 47,
    "start_time": "2022-05-14T08:01:03.634Z"
   },
   {
    "duration": 12,
    "start_time": "2022-05-14T08:01:05.542Z"
   },
   {
    "duration": 3,
    "start_time": "2022-05-14T08:01:07.866Z"
   },
   {
    "duration": 3,
    "start_time": "2022-05-14T08:01:10.338Z"
   },
   {
    "duration": 19,
    "start_time": "2022-05-14T08:01:12.998Z"
   },
   {
    "duration": 3779,
    "start_time": "2022-05-14T08:01:15.294Z"
   },
   {
    "duration": 1251,
    "start_time": "2022-05-14T08:01:19.076Z"
   },
   {
    "duration": 1218,
    "start_time": "2022-05-14T08:01:20.328Z"
   },
   {
    "duration": 3,
    "start_time": "2022-05-14T08:01:27.702Z"
   },
   {
    "duration": 401,
    "start_time": "2022-05-14T08:01:29.967Z"
   },
   {
    "duration": 6,
    "start_time": "2022-05-14T08:01:34.134Z"
   },
   {
    "duration": 11,
    "start_time": "2022-05-14T08:01:36.326Z"
   },
   {
    "duration": 2,
    "start_time": "2022-05-14T08:01:40.214Z"
   },
   {
    "duration": 411,
    "start_time": "2022-05-14T08:01:42.715Z"
   },
   {
    "duration": 6,
    "start_time": "2022-05-14T08:01:45.738Z"
   },
   {
    "duration": 11,
    "start_time": "2022-05-14T08:01:47.674Z"
   },
   {
    "duration": 10,
    "start_time": "2022-05-14T08:03:02.158Z"
   },
   {
    "duration": 48,
    "start_time": "2022-05-14T09:10:54.648Z"
   },
   {
    "duration": 12,
    "start_time": "2022-05-14T09:11:00.436Z"
   },
   {
    "duration": 3,
    "start_time": "2022-05-14T09:11:03.988Z"
   },
   {
    "duration": 18,
    "start_time": "2022-05-14T09:11:06.753Z"
   },
   {
    "duration": 3712,
    "start_time": "2022-05-14T09:11:11.229Z"
   },
   {
    "duration": 1146,
    "start_time": "2022-05-14T09:11:14.943Z"
   },
   {
    "duration": 1139,
    "start_time": "2022-05-14T09:11:16.091Z"
   },
   {
    "duration": 2,
    "start_time": "2022-05-14T09:11:21.677Z"
   },
   {
    "duration": 177,
    "start_time": "2022-05-14T09:11:24.041Z"
   },
   {
    "duration": 4,
    "start_time": "2022-05-14T09:11:26.481Z"
   },
   {
    "duration": 10,
    "start_time": "2022-05-14T09:11:28.960Z"
   },
   {
    "duration": 2,
    "start_time": "2022-05-14T09:11:35.461Z"
   },
   {
    "duration": 214,
    "start_time": "2022-05-14T09:11:37.212Z"
   },
   {
    "duration": 4,
    "start_time": "2022-05-14T09:11:40.121Z"
   },
   {
    "duration": 11,
    "start_time": "2022-05-14T09:11:42.409Z"
   },
   {
    "duration": 2,
    "start_time": "2022-05-14T09:11:48.073Z"
   },
   {
    "duration": 151,
    "start_time": "2022-05-14T09:11:49.637Z"
   },
   {
    "duration": 5,
    "start_time": "2022-05-14T09:11:51.604Z"
   },
   {
    "duration": 11,
    "start_time": "2022-05-14T09:11:53.284Z"
   },
   {
    "duration": 13,
    "start_time": "2022-05-14T09:11:55.357Z"
   },
   {
    "duration": 10,
    "start_time": "2022-05-14T09:12:06.381Z"
   },
   {
    "duration": 47,
    "start_time": "2022-05-14T09:12:08.492Z"
   },
   {
    "duration": 11,
    "start_time": "2022-05-14T09:12:10.436Z"
   },
   {
    "duration": 3,
    "start_time": "2022-05-14T09:12:12.697Z"
   },
   {
    "duration": 2,
    "start_time": "2022-05-14T09:12:15.389Z"
   },
   {
    "duration": 19,
    "start_time": "2022-05-14T09:12:18.452Z"
   },
   {
    "duration": 3761,
    "start_time": "2022-05-14T09:12:21.305Z"
   },
   {
    "duration": 1124,
    "start_time": "2022-05-14T09:12:25.070Z"
   },
   {
    "duration": 1109,
    "start_time": "2022-05-14T09:12:26.196Z"
   },
   {
    "duration": 2,
    "start_time": "2022-05-14T09:12:31.501Z"
   },
   {
    "duration": 187,
    "start_time": "2022-05-14T09:12:33.528Z"
   },
   {
    "duration": 4,
    "start_time": "2022-05-14T09:12:35.453Z"
   },
   {
    "duration": 12,
    "start_time": "2022-05-14T09:12:37.752Z"
   },
   {
    "duration": 3,
    "start_time": "2022-05-14T09:12:43.425Z"
   },
   {
    "duration": 225,
    "start_time": "2022-05-14T09:12:45.385Z"
   },
   {
    "duration": 4,
    "start_time": "2022-05-14T09:12:47.713Z"
   },
   {
    "duration": 10,
    "start_time": "2022-05-14T09:12:49.533Z"
   },
   {
    "duration": 2,
    "start_time": "2022-05-14T09:12:55.149Z"
   },
   {
    "duration": 162,
    "start_time": "2022-05-14T09:12:56.688Z"
   },
   {
    "duration": 5,
    "start_time": "2022-05-14T09:12:59.568Z"
   },
   {
    "duration": 11,
    "start_time": "2022-05-14T09:13:01.129Z"
   },
   {
    "duration": 13,
    "start_time": "2022-05-14T09:13:03.277Z"
   },
   {
    "duration": 10,
    "start_time": "2022-05-14T09:13:12.349Z"
   },
   {
    "duration": 46,
    "start_time": "2022-05-14T09:13:15.105Z"
   },
   {
    "duration": 12,
    "start_time": "2022-05-14T09:13:17.128Z"
   },
   {
    "duration": 5,
    "start_time": "2022-05-14T09:13:19.032Z"
   },
   {
    "duration": 3,
    "start_time": "2022-05-14T09:13:20.833Z"
   },
   {
    "duration": 18,
    "start_time": "2022-05-14T09:13:23.073Z"
   },
   {
    "duration": 3653,
    "start_time": "2022-05-14T09:13:26.485Z"
   },
   {
    "duration": 1218,
    "start_time": "2022-05-14T09:13:30.140Z"
   },
   {
    "duration": 1092,
    "start_time": "2022-05-14T09:13:31.404Z"
   },
   {
    "duration": 2,
    "start_time": "2022-05-14T09:13:35.769Z"
   },
   {
    "duration": 199,
    "start_time": "2022-05-14T09:13:37.961Z"
   },
   {
    "duration": 5,
    "start_time": "2022-05-14T09:13:40.740Z"
   },
   {
    "duration": 11,
    "start_time": "2022-05-14T09:13:43.536Z"
   },
   {
    "duration": 3,
    "start_time": "2022-05-14T09:13:49.292Z"
   },
   {
    "duration": 211,
    "start_time": "2022-05-14T09:13:52.081Z"
   },
   {
    "duration": 5,
    "start_time": "2022-05-14T09:13:54.081Z"
   },
   {
    "duration": 11,
    "start_time": "2022-05-14T09:13:56.045Z"
   },
   {
    "duration": 2,
    "start_time": "2022-05-14T09:14:02.333Z"
   },
   {
    "duration": 155,
    "start_time": "2022-05-14T09:14:04.052Z"
   },
   {
    "duration": 4,
    "start_time": "2022-05-14T09:14:06.201Z"
   },
   {
    "duration": 12,
    "start_time": "2022-05-14T09:14:08.229Z"
   },
   {
    "duration": 14,
    "start_time": "2022-05-14T09:14:10.501Z"
   },
   {
    "duration": 10,
    "start_time": "2022-05-14T09:14:20.193Z"
   },
   {
    "duration": 51,
    "start_time": "2022-05-14T09:14:24.720Z"
   },
   {
    "duration": 12,
    "start_time": "2022-05-14T09:14:29.300Z"
   },
   {
    "duration": 3,
    "start_time": "2022-05-14T09:14:31.792Z"
   },
   {
    "duration": 20,
    "start_time": "2022-05-14T09:14:34.132Z"
   },
   {
    "duration": 3595,
    "start_time": "2022-05-14T09:14:36.625Z"
   },
   {
    "duration": 1167,
    "start_time": "2022-05-14T09:14:40.222Z"
   },
   {
    "duration": 1124,
    "start_time": "2022-05-14T09:14:41.600Z"
   },
   {
    "duration": 3,
    "start_time": "2022-05-14T09:14:46.140Z"
   },
   {
    "duration": 157,
    "start_time": "2022-05-14T09:14:48.077Z"
   },
   {
    "duration": 4,
    "start_time": "2022-05-14T09:14:50.661Z"
   },
   {
    "duration": 11,
    "start_time": "2022-05-14T09:14:52.549Z"
   },
   {
    "duration": 10,
    "start_time": "2022-05-14T09:15:04.185Z"
   },
   {
    "duration": 46,
    "start_time": "2022-05-14T09:15:06.720Z"
   },
   {
    "duration": 11,
    "start_time": "2022-05-14T09:15:08.536Z"
   },
   {
    "duration": 2,
    "start_time": "2022-05-14T09:15:12.781Z"
   },
   {
    "duration": 18,
    "start_time": "2022-05-14T09:15:16.708Z"
   },
   {
    "duration": 3668,
    "start_time": "2022-05-14T09:15:19.497Z"
   },
   {
    "duration": 1120,
    "start_time": "2022-05-14T09:15:23.167Z"
   },
   {
    "duration": 1092,
    "start_time": "2022-05-14T09:15:24.289Z"
   },
   {
    "duration": 131,
    "start_time": "2022-05-14T09:15:27.393Z"
   },
   {
    "duration": 2,
    "start_time": "2022-05-14T09:15:31.293Z"
   },
   {
    "duration": 166,
    "start_time": "2022-05-14T09:15:33.393Z"
   },
   {
    "duration": 4,
    "start_time": "2022-05-14T09:15:35.205Z"
   },
   {
    "duration": 10,
    "start_time": "2022-05-14T09:15:36.956Z"
   },
   {
    "duration": 2,
    "start_time": "2022-05-14T09:15:39.572Z"
   },
   {
    "duration": 213,
    "start_time": "2022-05-14T09:15:43.285Z"
   },
   {
    "duration": 5,
    "start_time": "2022-05-14T09:15:45.885Z"
   },
   {
    "duration": 10,
    "start_time": "2022-05-14T09:15:47.645Z"
   },
   {
    "duration": 3,
    "start_time": "2022-05-14T09:16:06.996Z"
   },
   {
    "duration": 161,
    "start_time": "2022-05-14T09:16:08.556Z"
   },
   {
    "duration": 5,
    "start_time": "2022-05-14T09:16:10.924Z"
   },
   {
    "duration": 11,
    "start_time": "2022-05-14T09:16:12.652Z"
   },
   {
    "duration": 14,
    "start_time": "2022-05-14T09:16:14.409Z"
   },
   {
    "duration": 11,
    "start_time": "2022-05-14T09:16:31.376Z"
   },
   {
    "duration": 49,
    "start_time": "2022-05-14T09:16:34.396Z"
   },
   {
    "duration": 12,
    "start_time": "2022-05-14T09:16:35.996Z"
   },
   {
    "duration": 20,
    "start_time": "2022-05-14T09:16:38.292Z"
   },
   {
    "duration": 3656,
    "start_time": "2022-05-14T09:16:44.029Z"
   },
   {
    "duration": 1113,
    "start_time": "2022-05-14T09:16:47.687Z"
   },
   {
    "duration": 1209,
    "start_time": "2022-05-14T09:16:48.802Z"
   },
   {
    "duration": 2,
    "start_time": "2022-05-14T09:16:53.149Z"
   },
   {
    "duration": 229,
    "start_time": "2022-05-14T09:16:55.000Z"
   },
   {
    "duration": 5,
    "start_time": "2022-05-14T09:16:58.540Z"
   },
   {
    "duration": 10,
    "start_time": "2022-05-14T09:17:01.009Z"
   },
   {
    "duration": 2,
    "start_time": "2022-05-14T09:17:10.489Z"
   },
   {
    "duration": 20,
    "start_time": "2022-05-14T09:17:13.457Z"
   },
   {
    "duration": 140,
    "start_time": "2022-05-14T09:17:21.296Z"
   },
   {
    "duration": 3690,
    "start_time": "2022-05-14T09:17:33.640Z"
   },
   {
    "duration": 1113,
    "start_time": "2022-05-14T09:17:37.332Z"
   },
   {
    "duration": 1118,
    "start_time": "2022-05-14T09:17:38.447Z"
   },
   {
    "duration": 180,
    "start_time": "2022-05-14T09:17:40.940Z"
   },
   {
    "duration": 5,
    "start_time": "2022-05-14T09:17:43.508Z"
   },
   {
    "duration": 11,
    "start_time": "2022-05-14T09:17:45.280Z"
   },
   {
    "duration": 10,
    "start_time": "2022-05-14T10:31:11.490Z"
   },
   {
    "duration": 48,
    "start_time": "2022-05-14T10:31:13.486Z"
   },
   {
    "duration": 11,
    "start_time": "2022-05-14T10:31:15.894Z"
   },
   {
    "duration": 3,
    "start_time": "2022-05-14T10:31:18.354Z"
   },
   {
    "duration": 18,
    "start_time": "2022-05-14T10:31:20.107Z"
   },
   {
    "duration": 3649,
    "start_time": "2022-05-14T10:31:22.734Z"
   },
   {
    "duration": 1141,
    "start_time": "2022-05-14T10:31:26.385Z"
   },
   {
    "duration": 1157,
    "start_time": "2022-05-14T10:31:27.528Z"
   },
   {
    "duration": 2,
    "start_time": "2022-05-14T10:31:30.974Z"
   },
   {
    "duration": 378,
    "start_time": "2022-05-14T10:31:32.638Z"
   },
   {
    "duration": 6,
    "start_time": "2022-05-14T10:31:35.669Z"
   },
   {
    "duration": 11,
    "start_time": "2022-05-14T10:31:37.282Z"
   },
   {
    "duration": 10,
    "start_time": "2022-05-14T10:31:47.866Z"
   },
   {
    "duration": 2,
    "start_time": "2022-05-14T10:31:56.554Z"
   },
   {
    "duration": 3,
    "start_time": "2022-05-14T10:31:59.590Z"
   },
   {
    "duration": 3,
    "start_time": "2022-05-14T10:32:02.618Z"
   },
   {
    "duration": 20,
    "start_time": "2022-05-14T10:32:05.446Z"
   },
   {
    "duration": 3704,
    "start_time": "2022-05-14T10:32:09.182Z"
   },
   {
    "duration": 1175,
    "start_time": "2022-05-14T10:32:12.888Z"
   },
   {
    "duration": 1185,
    "start_time": "2022-05-14T10:32:14.065Z"
   },
   {
    "duration": 363,
    "start_time": "2022-05-14T10:32:18.705Z"
   },
   {
    "duration": 6,
    "start_time": "2022-05-14T10:32:20.565Z"
   },
   {
    "duration": 12,
    "start_time": "2022-05-14T10:32:22.418Z"
   },
   {
    "duration": 10,
    "start_time": "2022-05-14T10:32:43.650Z"
   },
   {
    "duration": 48,
    "start_time": "2022-05-14T10:32:46.254Z"
   },
   {
    "duration": 11,
    "start_time": "2022-05-14T10:32:48.250Z"
   },
   {
    "duration": 4,
    "start_time": "2022-05-14T10:32:50.806Z"
   },
   {
    "duration": 2,
    "start_time": "2022-05-14T10:32:53.754Z"
   },
   {
    "duration": 20,
    "start_time": "2022-05-14T10:32:55.645Z"
   },
   {
    "duration": 3746,
    "start_time": "2022-05-14T10:32:57.902Z"
   },
   {
    "duration": 1237,
    "start_time": "2022-05-14T10:33:01.650Z"
   },
   {
    "duration": 1188,
    "start_time": "2022-05-14T10:33:02.889Z"
   },
   {
    "duration": 368,
    "start_time": "2022-05-14T10:33:07.189Z"
   },
   {
    "duration": 5,
    "start_time": "2022-05-14T10:33:09.694Z"
   },
   {
    "duration": 12,
    "start_time": "2022-05-14T10:33:11.385Z"
   },
   {
    "duration": 2,
    "start_time": "2022-05-14T10:33:14.214Z"
   },
   {
    "duration": 388,
    "start_time": "2022-05-14T10:33:16.694Z"
   },
   {
    "duration": 5,
    "start_time": "2022-05-14T10:33:19.921Z"
   },
   {
    "duration": 10,
    "start_time": "2022-05-14T10:33:21.605Z"
   },
   {
    "duration": 3,
    "start_time": "2022-05-14T10:33:25.049Z"
   },
   {
    "duration": 316,
    "start_time": "2022-05-14T10:33:27.634Z"
   },
   {
    "duration": 5,
    "start_time": "2022-05-14T10:33:29.662Z"
   },
   {
    "duration": 11,
    "start_time": "2022-05-14T10:33:31.262Z"
   },
   {
    "duration": 13,
    "start_time": "2022-05-14T10:33:33.230Z"
   },
   {
    "duration": 7,
    "start_time": "2022-05-14T10:34:34.138Z"
   },
   {
    "duration": 2,
    "start_time": "2022-05-14T10:34:58.197Z"
   },
   {
    "duration": 21,
    "start_time": "2022-05-14T10:35:40.409Z"
   },
   {
    "duration": 44,
    "start_time": "2022-05-14T10:36:26.688Z"
   },
   {
    "duration": 2259,
    "start_time": "2022-05-14T10:36:39.435Z"
   },
   {
    "duration": 2179,
    "start_time": "2022-05-14T10:36:41.696Z"
   },
   {
    "duration": 2,
    "start_time": "2022-05-14T10:36:43.877Z"
   },
   {
    "duration": 5310,
    "start_time": "2022-05-14T10:36:43.881Z"
   },
   {
    "duration": 4,
    "start_time": "2022-05-14T10:36:49.193Z"
   },
   {
    "duration": 13,
    "start_time": "2022-05-14T10:36:49.199Z"
   },
   {
    "duration": 3,
    "start_time": "2022-05-14T10:36:49.213Z"
   },
   {
    "duration": 8,
    "start_time": "2022-05-14T10:36:49.217Z"
   },
   {
    "duration": 7,
    "start_time": "2022-05-14T10:36:49.226Z"
   },
   {
    "duration": 5,
    "start_time": "2022-05-14T10:36:49.235Z"
   },
   {
    "duration": 5,
    "start_time": "2022-05-14T10:36:49.241Z"
   },
   {
    "duration": 1208,
    "start_time": "2022-05-14T10:36:49.247Z"
   },
   {
    "duration": 114593,
    "start_time": "2022-05-14T10:36:50.456Z"
   },
   {
    "duration": 3,
    "start_time": "2022-05-14T10:38:45.051Z"
   },
   {
    "duration": 19,
    "start_time": "2022-05-14T10:38:45.055Z"
   },
   {
    "duration": 3752,
    "start_time": "2022-05-14T10:38:45.075Z"
   },
   {
    "duration": 7,
    "start_time": "2022-05-14T10:38:48.829Z"
   },
   {
    "duration": 78,
    "start_time": "2022-05-14T10:38:48.837Z"
   },
   {
    "duration": 2,
    "start_time": "2022-05-14T10:38:48.917Z"
   },
   {
    "duration": 10,
    "start_time": "2022-05-14T10:38:48.921Z"
   },
   {
    "duration": 7,
    "start_time": "2022-05-14T10:38:48.933Z"
   },
   {
    "duration": 24,
    "start_time": "2022-05-14T10:38:48.941Z"
   },
   {
    "duration": 3745,
    "start_time": "2022-05-14T10:38:48.970Z"
   },
   {
    "duration": 1302,
    "start_time": "2022-05-14T10:38:52.716Z"
   },
   {
    "duration": 1190,
    "start_time": "2022-05-14T10:38:54.020Z"
   },
   {
    "duration": 4,
    "start_time": "2022-05-14T10:38:55.212Z"
   },
   {
    "duration": 6,
    "start_time": "2022-05-14T10:38:55.217Z"
   },
   {
    "duration": 2,
    "start_time": "2022-05-14T10:38:55.226Z"
   },
   {
    "duration": 904,
    "start_time": "2022-05-14T10:39:33.209Z"
   },
   {
    "duration": 3,
    "start_time": "2022-05-14T10:39:35.585Z"
   },
   {
    "duration": 72,
    "start_time": "2022-05-14T10:39:40.153Z"
   },
   {
    "duration": 2277,
    "start_time": "2022-05-14T10:39:54.457Z"
   },
   {
    "duration": 1319,
    "start_time": "2022-05-14T10:39:56.736Z"
   },
   {
    "duration": 3,
    "start_time": "2022-05-14T10:39:58.057Z"
   },
   {
    "duration": 6716,
    "start_time": "2022-05-14T10:39:58.062Z"
   },
   {
    "duration": 6,
    "start_time": "2022-05-14T10:40:04.780Z"
   },
   {
    "duration": 15,
    "start_time": "2022-05-14T10:40:04.787Z"
   },
   {
    "duration": 3,
    "start_time": "2022-05-14T10:40:04.804Z"
   },
   {
    "duration": 8,
    "start_time": "2022-05-14T10:40:04.808Z"
   },
   {
    "duration": 2,
    "start_time": "2022-05-14T10:40:04.818Z"
   },
   {
    "duration": 4,
    "start_time": "2022-05-14T10:40:04.822Z"
   },
   {
    "duration": 5,
    "start_time": "2022-05-14T10:40:04.828Z"
   },
   {
    "duration": 1251,
    "start_time": "2022-05-14T10:40:04.834Z"
   },
   {
    "duration": 114976,
    "start_time": "2022-05-14T10:40:06.087Z"
   },
   {
    "duration": 3,
    "start_time": "2022-05-14T10:42:01.071Z"
   },
   {
    "duration": 7,
    "start_time": "2022-05-14T10:42:01.075Z"
   },
   {
    "duration": 3780,
    "start_time": "2022-05-14T10:42:01.084Z"
   },
   {
    "duration": 8,
    "start_time": "2022-05-14T10:42:04.866Z"
   },
   {
    "duration": 70,
    "start_time": "2022-05-14T10:42:04.875Z"
   },
   {
    "duration": 3,
    "start_time": "2022-05-14T10:42:04.947Z"
   },
   {
    "duration": 21,
    "start_time": "2022-05-14T10:42:04.952Z"
   },
   {
    "duration": 7,
    "start_time": "2022-05-14T10:42:04.975Z"
   },
   {
    "duration": 21,
    "start_time": "2022-05-14T10:42:04.983Z"
   },
   {
    "duration": 3879,
    "start_time": "2022-05-14T10:42:05.006Z"
   },
   {
    "duration": 1251,
    "start_time": "2022-05-14T10:42:08.887Z"
   },
   {
    "duration": 1209,
    "start_time": "2022-05-14T10:42:10.139Z"
   },
   {
    "duration": 3,
    "start_time": "2022-05-14T10:42:11.350Z"
   },
   {
    "duration": 15,
    "start_time": "2022-05-14T10:42:11.356Z"
   },
   {
    "duration": 2,
    "start_time": "2022-05-14T10:42:11.372Z"
   },
   {
    "duration": 45,
    "start_time": "2022-05-14T10:42:29.431Z"
   },
   {
    "duration": 6,
    "start_time": "2022-05-14T10:42:48.132Z"
   },
   {
    "duration": 2243,
    "start_time": "2022-05-14T10:42:57.686Z"
   },
   {
    "duration": 2264,
    "start_time": "2022-05-14T10:42:59.931Z"
   },
   {
    "duration": 2,
    "start_time": "2022-05-14T10:43:02.197Z"
   },
   {
    "duration": 6890,
    "start_time": "2022-05-14T10:43:02.202Z"
   },
   {
    "duration": 5,
    "start_time": "2022-05-14T10:43:09.093Z"
   },
   {
    "duration": 13,
    "start_time": "2022-05-14T10:43:09.100Z"
   },
   {
    "duration": 3,
    "start_time": "2022-05-14T10:43:09.114Z"
   },
   {
    "duration": 9,
    "start_time": "2022-05-14T10:43:09.118Z"
   },
   {
    "duration": 5,
    "start_time": "2022-05-14T10:43:09.128Z"
   },
   {
    "duration": 6,
    "start_time": "2022-05-14T10:43:09.135Z"
   },
   {
    "duration": 7,
    "start_time": "2022-05-14T10:43:09.143Z"
   },
   {
    "duration": 1215,
    "start_time": "2022-05-14T10:43:09.151Z"
   },
   {
    "duration": 115340,
    "start_time": "2022-05-14T10:43:10.371Z"
   },
   {
    "duration": 3,
    "start_time": "2022-05-14T10:45:05.713Z"
   },
   {
    "duration": 6,
    "start_time": "2022-05-14T10:45:05.718Z"
   },
   {
    "duration": 3834,
    "start_time": "2022-05-14T10:45:05.725Z"
   },
   {
    "duration": 10,
    "start_time": "2022-05-14T10:45:09.561Z"
   },
   {
    "duration": 73,
    "start_time": "2022-05-14T10:45:09.572Z"
   },
   {
    "duration": 2,
    "start_time": "2022-05-14T10:45:09.647Z"
   },
   {
    "duration": 20,
    "start_time": "2022-05-14T10:45:09.651Z"
   },
   {
    "duration": 3,
    "start_time": "2022-05-14T10:45:09.673Z"
   },
   {
    "duration": 21,
    "start_time": "2022-05-14T10:45:09.677Z"
   },
   {
    "duration": 3835,
    "start_time": "2022-05-14T10:45:09.699Z"
   },
   {
    "duration": 1186,
    "start_time": "2022-05-14T10:45:13.535Z"
   },
   {
    "duration": 1172,
    "start_time": "2022-05-14T10:45:14.723Z"
   },
   {
    "duration": 4,
    "start_time": "2022-05-14T10:45:15.897Z"
   },
   {
    "duration": 3,
    "start_time": "2022-05-14T10:45:19.750Z"
   },
   {
    "duration": 17,
    "start_time": "2022-05-14T10:45:21.962Z"
   },
   {
    "duration": 106791,
    "start_time": "2022-05-14T10:45:27.053Z"
   },
   {
    "duration": 4,
    "start_time": "2022-05-14T10:51:50.354Z"
   },
   {
    "duration": 3,
    "start_time": "2022-05-14T10:52:49.026Z"
   },
   {
    "duration": 100,
    "start_time": "2022-05-14T10:53:25.914Z"
   },
   {
    "duration": 3,
    "start_time": "2022-05-14T10:54:00.346Z"
   },
   {
    "duration": 11,
    "start_time": "2022-05-14T10:54:02.597Z"
   },
   {
    "duration": 3,
    "start_time": "2022-05-14T10:54:09.357Z"
   },
   {
    "duration": 13,
    "start_time": "2022-05-14T10:54:14.029Z"
   },
   {
    "duration": 12,
    "start_time": "2022-05-14T10:54:31.846Z"
   },
   {
    "duration": 3,
    "start_time": "2022-05-14T10:59:26.416Z"
   },
   {
    "duration": 3,
    "start_time": "2022-05-14T10:59:28.805Z"
   },
   {
    "duration": 20,
    "start_time": "2022-05-14T11:00:15.305Z"
   },
   {
    "duration": 3,
    "start_time": "2022-05-14T11:00:36.741Z"
   },
   {
    "duration": 25,
    "start_time": "2022-05-14T11:00:38.605Z"
   },
   {
    "duration": 3,
    "start_time": "2022-05-14T11:00:52.420Z"
   },
   {
    "duration": 3,
    "start_time": "2022-05-14T11:00:54.483Z"
   },
   {
    "duration": 30,
    "start_time": "2022-05-14T11:00:57.861Z"
   },
   {
    "duration": 3,
    "start_time": "2022-05-14T11:01:18.325Z"
   },
   {
    "duration": 3,
    "start_time": "2022-05-14T11:01:20.305Z"
   },
   {
    "duration": 26,
    "start_time": "2022-05-14T11:01:22.549Z"
   },
   {
    "duration": 29264,
    "start_time": "2022-05-14T11:01:43.317Z"
   },
   {
    "duration": 4,
    "start_time": "2022-05-14T11:02:37.489Z"
   },
   {
    "duration": 14,
    "start_time": "2022-05-14T11:03:03.353Z"
   },
   {
    "duration": 21,
    "start_time": "2022-05-14T11:04:43.772Z"
   },
   {
    "duration": 249,
    "start_time": "2022-05-14T11:04:55.988Z"
   },
   {
    "duration": 6066,
    "start_time": "2022-05-14T11:05:52.205Z"
   },
   {
    "duration": 38096,
    "start_time": "2022-05-14T11:06:09.145Z"
   },
   {
    "duration": 4,
    "start_time": "2022-05-14T11:06:47.243Z"
   },
   {
    "duration": 13,
    "start_time": "2022-05-14T11:06:50.300Z"
   },
   {
    "duration": 13,
    "start_time": "2022-05-14T11:07:22.904Z"
   },
   {
    "duration": 14,
    "start_time": "2022-05-14T11:07:25.264Z"
   },
   {
    "duration": 13,
    "start_time": "2022-05-14T11:07:36.716Z"
   },
   {
    "duration": 3,
    "start_time": "2022-05-14T11:14:05.668Z"
   },
   {
    "duration": 3,
    "start_time": "2022-05-14T11:14:08.579Z"
   },
   {
    "duration": 31,
    "start_time": "2022-05-14T11:14:10.796Z"
   },
   {
    "duration": 11,
    "start_time": "2022-05-14T11:14:40.220Z"
   },
   {
    "duration": 3,
    "start_time": "2022-05-14T11:14:48.672Z"
   },
   {
    "duration": 2,
    "start_time": "2022-05-14T11:14:51.308Z"
   },
   {
    "duration": 47728,
    "start_time": "2022-05-14T11:14:53.232Z"
   },
   {
    "duration": 4,
    "start_time": "2022-05-14T11:15:40.962Z"
   },
   {
    "duration": 18,
    "start_time": "2022-05-14T11:15:40.971Z"
   },
   {
    "duration": 3,
    "start_time": "2022-05-14T11:15:59.728Z"
   },
   {
    "duration": 2,
    "start_time": "2022-05-14T11:16:01.884Z"
   },
   {
    "duration": 49955,
    "start_time": "2022-05-14T11:16:04.600Z"
   },
   {
    "duration": 3,
    "start_time": "2022-05-14T11:16:54.557Z"
   },
   {
    "duration": 29,
    "start_time": "2022-05-14T11:16:54.562Z"
   },
   {
    "duration": 11,
    "start_time": "2022-05-14T11:29:36.635Z"
   },
   {
    "duration": 3,
    "start_time": "2022-05-14T11:31:47.278Z"
   },
   {
    "duration": 3,
    "start_time": "2022-05-14T11:31:51.558Z"
   },
   {
    "duration": 78344,
    "start_time": "2022-05-14T11:31:53.458Z"
   },
   {
    "duration": 3,
    "start_time": "2022-05-14T11:33:16.926Z"
   },
   {
    "duration": 3,
    "start_time": "2022-05-14T11:33:19.254Z"
   },
   {
    "duration": 28194,
    "start_time": "2022-05-14T11:33:21.145Z"
   },
   {
    "duration": 4,
    "start_time": "2022-05-14T11:33:58.342Z"
   },
   {
    "duration": 14,
    "start_time": "2022-05-14T11:34:02.718Z"
   },
   {
    "duration": 3,
    "start_time": "2022-05-14T11:34:24.346Z"
   },
   {
    "duration": 3,
    "start_time": "2022-05-14T11:34:26.066Z"
   },
   {
    "duration": 63362,
    "start_time": "2022-05-14T11:34:28.394Z"
   },
   {
    "duration": 5,
    "start_time": "2022-05-14T11:35:31.758Z"
   },
   {
    "duration": 15,
    "start_time": "2022-05-14T11:35:31.764Z"
   },
   {
    "duration": 3,
    "start_time": "2022-05-14T11:36:02.146Z"
   },
   {
    "duration": 3,
    "start_time": "2022-05-14T11:36:04.118Z"
   },
   {
    "duration": 52849,
    "start_time": "2022-05-14T11:36:06.486Z"
   },
   {
    "duration": 4,
    "start_time": "2022-05-14T11:36:59.337Z"
   },
   {
    "duration": 15,
    "start_time": "2022-05-14T11:36:59.342Z"
   },
   {
    "duration": 3,
    "start_time": "2022-05-14T11:37:23.458Z"
   },
   {
    "duration": 3,
    "start_time": "2022-05-14T11:37:25.754Z"
   },
   {
    "duration": 45197,
    "start_time": "2022-05-14T11:37:27.757Z"
   },
   {
    "duration": 4,
    "start_time": "2022-05-14T11:38:12.956Z"
   },
   {
    "duration": 20,
    "start_time": "2022-05-14T11:38:12.961Z"
   },
   {
    "duration": 3,
    "start_time": "2022-05-14T11:46:04.541Z"
   },
   {
    "duration": 355,
    "start_time": "2022-05-14T11:46:07.789Z"
   },
   {
    "duration": 5,
    "start_time": "2022-05-14T11:46:10.937Z"
   },
   {
    "duration": 12,
    "start_time": "2022-05-14T11:46:12.805Z"
   },
   {
    "duration": 3,
    "start_time": "2022-05-14T11:48:24.657Z"
   },
   {
    "duration": 3633,
    "start_time": "2022-05-14T11:48:29.245Z"
   },
   {
    "duration": 3,
    "start_time": "2022-05-14T11:48:34.833Z"
   },
   {
    "duration": 115200,
    "start_time": "2022-05-14T11:48:36.849Z"
   },
   {
    "duration": 4,
    "start_time": "2022-05-14T11:50:32.051Z"
   },
   {
    "duration": 20,
    "start_time": "2022-05-14T11:50:32.056Z"
   },
   {
    "duration": 3,
    "start_time": "2022-05-14T11:51:29.836Z"
   },
   {
    "duration": 59694,
    "start_time": "2022-05-14T11:51:32.153Z"
   },
   {
    "duration": 3,
    "start_time": "2022-05-14T11:52:31.849Z"
   },
   {
    "duration": 20,
    "start_time": "2022-05-14T11:52:31.854Z"
   },
   {
    "duration": 2,
    "start_time": "2022-05-14T11:52:42.301Z"
   },
   {
    "duration": 32891,
    "start_time": "2022-05-14T11:52:44.952Z"
   },
   {
    "duration": 4,
    "start_time": "2022-05-14T11:53:17.845Z"
   },
   {
    "duration": 23,
    "start_time": "2022-05-14T11:53:17.850Z"
   },
   {
    "duration": 3,
    "start_time": "2022-05-14T11:53:46.756Z"
   },
   {
    "duration": 2,
    "start_time": "2022-05-14T11:53:50.477Z"
   },
   {
    "duration": 33330,
    "start_time": "2022-05-14T11:53:52.517Z"
   },
   {
    "duration": 5,
    "start_time": "2022-05-14T11:54:25.849Z"
   },
   {
    "duration": 23,
    "start_time": "2022-05-14T11:54:25.855Z"
   },
   {
    "duration": 3,
    "start_time": "2022-05-14T11:54:39.100Z"
   },
   {
    "duration": 3,
    "start_time": "2022-05-14T11:54:41.036Z"
   },
   {
    "duration": 33816,
    "start_time": "2022-05-14T11:54:42.624Z"
   },
   {
    "duration": 4,
    "start_time": "2022-05-14T11:55:16.442Z"
   },
   {
    "duration": 23,
    "start_time": "2022-05-14T11:55:16.448Z"
   },
   {
    "duration": 3,
    "start_time": "2022-05-14T11:55:25.700Z"
   },
   {
    "duration": 3,
    "start_time": "2022-05-14T11:55:27.748Z"
   },
   {
    "duration": 34295,
    "start_time": "2022-05-14T11:55:29.552Z"
   },
   {
    "duration": 4,
    "start_time": "2022-05-14T11:56:03.849Z"
   },
   {
    "duration": 23,
    "start_time": "2022-05-14T11:56:03.855Z"
   },
   {
    "duration": 16,
    "start_time": "2022-05-14T12:00:41.189Z"
   },
   {
    "duration": 25,
    "start_time": "2022-05-14T12:01:10.700Z"
   },
   {
    "duration": 100,
    "start_time": "2022-05-14T12:01:18.252Z"
   },
   {
    "duration": 112,
    "start_time": "2022-05-14T12:02:39.928Z"
   },
   {
    "duration": 3,
    "start_time": "2022-05-14T12:02:44.072Z"
   },
   {
    "duration": 3,
    "start_time": "2022-05-14T12:02:47.052Z"
   },
   {
    "duration": 24371,
    "start_time": "2022-05-14T12:02:48.992Z"
   },
   {
    "duration": 4,
    "start_time": "2022-05-14T12:03:13.365Z"
   },
   {
    "duration": 16,
    "start_time": "2022-05-14T12:03:13.371Z"
   },
   {
    "duration": 3,
    "start_time": "2022-05-14T12:03:32.207Z"
   },
   {
    "duration": 2,
    "start_time": "2022-05-14T12:03:34.428Z"
   },
   {
    "duration": 33407,
    "start_time": "2022-05-14T12:03:36.240Z"
   },
   {
    "duration": 4,
    "start_time": "2022-05-14T12:04:09.649Z"
   },
   {
    "duration": 24,
    "start_time": "2022-05-14T12:04:09.655Z"
   },
   {
    "duration": 3,
    "start_time": "2022-05-14T12:04:41.036Z"
   },
   {
    "duration": 6557,
    "start_time": "2022-05-14T12:04:43.900Z"
   },
   {
    "duration": 13,
    "start_time": "2022-05-14T12:04:50.459Z"
   },
   {
    "duration": 3,
    "start_time": "2022-05-14T12:04:55.512Z"
   },
   {
    "duration": 1815,
    "start_time": "2022-05-14T12:04:57.399Z"
   },
   {
    "duration": 2389,
    "start_time": "2022-05-14T12:05:33.119Z"
   },
   {
    "duration": 3397,
    "start_time": "2022-05-14T12:06:46.940Z"
   },
   {
    "duration": 15,
    "start_time": "2022-05-14T12:06:50.808Z"
   },
   {
    "duration": 2,
    "start_time": "2022-05-14T12:07:15.200Z"
   },
   {
    "duration": 3,
    "start_time": "2022-05-14T12:07:25.359Z"
   },
   {
    "duration": 2577,
    "start_time": "2022-05-14T12:07:29.652Z"
   },
   {
    "duration": 357,
    "start_time": "2022-05-14T12:07:53.880Z"
   },
   {
    "duration": 3,
    "start_time": "2022-05-14T12:08:22.303Z"
   },
   {
    "duration": 3,
    "start_time": "2022-05-14T12:08:26.031Z"
   },
   {
    "duration": 2390,
    "start_time": "2022-05-14T12:08:28.643Z"
   },
   {
    "duration": 467,
    "start_time": "2022-05-14T12:08:43.088Z"
   },
   {
    "duration": 1486,
    "start_time": "2022-05-14T12:09:27.515Z"
   },
   {
    "duration": 11,
    "start_time": "2022-05-14T12:11:13.500Z"
   },
   {
    "duration": 3,
    "start_time": "2022-05-14T12:11:15.979Z"
   },
   {
    "duration": 1435,
    "start_time": "2022-05-14T12:11:17.759Z"
   },
   {
    "duration": 337,
    "start_time": "2022-05-14T12:12:00.999Z"
   },
   {
    "duration": 4,
    "start_time": "2022-05-14T12:12:49.836Z"
   },
   {
    "duration": 6,
    "start_time": "2022-05-14T12:12:56.687Z"
   },
   {
    "duration": 333,
    "start_time": "2022-05-14T12:13:02.584Z"
   },
   {
    "duration": 5,
    "start_time": "2022-05-14T12:13:39.915Z"
   },
   {
    "duration": 1471,
    "start_time": "2022-05-14T12:13:42.687Z"
   },
   {
    "duration": 324,
    "start_time": "2022-05-14T12:13:46.359Z"
   },
   {
    "duration": 6,
    "start_time": "2022-05-14T12:13:49.887Z"
   },
   {
    "duration": 3,
    "start_time": "2022-05-14T12:15:24.435Z"
   },
   {
    "duration": 2,
    "start_time": "2022-05-14T12:16:02.647Z"
   },
   {
    "duration": 3,
    "start_time": "2022-05-14T12:16:10.075Z"
   },
   {
    "duration": 203044,
    "start_time": "2022-05-14T12:16:24.063Z"
   },
   {
    "duration": 9,
    "start_time": "2022-05-14T12:19:47.109Z"
   },
   {
    "duration": 4,
    "start_time": "2022-05-14T12:19:57.207Z"
   },
   {
    "duration": 83,
    "start_time": "2022-05-14T12:20:11.531Z"
   },
   {
    "duration": 3,
    "start_time": "2022-05-14T12:22:20.454Z"
   },
   {
    "duration": 1472,
    "start_time": "2022-05-14T12:22:24.131Z"
   },
   {
    "duration": 6,
    "start_time": "2022-05-14T12:22:26.098Z"
   },
   {
    "duration": 341,
    "start_time": "2022-05-14T12:22:30.422Z"
   },
   {
    "duration": 3,
    "start_time": "2022-05-14T12:22:36.234Z"
   },
   {
    "duration": 1469,
    "start_time": "2022-05-14T12:22:38.302Z"
   },
   {
    "duration": 6,
    "start_time": "2022-05-14T12:22:40.574Z"
   },
   {
    "duration": 342,
    "start_time": "2022-05-14T12:22:42.390Z"
   },
   {
    "duration": 3,
    "start_time": "2022-05-14T12:24:36.666Z"
   },
   {
    "duration": 1355314,
    "start_time": "2022-05-14T12:24:40.031Z"
   },
   {
    "duration": 265,
    "start_time": "2022-05-14T12:47:15.347Z"
   },
   {
    "duration": 3,
    "start_time": "2022-05-14T13:02:08.284Z"
   },
   {
    "duration": 3,
    "start_time": "2022-05-14T13:02:16.696Z"
   },
   {
    "duration": 3,
    "start_time": "2022-05-14T13:02:19.055Z"
   },
   {
    "duration": 25904,
    "start_time": "2022-05-14T13:02:21.052Z"
   },
   {
    "duration": 4,
    "start_time": "2022-05-14T13:02:46.959Z"
   },
   {
    "duration": 14,
    "start_time": "2022-05-14T13:02:46.971Z"
   },
   {
    "duration": 3,
    "start_time": "2022-05-14T13:03:01.167Z"
   },
   {
    "duration": 3,
    "start_time": "2022-05-14T13:03:03.275Z"
   },
   {
    "duration": 33251,
    "start_time": "2022-05-14T13:03:05.755Z"
   },
   {
    "duration": 3,
    "start_time": "2022-05-14T13:03:39.009Z"
   },
   {
    "duration": 16,
    "start_time": "2022-05-14T13:03:39.014Z"
   },
   {
    "duration": 1778727,
    "start_time": "2022-05-14T13:07:23.904Z"
   },
   {
    "duration": 284,
    "start_time": "2022-05-14T13:37:02.633Z"
   },
   {
    "duration": 2291,
    "start_time": "2022-05-14T14:31:17.726Z"
   },
   {
    "duration": 5,
    "start_time": "2022-05-14T14:31:20.021Z"
   },
   {
    "duration": 699,
    "start_time": "2022-05-14T14:31:20.028Z"
   },
   {
    "duration": 4,
    "start_time": "2022-05-14T14:31:20.730Z"
   },
   {
    "duration": 9,
    "start_time": "2022-05-14T14:31:20.737Z"
   },
   {
    "duration": 23,
    "start_time": "2022-05-14T14:31:20.748Z"
   },
   {
    "duration": 8,
    "start_time": "2022-05-14T14:31:20.773Z"
   },
   {
    "duration": 8,
    "start_time": "2022-05-14T14:31:20.783Z"
   },
   {
    "duration": 9,
    "start_time": "2022-05-14T14:31:20.792Z"
   },
   {
    "duration": 12,
    "start_time": "2022-05-14T14:31:20.804Z"
   },
   {
    "duration": 115420,
    "start_time": "2022-05-14T14:31:20.818Z"
   },
   {
    "duration": 4,
    "start_time": "2022-05-14T14:33:16.240Z"
   },
   {
    "duration": 8,
    "start_time": "2022-05-14T14:33:16.246Z"
   },
   {
    "duration": 3970,
    "start_time": "2022-05-14T14:33:16.256Z"
   },
   {
    "duration": 16,
    "start_time": "2022-05-14T14:33:20.228Z"
   },
   {
    "duration": 63,
    "start_time": "2022-05-14T14:33:20.246Z"
   },
   {
    "duration": 7,
    "start_time": "2022-05-14T14:33:20.311Z"
   },
   {
    "duration": 15,
    "start_time": "2022-05-14T14:33:20.320Z"
   },
   {
    "duration": 112,
    "start_time": "2022-05-14T14:33:20.337Z"
   },
   {
    "duration": 39,
    "start_time": "2022-05-14T14:33:20.451Z"
   },
   {
    "duration": 5213,
    "start_time": "2022-05-14T14:33:20.492Z"
   },
   {
    "duration": 1176,
    "start_time": "2022-05-14T14:33:25.707Z"
   },
   {
    "duration": 2,
    "start_time": "2022-05-14T14:33:26.886Z"
   },
   {
    "duration": 462,
    "start_time": "2022-05-14T14:33:26.890Z"
   },
   {
    "duration": 6,
    "start_time": "2022-05-14T14:33:27.354Z"
   },
   {
    "duration": 21,
    "start_time": "2022-05-14T14:33:27.361Z"
   },
   {
    "duration": 5,
    "start_time": "2022-05-14T14:58:24.851Z"
   },
   {
    "duration": 4,
    "start_time": "2022-05-14T14:59:05.863Z"
   },
   {
    "duration": 3,
    "start_time": "2022-05-14T14:59:11.971Z"
   },
   {
    "duration": 1529,
    "start_time": "2022-05-14T14:59:29.843Z"
   },
   {
    "duration": 343,
    "start_time": "2022-05-14T15:00:26.272Z"
   },
   {
    "duration": 15,
    "start_time": "2022-05-14T15:01:09.480Z"
   },
   {
    "duration": 19,
    "start_time": "2022-05-14T15:01:14.812Z"
   },
   {
    "duration": 327,
    "start_time": "2022-05-14T15:01:40.852Z"
   },
   {
    "duration": 4,
    "start_time": "2022-05-14T15:02:38.024Z"
   },
   {
    "duration": 288,
    "start_time": "2022-05-14T15:02:50.540Z"
   },
   {
    "duration": 252,
    "start_time": "2022-05-14T15:03:12.092Z"
   },
   {
    "duration": 245,
    "start_time": "2022-05-14T15:03:38.679Z"
   },
   {
    "duration": 248,
    "start_time": "2022-05-14T15:04:35.467Z"
   },
   {
    "duration": 2,
    "start_time": "2022-05-14T15:04:44.268Z"
   },
   {
    "duration": 14955,
    "start_time": "2022-05-14T15:04:46.727Z"
   },
   {
    "duration": 23,
    "start_time": "2022-05-14T15:05:01.684Z"
   },
   {
    "duration": 572326,
    "start_time": "2022-05-14T15:05:13.915Z"
   },
   {
    "duration": 23,
    "start_time": "2022-05-14T15:14:46.243Z"
   },
   {
    "duration": 0,
    "start_time": "2022-05-14T15:14:46.268Z"
   },
   {
    "duration": 0,
    "start_time": "2022-05-14T15:14:46.269Z"
   },
   {
    "duration": 0,
    "start_time": "2022-05-14T15:14:46.271Z"
   },
   {
    "duration": 0,
    "start_time": "2022-05-14T15:14:46.272Z"
   },
   {
    "duration": 0,
    "start_time": "2022-05-14T15:14:46.274Z"
   },
   {
    "duration": 38155,
    "start_time": "2022-05-14T15:15:10.302Z"
   },
   {
    "duration": 24,
    "start_time": "2022-05-14T15:15:48.459Z"
   },
   {
    "duration": 0,
    "start_time": "2022-05-14T15:15:48.484Z"
   },
   {
    "duration": 0,
    "start_time": "2022-05-14T15:15:48.485Z"
   },
   {
    "duration": 0,
    "start_time": "2022-05-14T15:15:48.486Z"
   },
   {
    "duration": 0,
    "start_time": "2022-05-14T15:15:48.487Z"
   },
   {
    "duration": 0,
    "start_time": "2022-05-14T15:15:48.488Z"
   },
   {
    "duration": 0,
    "start_time": "2022-05-14T15:15:48.489Z"
   },
   {
    "duration": 1747537,
    "start_time": "2022-05-14T15:16:13.743Z"
   },
   {
    "duration": 282,
    "start_time": "2022-05-14T15:45:21.282Z"
   },
   {
    "duration": 275,
    "start_time": "2022-05-14T15:45:21.566Z"
   },
   {
    "duration": 3,
    "start_time": "2022-05-14T15:45:21.844Z"
   },
   {
    "duration": 6,
    "start_time": "2022-05-14T15:45:21.849Z"
   },
   {
    "duration": 32769,
    "start_time": "2022-05-14T15:45:21.872Z"
   },
   {
    "duration": 4,
    "start_time": "2022-05-14T15:45:54.643Z"
   },
   {
    "duration": 30,
    "start_time": "2022-05-14T15:45:54.648Z"
   },
   {
    "duration": 0,
    "start_time": "2022-05-14T15:45:54.679Z"
   },
   {
    "duration": 13,
    "start_time": "2022-05-14T15:47:13.854Z"
   },
   {
    "duration": 14,
    "start_time": "2022-05-14T15:47:51.533Z"
   },
   {
    "duration": 235,
    "start_time": "2022-05-14T15:47:57.589Z"
   },
   {
    "duration": 32777,
    "start_time": "2022-05-14T15:48:27.669Z"
   },
   {
    "duration": 4,
    "start_time": "2022-05-14T15:49:00.448Z"
   },
   {
    "duration": 29,
    "start_time": "2022-05-14T15:49:00.453Z"
   },
   {
    "duration": 245,
    "start_time": "2022-05-14T15:49:00.484Z"
   },
   {
    "duration": 4,
    "start_time": "2022-05-14T15:49:25.209Z"
   },
   {
    "duration": 3,
    "start_time": "2022-05-14T15:49:26.969Z"
   },
   {
    "duration": 64651,
    "start_time": "2022-05-14T15:49:28.797Z"
   },
   {
    "duration": 3,
    "start_time": "2022-05-14T15:50:33.451Z"
   },
   {
    "duration": 24,
    "start_time": "2022-05-14T15:50:33.456Z"
   },
   {
    "duration": 253,
    "start_time": "2022-05-14T15:50:33.482Z"
   },
   {
    "duration": 3,
    "start_time": "2022-05-14T15:50:53.505Z"
   },
   {
    "duration": 3,
    "start_time": "2022-05-14T15:50:55.628Z"
   },
   {
    "duration": 62924,
    "start_time": "2022-05-14T15:50:57.533Z"
   },
   {
    "duration": 4,
    "start_time": "2022-05-14T15:52:00.459Z"
   },
   {
    "duration": 24,
    "start_time": "2022-05-14T15:52:00.465Z"
   },
   {
    "duration": 3,
    "start_time": "2022-05-14T15:52:07.721Z"
   },
   {
    "duration": 3,
    "start_time": "2022-05-14T15:52:09.481Z"
   },
   {
    "duration": 50290,
    "start_time": "2022-05-14T15:52:11.530Z"
   },
   {
    "duration": 4,
    "start_time": "2022-05-14T15:53:01.822Z"
   },
   {
    "duration": 18,
    "start_time": "2022-05-14T15:53:01.828Z"
   },
   {
    "duration": 3,
    "start_time": "2022-05-14T15:53:14.225Z"
   },
   {
    "duration": 4,
    "start_time": "2022-05-14T15:53:24.413Z"
   },
   {
    "duration": 3,
    "start_time": "2022-05-14T15:53:26.637Z"
   },
   {
    "duration": 31364,
    "start_time": "2022-05-14T15:53:28.453Z"
   },
   {
    "duration": 4,
    "start_time": "2022-05-14T15:53:59.820Z"
   },
   {
    "duration": 18,
    "start_time": "2022-05-14T15:53:59.826Z"
   },
   {
    "duration": 3,
    "start_time": "2022-05-14T15:54:16.926Z"
   },
   {
    "duration": 3,
    "start_time": "2022-05-14T15:54:19.217Z"
   },
   {
    "duration": 17750,
    "start_time": "2022-05-14T15:54:21.220Z"
   },
   {
    "duration": 4,
    "start_time": "2022-05-14T15:54:38.973Z"
   },
   {
    "duration": 17,
    "start_time": "2022-05-14T15:54:38.979Z"
   },
   {
    "duration": 3,
    "start_time": "2022-05-14T15:54:55.281Z"
   },
   {
    "duration": 22942,
    "start_time": "2022-05-14T15:54:58.100Z"
   },
   {
    "duration": 11,
    "start_time": "2022-05-14T15:55:21.043Z"
   },
   {
    "duration": 0,
    "start_time": "2022-05-14T15:55:21.056Z"
   },
   {
    "duration": 3,
    "start_time": "2022-05-14T15:55:32.227Z"
   },
   {
    "duration": 3,
    "start_time": "2022-05-14T15:55:37.420Z"
   },
   {
    "duration": 33545,
    "start_time": "2022-05-14T15:55:39.288Z"
   },
   {
    "duration": 4,
    "start_time": "2022-05-14T15:56:12.835Z"
   },
   {
    "duration": 17,
    "start_time": "2022-05-14T15:56:12.841Z"
   },
   {
    "duration": 3,
    "start_time": "2022-05-14T15:56:26.597Z"
   },
   {
    "duration": 3,
    "start_time": "2022-05-14T15:56:29.112Z"
   },
   {
    "duration": 32793,
    "start_time": "2022-05-14T15:56:31.753Z"
   },
   {
    "duration": 4,
    "start_time": "2022-05-14T15:57:04.548Z"
   },
   {
    "duration": 27,
    "start_time": "2022-05-14T15:57:04.554Z"
   },
   {
    "duration": 3,
    "start_time": "2022-05-14T15:57:32.561Z"
   },
   {
    "duration": 3,
    "start_time": "2022-05-14T15:57:34.580Z"
   },
   {
    "duration": 22784,
    "start_time": "2022-05-14T15:57:37.064Z"
   },
   {
    "duration": 4,
    "start_time": "2022-05-14T15:57:59.850Z"
   },
   {
    "duration": 25,
    "start_time": "2022-05-14T15:57:59.856Z"
   },
   {
    "duration": 3,
    "start_time": "2022-05-14T15:58:11.521Z"
   },
   {
    "duration": 3,
    "start_time": "2022-05-14T15:58:13.965Z"
   },
   {
    "duration": 16469,
    "start_time": "2022-05-14T15:58:15.985Z"
   },
   {
    "duration": 5,
    "start_time": "2022-05-14T15:58:32.456Z"
   },
   {
    "duration": 15,
    "start_time": "2022-05-14T15:58:32.470Z"
   },
   {
    "duration": 3,
    "start_time": "2022-05-14T15:58:51.348Z"
   },
   {
    "duration": 3,
    "start_time": "2022-05-14T15:58:53.384Z"
   },
   {
    "duration": 48555,
    "start_time": "2022-05-14T15:58:55.224Z"
   },
   {
    "duration": 5,
    "start_time": "2022-05-14T15:59:43.781Z"
   },
   {
    "duration": 24,
    "start_time": "2022-05-14T15:59:43.788Z"
   },
   {
    "duration": 4,
    "start_time": "2022-05-14T15:59:55.037Z"
   },
   {
    "duration": 3,
    "start_time": "2022-05-14T15:59:57.388Z"
   },
   {
    "duration": 29044,
    "start_time": "2022-05-14T15:59:59.432Z"
   },
   {
    "duration": 5,
    "start_time": "2022-05-14T16:00:28.478Z"
   },
   {
    "duration": 20,
    "start_time": "2022-05-14T16:00:28.484Z"
   },
   {
    "duration": 3,
    "start_time": "2022-05-14T16:00:37.393Z"
   },
   {
    "duration": 51673,
    "start_time": "2022-05-14T16:00:39.621Z"
   },
   {
    "duration": 4,
    "start_time": "2022-05-14T16:01:31.296Z"
   },
   {
    "duration": 31,
    "start_time": "2022-05-14T16:01:31.302Z"
   },
   {
    "duration": 4,
    "start_time": "2022-05-14T16:01:50.304Z"
   },
   {
    "duration": 69743,
    "start_time": "2022-05-14T16:01:52.133Z"
   },
   {
    "duration": 4,
    "start_time": "2022-05-14T16:03:01.878Z"
   },
   {
    "duration": 24,
    "start_time": "2022-05-14T16:03:01.884Z"
   },
   {
    "duration": 3,
    "start_time": "2022-05-14T16:03:18.849Z"
   },
   {
    "duration": 3,
    "start_time": "2022-05-14T16:03:20.997Z"
   },
   {
    "duration": 78468,
    "start_time": "2022-05-14T16:03:22.688Z"
   },
   {
    "duration": 4,
    "start_time": "2022-05-14T16:04:41.159Z"
   },
   {
    "duration": 19,
    "start_time": "2022-05-14T16:04:41.164Z"
   },
   {
    "duration": 215,
    "start_time": "2022-05-14T16:04:46.804Z"
   },
   {
    "duration": 8361,
    "start_time": "2022-05-16T12:46:33.891Z"
   },
   {
    "duration": 2490,
    "start_time": "2022-05-16T12:46:42.254Z"
   },
   {
    "duration": 1019,
    "start_time": "2022-05-16T12:46:44.746Z"
   },
   {
    "duration": 7,
    "start_time": "2022-05-16T12:46:45.768Z"
   },
   {
    "duration": 12,
    "start_time": "2022-05-16T12:46:45.778Z"
   },
   {
    "duration": 5,
    "start_time": "2022-05-16T12:46:45.792Z"
   },
   {
    "duration": 13,
    "start_time": "2022-05-16T12:46:45.798Z"
   },
   {
    "duration": 7,
    "start_time": "2022-05-16T12:46:45.812Z"
   },
   {
    "duration": 8,
    "start_time": "2022-05-16T12:46:45.820Z"
   },
   {
    "duration": 1513,
    "start_time": "2022-05-16T12:46:45.831Z"
   },
   {
    "duration": 93378,
    "start_time": "2022-05-16T12:46:47.346Z"
   },
   {
    "duration": 4,
    "start_time": "2022-05-16T12:48:20.726Z"
   },
   {
    "duration": 7,
    "start_time": "2022-05-16T12:48:20.733Z"
   },
   {
    "duration": 4673,
    "start_time": "2022-05-16T12:48:20.741Z"
   },
   {
    "duration": 4,
    "start_time": "2022-05-16T12:48:25.415Z"
   },
   {
    "duration": 8,
    "start_time": "2022-05-16T12:48:25.420Z"
   },
   {
    "duration": 9,
    "start_time": "2022-05-16T12:48:25.429Z"
   },
   {
    "duration": 6,
    "start_time": "2022-05-16T12:48:25.439Z"
   },
   {
    "duration": 303,
    "start_time": "2022-05-16T12:48:25.446Z"
   },
   {
    "duration": 39,
    "start_time": "2022-05-16T12:48:25.750Z"
   },
   {
    "duration": 6384,
    "start_time": "2022-05-16T12:48:25.791Z"
   },
   {
    "duration": 1514,
    "start_time": "2022-05-16T12:48:32.177Z"
   },
   {
    "duration": 3206,
    "start_time": "2022-05-16T12:48:43.226Z"
   },
   {
    "duration": 6,
    "start_time": "2022-05-16T12:48:46.434Z"
   },
   {
    "duration": 907,
    "start_time": "2022-05-16T12:48:46.442Z"
   },
   {
    "duration": 5,
    "start_time": "2022-05-16T12:48:47.356Z"
   },
   {
    "duration": 21,
    "start_time": "2022-05-16T12:48:47.363Z"
   },
   {
    "duration": 7,
    "start_time": "2022-05-16T12:48:47.386Z"
   },
   {
    "duration": 9,
    "start_time": "2022-05-16T12:48:47.395Z"
   },
   {
    "duration": 5,
    "start_time": "2022-05-16T12:48:47.406Z"
   },
   {
    "duration": 6,
    "start_time": "2022-05-16T12:48:47.413Z"
   },
   {
    "duration": 8,
    "start_time": "2022-05-16T12:48:47.422Z"
   },
   {
    "duration": 145899,
    "start_time": "2022-05-16T12:48:47.431Z"
   },
   {
    "duration": 4,
    "start_time": "2022-05-16T12:51:13.332Z"
   },
   {
    "duration": 17,
    "start_time": "2022-05-16T12:51:13.338Z"
   },
   {
    "duration": 4717,
    "start_time": "2022-05-16T12:51:13.363Z"
   },
   {
    "duration": 17,
    "start_time": "2022-05-16T12:51:18.082Z"
   },
   {
    "duration": 7,
    "start_time": "2022-05-16T12:51:18.101Z"
   },
   {
    "duration": 7,
    "start_time": "2022-05-16T12:51:18.110Z"
   },
   {
    "duration": 7,
    "start_time": "2022-05-16T12:51:18.119Z"
   },
   {
    "duration": 145,
    "start_time": "2022-05-16T12:51:18.128Z"
   },
   {
    "duration": 26,
    "start_time": "2022-05-16T12:51:28.285Z"
   },
   {
    "duration": 6030,
    "start_time": "2022-05-16T12:51:30.316Z"
   },
   {
    "duration": 1528,
    "start_time": "2022-05-16T12:51:36.348Z"
   },
   {
    "duration": 83,
    "start_time": "2022-05-16T12:52:57.032Z"
   },
   {
    "duration": 4,
    "start_time": "2022-05-16T12:53:22.996Z"
   },
   {
    "duration": 14,
    "start_time": "2022-05-16T12:53:25.000Z"
   },
   {
    "duration": 3,
    "start_time": "2022-05-16T12:54:19.627Z"
   },
   {
    "duration": 4,
    "start_time": "2022-05-16T12:54:23.647Z"
   },
   {
    "duration": 3,
    "start_time": "2022-05-16T12:54:27.075Z"
   },
   {
    "duration": 38051,
    "start_time": "2022-05-16T12:54:30.671Z"
   },
   {
    "duration": 13,
    "start_time": "2022-05-16T12:55:08.724Z"
   },
   {
    "duration": 0,
    "start_time": "2022-05-16T12:55:08.739Z"
   },
   {
    "duration": 0,
    "start_time": "2022-05-16T12:55:08.740Z"
   },
   {
    "duration": 3,
    "start_time": "2022-05-16T12:55:21.469Z"
   },
   {
    "duration": 223,
    "start_time": "2022-05-16T12:55:24.307Z"
   },
   {
    "duration": 213,
    "start_time": "2022-05-16T12:56:17.303Z"
   },
   {
    "duration": 3,
    "start_time": "2022-05-16T13:48:27.009Z"
   },
   {
    "duration": 3,
    "start_time": "2022-05-16T13:48:29.794Z"
   },
   {
    "duration": 3,
    "start_time": "2022-05-16T13:48:32.282Z"
   },
   {
    "duration": 225,
    "start_time": "2022-05-16T13:48:34.089Z"
   },
   {
    "duration": 3,
    "start_time": "2022-05-16T13:49:53.501Z"
   },
   {
    "duration": 2,
    "start_time": "2022-05-16T13:49:55.718Z"
   },
   {
    "duration": 2527,
    "start_time": "2022-05-16T13:49:58.057Z"
   },
   {
    "duration": 1059535,
    "start_time": "2022-05-16T13:51:32.113Z"
   },
   {
    "duration": 19,
    "start_time": "2022-05-16T14:09:11.650Z"
   },
   {
    "duration": 21,
    "start_time": "2022-05-16T14:09:11.671Z"
   },
   {
    "duration": 0,
    "start_time": "2022-05-16T14:09:11.694Z"
   },
   {
    "duration": 11,
    "start_time": "2022-05-16T14:23:12.057Z"
   },
   {
    "duration": 1408,
    "start_time": "2022-05-16T14:23:19.457Z"
   },
   {
    "duration": 386,
    "start_time": "2022-05-16T14:23:23.893Z"
   },
   {
    "duration": 4,
    "start_time": "2022-05-16T15:19:09.668Z"
   }
  ],
  "kernelspec": {
   "display_name": "Python 3",
   "language": "python",
   "name": "python3"
  },
  "language_info": {
   "codemirror_mode": {
    "name": "ipython",
    "version": 3
   },
   "file_extension": ".py",
   "mimetype": "text/x-python",
   "name": "python",
   "nbconvert_exporter": "python",
   "pygments_lexer": "ipython3",
   "version": "3.8.8"
  },
  "toc": {
   "base_numbering": 1,
   "nav_menu": {},
   "number_sections": true,
   "sideBar": true,
   "skip_h1_title": true,
   "title_cell": "Содержание",
   "title_sidebar": "Contents",
   "toc_cell": true,
   "toc_position": {
    "height": "calc(100% - 180px)",
    "left": "10px",
    "top": "150px",
    "width": "302.391px"
   },
   "toc_section_display": true,
   "toc_window_display": true
  }
 },
 "nbformat": 4,
 "nbformat_minor": 2
}
